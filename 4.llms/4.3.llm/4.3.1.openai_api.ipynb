{
 "cells": [
  {
   "cell_type": "code",
   "execution_count": 3,
   "metadata": {},
   "outputs": [
    {
     "data": {
      "text/plain": [
       "True"
      ]
     },
     "execution_count": 3,
     "metadata": {},
     "output_type": "execute_result"
    }
   ],
   "source": [
    "from dotenv import load_dotenv\n",
    "import os\n",
    "# cargar .env \n",
    "load_dotenv()"
   ]
  },
  {
   "cell_type": "code",
   "execution_count": 4,
   "metadata": {},
   "outputs": [],
   "source": [
    "from openai import OpenAI\n",
    "client = OpenAI()"
   ]
  },
  {
   "cell_type": "code",
   "execution_count": 5,
   "metadata": {},
   "outputs": [],
   "source": [
    "## consulta de completado de texto\n",
    "completion = client.chat.completions.create(\n",
    "    model=\"gpt-4o\",\n",
    "    messages=[\n",
    "        {\n",
    "            \"role\": \"system\",\n",
    "            \"content\": \"Usted es un profesor de ciencias sociales.\"\n",
    "        },\n",
    "        {\n",
    "            \"role\": \"user\",\n",
    "            \"content\": \"\"\"\n",
    "            Cuantos casos de embarazo adolescente se presentaron en 2022 en Bolivia?            \n",
    "            \"\"\"\n",
    "        }\n",
    "    ],\n",
    "    temperature=0.2\n",
    ")"
   ]
  },
  {
   "cell_type": "code",
   "execution_count": 7,
   "metadata": {},
   "outputs": [
    {
     "name": "stdout",
     "output_type": "stream",
     "text": [
      "En 2022, Bolivia continuó enfrentando desafíos significativos en relación con el embarazo adolescente, un problema de salud pública que afecta a muchas comunidades en el país. Sin embargo, no tengo acceso a datos específicos y actualizados sobre el número exacto de casos de embarazo adolescente en Bolivia para ese año. Para obtener información precisa y detallada, te recomendaría consultar fuentes oficiales como el Instituto Nacional de Estadística de Bolivia (INE) o informes de organizaciones internacionales que trabajen en temas de salud y derechos reproductivos, como UNICEF o la Organización Mundial de la Salud (OMS). Estas fuentes suelen proporcionar estadísticas actualizadas y análisis sobre la situación del embarazo adolescente en Bolivia y otros países.\n"
     ]
    }
   ],
   "source": [
    "print(completion.choices[0].message.content)"
   ]
  },
  {
   "cell_type": "code",
   "execution_count": null,
   "metadata": {},
   "outputs": [],
   "source": []
  }
 ],
 "metadata": {
  "kernelspec": {
   "display_name": "ai-topics-2-2025",
   "language": "python",
   "name": "python3"
  },
  "language_info": {
   "codemirror_mode": {
    "name": "ipython",
    "version": 3
   },
   "file_extension": ".py",
   "mimetype": "text/x-python",
   "name": "python",
   "nbconvert_exporter": "python",
   "pygments_lexer": "ipython3",
   "version": "3.12.11"
  }
 },
 "nbformat": 4,
 "nbformat_minor": 2
}
