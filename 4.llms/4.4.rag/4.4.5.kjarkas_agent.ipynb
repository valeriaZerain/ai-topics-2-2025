{
 "cells": [
  {
   "cell_type": "code",
   "execution_count": 1,
   "metadata": {},
   "outputs": [
    {
     "data": {
      "text/plain": [
       "True"
      ]
     },
     "execution_count": 1,
     "metadata": {},
     "output_type": "execute_result"
    }
   ],
   "source": [
    "from dotenv import load_dotenv\n",
    "import openai\n",
    "import os\n",
    "from llama_index.core import (\n",
    "    Settings,\n",
    "    VectorStoreIndex,\n",
    "    SimpleDirectoryReader, \n",
    "    StorageContext,\n",
    "    load_index_from_storage,\n",
    "    Document,\n",
    "    PromptTemplate\n",
    ")\n",
    "load_dotenv()"
   ]
  },
  {
   "cell_type": "code",
   "execution_count": 2,
   "metadata": {},
   "outputs": [],
   "source": [
    "from llama_index.embeddings.huggingface import HuggingFaceEmbedding\n",
    "from llama_index.llms.openai import OpenAI\n",
    "llm = OpenAI(model=\"gpt-4o-mini\")\n",
    "embed_model = HuggingFaceEmbedding(model_name=\"intfloat/multilingual-e5-base\")\n",
    "Settings.embed_model = embed_model\n",
    "Settings.llm = llm"
   ]
  },
  {
   "cell_type": "code",
   "execution_count": 3,
   "metadata": {},
   "outputs": [],
   "source": [
    "def get_artist_documents(filename: str) -> list[Document]:\n",
    "    with open(filename) as file:\n",
    "        data = file.read()\n",
    "    songs = data.split(\"===\")\n",
    "    artist = songs.pop(0).strip()\n",
    "    \n",
    "    documents = [\n",
    "        Document(\n",
    "            text=song,\n",
    "            metadata={\n",
    "                \"category\":\"music\",\n",
    "                \"artist\": artist,\n",
    "            }\n",
    "        )\n",
    "        for song in songs\n",
    "    ]    \n",
    "    return documents"
   ]
  },
  {
   "cell_type": "code",
   "execution_count": 4,
   "metadata": {},
   "outputs": [],
   "source": [
    "import os\n",
    "PERSIST_DIR = \"lyrics_store2\"\n",
    "\n",
    "if not os.path.exists(PERSIST_DIR):\n",
    "    documents = get_artist_documents(\"8988_Kjarkas.txt\")\n",
    "    index = VectorStoreIndex.from_documents(documents, show_progress=True)\n",
    "    index.storage_context.persist(persist_dir=PERSIST_DIR)\n",
    "else:\n",
    "    storage_context = StorageContext.from_defaults(persist_dir=PERSIST_DIR) \n",
    "    index = load_index_from_storage(storage_context)"
   ]
  },
  {
   "cell_type": "code",
   "execution_count": 5,
   "metadata": {},
   "outputs": [],
   "source": [
    "query_engine = index.as_query_engine()"
   ]
  },
  {
   "cell_type": "code",
   "execution_count": 6,
   "metadata": {},
   "outputs": [],
   "source": [
    "qa_template_str = \"\"\"\n",
    "    You are an expert in Bolivian Folk music, your task is to guide and teach the user \n",
    "    about your field. Answer the user queries only with supported data in your context.\n",
    "    Your context may contain complete lyrics or parts of them in different languages, but\n",
    "    your answer will always be in Spanish. \n",
    "\n",
    "    Context information is below.\n",
    "    ---------------------\n",
    "    {context_str}\n",
    "    ---------------------\n",
    "    Given the context information and not prior knowledge, \n",
    "    answer the query with detailed source information, include direct quotes and use bullet lists in your \n",
    "    answers, in one of the bullets detail the tone/sentiment of the song.\n",
    "    Query: {query_str}\n",
    "    Answer: \n",
    "\"\"\"\n",
    "qa_template = PromptTemplate(qa_template_str)"
   ]
  },
  {
   "cell_type": "code",
   "execution_count": 7,
   "metadata": {},
   "outputs": [],
   "source": [
    "query_engine.update_prompts(\n",
    "    {\"response_synthesizer:text_qa_template\": qa_template}\n",
    ")"
   ]
  },
  {
   "cell_type": "code",
   "execution_count": 16,
   "metadata": {},
   "outputs": [
    {
     "data": {
      "text/markdown": [
       "Tupay es una agrupación musical folclórica de Bolivia formada en 1996 en Cochabamba por Edwin Castellanos y Fernando Torrico, quienes integraron por más de 10 años el grupo Los Kjarkas para después formar Pacha.\n",
       "Actualmente la agrupación cuenta con Iver Villarroel como la primera voz del grupo y a Edwin Castellanos como director del grupo. \n",
       "Entre sus canciones más conocidas se encuentran \"Ay, amor\", \"Ay, no sé qué tienes\", \"América Latina\", \"Mal acostumbrado\", \"La saya\", \"Soy caporal\" y en su último disco tenemos \"Cholita\" y \"Saya Reina\". La palabra \"tupay\" significa \"punto de encuentro\" en quechua.\n",
       "Section: Biografía (1):\n",
       "Tanto Edwin Castellanos como Fernando Torrico ingresaron de muy jóvenes en la escuela musical de Los Kjarkas a principios de los 80, formando parte de Proyección-Kjarkas, un conjunto que más adelante derivaría en Proyección. Aparte de esto, Fernando Torrico ya había grabado algún trabajo en solitario y formó parte del grupo Fortaleza junto con Ramiro de la Zerda.\n",
       "Esta temprana experiencia resultó básica en el perfeccionamiento artístico para nuestros dos artistas, que además les sirvió como trampolín para integrar el legendario grupo Los Kjarkas durante buena parte de los años 80 y principios de los 90, para muchos, la mejor formación que ha tenido Los Kjarkas en toda su dilatada historia.\n",
       "Es precisamente en 1995 cuando Edwin y Fernando forman el grupo Pacha junto con otros dos integrantes de Los Kjarkas: Élmer Hermosa y Gastón Guardia. Pero tras grabar un solo disco, se separan definitivamente de Los Kjarkas y constituyen el dúo Tupay, marchan a Los Ángeles, EE. UU., y graban su primer trabajo bajo la dirección de Bebu Silvetti: América Latina.Llegaron a participar en la grabación del disco De mi alma latina II de nada más y nada menos que Plácido Domingo.\n",
       "En 2006, Fernando Torrico abandona el dúo Tupay y es reemplazado por Rimer Guachalla grabando el disco Con Corazón último disco conocido del Dúo.\n",
       "En 2018, debuta como su primera voz el cantante orureño, Iver Villarroel.\n",
       "Subsections (0):\n",
       "\n",
       "Section: Discografía (1):\n",
       "1996 Música de toda la vida (disco grabado con el nombre de los integrantes, aún no como Tupay)\n",
       "1997 América Latina\n",
       "1998 Buscando Paz\n",
       "1998 Folklore\n",
       "2000 Carnaval - Coplas del nuevo milenio\n",
       "2000 Sin fronteras\n",
       "2000 Así es Bolivia\n",
       "2001 Antología de la cueca\n",
       "2002 Folklore con vida\n",
       "2003 Colección de música en tu casa\n",
       "2003 Viernes de soltero\n",
       "2005 Tupay\n",
       "2005 Love songs of América Latina\n",
       "2006 Con corazón\n",
       "2017 Rosas\n",
       "2018 Cuecas con Bandoneón\n",
       "2024 Folklore Con Altura\n",
       "Subsections (0):\n"
      ],
      "text/plain": [
       "<IPython.core.display.Markdown object>"
      ]
     },
     "metadata": {},
     "output_type": "display_data"
    }
   ],
   "source": [
    "import wikipediaapi\n",
    "\n",
    "def get_artist_wikipedia_info(artist: str) -> str:\n",
    "    \"\"\"\n",
    "        Useful for getting artist information from wikipedia\n",
    "        Use plain text as input to the tool, this should be the name of an artist or a band.\n",
    "        The output of this tool is the summary of the wikipedia page corresponding to the artist.\n",
    "    \"\"\"\n",
    "    wiki = wikipediaapi.Wikipedia(\"Test Wikipedia (eduardo.laruta@gmail.com)\", \"es\")\n",
    "    page = wiki.page(artist)\n",
    "    if not page.exists():\n",
    "        return f\"Wikipedia page for {artist} does not exist\"\n",
    "    # print(\"====\")\n",
    "    # print(page.sections[0])\n",
    "    # print(\"====\")\n",
    "    return f\"{page.summary}\\n{page.sections[0]}\\n{page.sections[1]}\"\n",
    "\n",
    "display(Markdown(get_artist_wikipedia_info(\"tupay\")))"
   ]
  },
  {
   "cell_type": "code",
   "execution_count": 17,
   "metadata": {},
   "outputs": [],
   "source": [
    "from llama_index.agent.openai import OpenAIAgent\n",
    "from llama_index.core.tools import QueryEngineTool, FunctionTool, ToolMetadata\n",
    "\n",
    "description = \"\"\"\n",
    "A set of lyrics for songs from the Bolivian Folk Group Los Kjarkas. \n",
    "Use plain text question as input to the tool. \n",
    "MANDATORY: Pass the response to the user as is, mantaining the format, do not try to summarize when using this tool.\n",
    "\"\"\"\n",
    "tools = [\n",
    "    QueryEngineTool(\n",
    "        query_engine=query_engine,\n",
    "        metadata=ToolMetadata(\n",
    "            name=\"Kjarkas_songs_lyrics\",\n",
    "            description=description,\n",
    "            return_direct=False\n",
    "        )\n",
    "    ),\n",
    "    FunctionTool.from_defaults(get_artist_wikipedia_info)\n",
    "]\n"
   ]
  },
  {
   "cell_type": "code",
   "execution_count": 18,
   "metadata": {},
   "outputs": [],
   "source": [
    "agent = OpenAIAgent.from_tools(tools=tools, verbose=True)"
   ]
  },
  {
   "cell_type": "code",
   "execution_count": 19,
   "metadata": {},
   "outputs": [
    {
     "name": "stdout",
     "output_type": "stream",
     "text": [
      "Added user message to memory: que canciones de los kjarkas hablan de traicion?\n",
      "=== Calling Function ===\n",
      "Calling function: Kjarkas_songs_lyrics with args: {\"input\":\"canciones de los kjarkas que hablan de traicion\"}\n",
      "Got output: Las canciones de Kjarkas que abordan el tema de la traición incluyen:\n",
      "\n",
      "- **\"Mi pecado\"**\n",
      "  - Esta canción trata sobre el dolor y la decepción que siente el narrador tras haber sido engañado por el amor. \n",
      "  - Fragmentos relevantes:\n",
      "    - \"Mi pecado fue quererte y haber caído en tu trampa\"\n",
      "    - \"Víctima de tus caprichos, hoy he visto claramente\"\n",
      "    - \"Yo creí en tus palabras sin saber que me engañabas\"\n",
      "  - **Tono/Sentimiento**: La canción tiene un tono melancólico y reflexivo, expresando tristeza y resignación ante la traición.\n",
      "\n",
      "- **\"Tiempo Al Tiempo\"**\n",
      "  - Aunque no se centra exclusivamente en la traición, refleja el dolor causado por las palabras de alguien que ha decepcionado al narrador.\n",
      "  - Fragmentos relevantes:\n",
      "    - \"Me duelen tus palabras con que mastas mis ilusiones\"\n",
      "    - \"Le daremos tiempo al tiempo, él nos dirá qué sucede\"\n",
      "  - **Tono/Sentimiento**: La canción transmite un sentimiento de tristeza y anhelo, con un enfoque en la esperanza de que el tiempo cure las heridas.\n",
      "\n",
      "Estas canciones son ejemplos claros de cómo Kjarkas explora el tema de la traición y el dolor emocional en sus letras.\n",
      "========================\n",
      "\n"
     ]
    }
   ],
   "source": [
    "response = agent.chat(\"que canciones de los kjarkas hablan de traicion?\")"
   ]
  },
  {
   "cell_type": "code",
   "execution_count": 20,
   "metadata": {},
   "outputs": [
    {
     "data": {
      "text/markdown": [
       "Las canciones de Kjarkas que abordan el tema de la traición incluyen:\n",
       "\n",
       "- **\"Mi pecado\"**\n",
       "  - Esta canción trata sobre el dolor y la decepción que siente el narrador tras haber sido engañado por el amor. \n",
       "  - Fragmentos relevantes:\n",
       "    - \"Mi pecado fue quererte y haber caído en tu trampa\"\n",
       "    - \"Víctima de tus caprichos, hoy he visto claramente\"\n",
       "    - \"Yo creí en tus palabras sin saber que me engañabas\"\n",
       "  - **Tono/Sentimiento**: La canción tiene un tono melancólico y reflexivo, expresando tristeza y resignación ante la traición.\n",
       "\n",
       "- **\"Tiempo Al Tiempo\"**\n",
       "  - Aunque no se centra exclusivamente en la traición, refleja el dolor causado por las palabras de alguien que ha decepcionado al narrador.\n",
       "  - Fragmentos relevantes:\n",
       "    - \"Me duelen tus palabras con que mastas mis ilusiones\"\n",
       "    - \"Le daremos tiempo al tiempo, él nos dirá qué sucede\"\n",
       "  - **Tono/Sentimiento**: La canción transmite un sentimiento de tristeza y anhelo, con un enfoque en la esperanza de que el tiempo cure las heridas.\n",
       "\n",
       "Estas canciones son ejemplos claros de cómo Kjarkas explora el tema de la traición y el dolor emocional en sus letras."
      ],
      "text/plain": [
       "<IPython.core.display.Markdown object>"
      ]
     },
     "metadata": {},
     "output_type": "display_data"
    }
   ],
   "source": [
    "from IPython.display import Markdown, display\n",
    "display(Markdown(response.response))"
   ]
  },
  {
   "cell_type": "code",
   "execution_count": 21,
   "metadata": {},
   "outputs": [
    {
     "name": "stdout",
     "output_type": "stream",
     "text": [
      "Added user message to memory: y quienes son ellos?\n",
      "=== Calling Function ===\n",
      "Calling function: get_artist_wikipedia_info with args: {\"artist\":\"Los Kjarkas\"}\n",
      "Got output: Los Kjarkas  es un conjunto de música folklórica originado en Capinota, Cochabamba, Bolivia. Fue formado por los hermanos Wilson Hermosa,​ Gonzalo Hermosa, Castel Hermosa​ y Edgar Villaroel. Alcanzaron popularidad nacional e internacional. Los compositores del conjunto fueron: Ulises Hermosa,​ Élmer Hermosa, Edgar Villaroel, Edwin Castellanos, Fernando Torrico, Gastón Guardia y Guillermo Ponce.\n",
      "Section: Origen del nombre (1):\n",
      "El nombre “Kjarkas” proviene del Quechua “Valiente,” o sea que la significación del nombre Los Kjarkas, sería: \"Los Valientes\" o \"Los con Coraje.\"\n",
      "Subsections (0):\n",
      "\n",
      "Section: Historia (1):\n",
      "En principio, Los Kjarkas surgió, debido a una necesidad económica de sus integrantes, por lo cual el grupo iba de pueblo en pueblo, tocando principalmente zambas argentinas, pues la música autóctona de Bolivia aún no tenía suficiente repercusión. Sin embargo, poco a poco, diversas peñas comenzaron a hacer hacer eco de ritmos más propios del país como la cueca, el huayño o el bailecito de compositores como Simeón Roncal, Gilberto Rojas o Teófilo Vargas. Es en estos años cuando Los Kjarkas, debido a su empuje e iniciativas transformadoras, que forjan sus cimientos musicales que más tarde les generarían sus primeros éxitos.\n",
      "Tras esos inicios, todos los integrantes menos uno, abandonan el grupo y Gonzalo Hermosa refunda el grupo con los nuevos músicos: Elmer Hermosa, Eddy Carpio, Antonio Canelas y Alcides Mejía, y durante más de 10 años Los Kjarkas se van perfeccionando en la composición e interpretación de la música andina.​ Se presentan en La Paz por primera vez en 1975 tras tocar en fiestas privadas principalmente. Ese mismo año representaron a su país en el festival de música folklórica de Brasil.\n",
      "Fue a través de José “Danger” Salamanca que Alcides Mejia conoció a los hermanos Hermosa: Elmer, Ulises y Gonzalo. Los hermanos mayores Wilson, Castel, Gonzalo y Edgar, integraban el grupo inicial de los Kjarkas, los que regresando de su viaje a Chile, decidieron apartarse de los Kjarkas, quedando desarticulado el grupo por mucho tiempo.\n",
      "Alcides fue participante y cofundador de la 1.ª Restructuración de Kjarkas, en el año 1974 junto a Ulises y Elmer.\n",
      "Durante algunos años, Los Kjarkas se dedican a perfeccionar un estilo de música propio, adaptando ritmos autóctonos a la estructura musical de ritmos criollos, dando prioridad a las intervenciones de instrumentos de viento y de ronroco, con arreglos corales. Es así que en 1975 se presentan en La Paz y empiezan a grabar al año siguiente su primer disco.\n",
      "Integrantes: Ulises Hermosa, Élmer Hermosa, Alcides Mejia, José Antonio Canelas y Edgar Villarroel. Terminada la grabación, Alcides Mejia dejó el grupo por un desacuerdo con Ulises y Elmer basado en la voluntad de estos de continuar con sus estudios.\n",
      "En el año 1976 publicaron en México su primer álbum “Bolivia” con el sello discográfico Heriba. Consta de 9 canciones, casi todas ellas compuestas por Gonzalo Hermosa, entre las cuales se encuentra “Bolivia”, canción que alcanzó gran popularidad.\n",
      "Con el éxito ya ganado, el grupo se nutre de otros dos hermanos Hermosa: Ulises y Élmer, Toño Canelas, Gastón Guardia, Guillermo Ponce y Édgar Villarroel (homónimo del fundador).\n",
      "En 1977 y 1978 llegan dos álbumes publicados bajo el nombre de Fortaleza (por restricciones contractuales) con canciones de raíces folklóricas y que más tarde, en 1995, serían reeditados en un solo CD con el nombre de “Sueño milenario de los Andes.” De la misma manera, en 1979 el disco \"Kutimuy\" sale a la luz, grabacion en que se destaca el tema que lleva el mismo nombre, iniciando la nueva generación y renacer de los kjarkas de la mano de Élmer Hermosa, Julio Lavayen, Ulises Hermosa y Gastón Guardia. El grupo se fue haciendo más popular, organizando giras no sólo por Bolivia, sino por toda Sudamérica, Europa, Estados Unidos y Japón.\n",
      "En 1980 publican “Cóndor Mallku”. El disco incluye canciones de índole románticas, marcando un alejamiento del folklore tradicional.\n",
      "En 1981 con el disco \"Canto a la mujer de mi pueblo\" llegan las canciones más icónicas y populares de la agrupación como \"Wayayay\" y «Llorando se fue» teniendo como participación en el charango a Gonzalo Hermosa, debido al alejamiento de Julio Lavayen. Tiempo después se reincorpora al grupo Julio Lavayen en el Charango, Ramiro de la Zerda en guitarra y Raúl Muriel en los instrumentos de viento en el álbum “Desde el alma de mi pueblo”, con participación en la canción \"Sunchu t'ikitay\".\n",
      "En 1984 Los Kjarkas fueron invitados al X Festival de Yamaha de la Canción donde competían más de 1800 canciones de todo el mundo para el primer premio. La composición de Ulises Hermosa “Florcita azul” quedó en el décimo lugar. Este evento abrió a Los Kjarkas al mercado japonés.​\n",
      "A finales de los 80 un incidente dio a Los Kjarkas una fama y repercusión mundial mayor. El grupo Kaoma lanzó la canción «Chorando se foi», o la «Lambada», que se bailaba a ritmo caribeño. La canción resultó ser un plagio de «Llorando se fue», la composición de Ulises Hermosa, editada en 1984 a ritmo de saya caporal. Esta canción estaba registrada en Alemania y por ello Kaoma tuvo que indemnizar a Los Kjarkas con una suma de dinero que no se hizo pública.\n",
      "Hicieron paso por la agrupación los músicos Edwin Castellanos y Fernando Torrico, que más tarde abandonarían el grupo para formar el dúo Tupay.\n",
      "En 1990 editan el único álbum en el que no cantan, titulado “Ch’uwa yacu”. En 1992 el grupo se vio fuertemente resentido por la enfermedad del compositor Ulises Hermosa. Tras viajar a Estados Unidos, muere de un cáncer en Houston. Antes de morir concluyó su canción “El árbol de mi destino”. Al año siguiente Los Kjarkas publican el disco “Hermanos”, que incluye la composición del desaparecido Ulises “Tarajchi” pero con letra añadida por su hermano Gonzalo, que describe la historia y sentires de la familia Hermosa.\n",
      "En los años 90 se incorporaron al grupo Ronaldo Malpartida, Eduardo Yáñez, Alcídes Mejía, Miguel Mengoa y José Luis Morales. Siguieron cosechando éxitos como “Señora su hija”, “Mi pecado”, “Ave de cristal”, “A los 500 años”, “La pícara” y “El líder de los humildes”.\n",
      "En 1997 Los Kjarkas publican su primer vídeo “Por siempre…” en el que se televisa la presentación del disco en el Hotel Presidente.\n",
      "El nuevo milenio trae importantes cambios en Los Kjarkas, el grupo se rejuvenece con nuevos y jóvenes artistas: Gonzalo Hermosa Jr. Lin Angulo y el japonés Makoto Shishido. Ello da un nuevo enfoque a las composiciones como “Lección de vida”, “Saya sensual”, “Kamanchaca” etc. En el año 2006 Los Kjarkas publican su último disco hasta el momento “35 años” que conmemora el aniversario de la aparición del grupo. En 2016 Los Kjarkas publican su disco \"La Leyenda Viva\", en conmemoración de sus 45 Años de carrera artística.\n",
      "En 1995 Alcides es llamado a formar parte de la 2.ª restructuración de Kjarkas, puesto que el Proyecto “Pacha” tomó el tiempo de Elmer, Gastón, Edwin y Fernando, dejando en un largo receso de 1 año a Kjarkas, (tiempo y estrategia que usó Gonzalo Hermosa para sacar del grupo a Fernando Torrico y Edwin Castellanos), para luego al finalizar el Proyecto “Pacha” sólo Gastón y Elmer volvieran a reintegrarse al grupo. Fue un trabajo de más de 1 año, preparando el terreno para el relanzamiento y nueva restructuración de Kjarkas, además de preparar el repertorio tanto para el concierto, así como para el Álbum 25 Aniversario: “Kjarkas por Siempre” los que fueron realizados en la ciudad de La Paz Bolivia.\n",
      "Integrantes: Rolando Malpartida, Elmer Hermosa, Alcides Mejia, Gastón Guardia, Eduardo Yáñez y Gonzalo Hermosa\n",
      "“Kjarkas por Siempre” Álbum grabado en los Estudios Discolandia para el sello RCA en La Paz, Bolivia, en 1996 técnico: Fredy Roca\n",
      "Luego de más de 2 años de giras, ensayos, viajes, grabaciones, filmaciones y entrevistas.\n",
      "Subsections (0):\n",
      "\n",
      "========================\n",
      "\n"
     ]
    }
   ],
   "source": [
    "response = agent.chat(\"y quienes son ellos?\")"
   ]
  },
  {
   "cell_type": "code",
   "execution_count": 22,
   "metadata": {},
   "outputs": [
    {
     "data": {
      "text/markdown": [
       "Los Kjarkas es un conjunto de música folklórica originado en Capinota, Cochabamba, Bolivia. Fue formado por los hermanos Wilson Hermosa, Gonzalo Hermosa, Castel Hermosa y Edgar Villaroel. Alcanzaron popularidad tanto a nivel nacional como internacional. Los compositores del grupo incluyen a Ulises Hermosa, Élmer Hermosa, Edgar Villaroel, Edwin Castellanos, Fernando Torrico, Gastón Guardia y Guillermo Ponce.\n",
       "\n",
       "El nombre “Kjarkas” proviene del Quechua y significa \"Valiente\", lo que se traduce como \"Los Valientes\" o \"Los con Coraje.\"\n",
       "\n",
       "### Historia\n",
       "Los Kjarkas surgieron inicialmente por una necesidad económica, tocando en diferentes pueblos y comenzando con zambas argentinas. Con el tiempo, comenzaron a incorporar ritmos autóctonos de Bolivia, como la cueca y el huayño. A lo largo de los años, el grupo ha experimentado varios cambios en su formación y ha evolucionado en su estilo musical, adaptando ritmos autóctonos a estructuras musicales más modernas.\n",
       "\n",
       "En 1976, publicaron su primer álbum titulado “Bolivia”, que incluye la famosa canción \"Bolivia\". A partir de ahí, su popularidad creció, organizando giras no solo por Bolivia, sino también por Sudamérica, Europa, Estados Unidos y Japón.\n",
       "\n",
       "A lo largo de su carrera, han lanzado numerosos álbumes y han creado canciones icónicas como \"Llorando se fue\" y \"Wayayay\". A pesar de los desafíos, incluyendo la pérdida de algunos de sus miembros, Los Kjarkas han mantenido su legado y continúan siendo una de las agrupaciones más representativas de la música folklórica boliviana."
      ],
      "text/plain": [
       "<IPython.core.display.Markdown object>"
      ]
     },
     "metadata": {},
     "output_type": "display_data"
    }
   ],
   "source": [
    "display(Markdown(response.response))\n"
   ]
  },
  {
   "cell_type": "code",
   "execution_count": 24,
   "metadata": {},
   "outputs": [
    {
     "name": "stdout",
     "output_type": "stream",
     "text": [
      "Added user message to memory: y cual es su cancion mas popular?\n"
     ]
    },
    {
     "data": {
      "text/markdown": [
       "Una de las canciones más populares de Los Kjarkas es **\"Llorando se fue\"**. Esta canción se ha convertido en un clásico de la música folklórica boliviana y ha alcanzado reconocimiento internacional. La melodía y la letra emotiva han resonado con muchas personas, y la canción ha sido versionada por varios artistas en diferentes géneros. Además, su popularidad se vio incrementada cuando fue plagiada por el grupo Kaoma en la famosa canción \"Lambada\", lo que llevó a Los Kjarkas a recibir una indemnización. \"Llorando se fue\" sigue siendo un símbolo del legado musical de Los Kjarkas."
      ],
      "text/plain": [
       "<IPython.core.display.Markdown object>"
      ]
     },
     "metadata": {},
     "output_type": "display_data"
    }
   ],
   "source": [
    "display(Markdown(agent.chat(\"y cual es su cancion mas popular?\").response))"
   ]
  },
  {
   "cell_type": "code",
   "execution_count": null,
   "metadata": {},
   "outputs": [],
   "source": []
  }
 ],
 "metadata": {
  "kernelspec": {
   "display_name": "ai-topics-2-2025",
   "language": "python",
   "name": "python3"
  },
  "language_info": {
   "codemirror_mode": {
    "name": "ipython",
    "version": 3
   },
   "file_extension": ".py",
   "mimetype": "text/x-python",
   "name": "python",
   "nbconvert_exporter": "python",
   "pygments_lexer": "ipython3",
   "version": "3.12.11"
  }
 },
 "nbformat": 4,
 "nbformat_minor": 2
}
