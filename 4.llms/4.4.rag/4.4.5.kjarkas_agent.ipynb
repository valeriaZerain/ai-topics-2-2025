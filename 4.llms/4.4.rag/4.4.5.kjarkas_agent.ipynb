{
 "cells": [
  {
   "cell_type": "code",
   "execution_count": 1,
   "metadata": {},
   "outputs": [
    {
     "data": {
      "text/plain": [
       "True"
      ]
     },
     "execution_count": 1,
     "metadata": {},
     "output_type": "execute_result"
    }
   ],
   "source": [
    "from dotenv import load_dotenv\n",
    "import openai\n",
    "import os\n",
    "from llama_index.core import (\n",
    "    Settings,\n",
    "    VectorStoreIndex,\n",
    "    SimpleDirectoryReader, \n",
    "    StorageContext,\n",
    "    load_index_from_storage,\n",
    "    Document,\n",
    "    PromptTemplate\n",
    ")\n",
    "load_dotenv()"
   ]
  },
  {
   "cell_type": "code",
   "execution_count": 2,
   "metadata": {},
   "outputs": [],
   "source": [
    "from llama_index.embeddings.huggingface import HuggingFaceEmbedding\n",
    "from llama_index.llms.openai import OpenAI\n",
    "llm = OpenAI(model=\"gpt-4o-mini\")\n",
    "embed_model = HuggingFaceEmbedding(model_name=\"intfloat/multilingual-e5-base\")\n",
    "Settings.embed_model = embed_model\n",
    "Settings.llm = llm"
   ]
  },
  {
   "cell_type": "code",
   "execution_count": 3,
   "metadata": {},
   "outputs": [],
   "source": [
    "def get_artist_documents(filename: str) -> list[Document]:\n",
    "    with open(filename) as file:\n",
    "        data = file.read()\n",
    "    songs = data.split(\"===\")\n",
    "    artist = songs.pop(0).strip()\n",
    "    \n",
    "    documents = [\n",
    "        Document(\n",
    "            text=song,\n",
    "            metadata={\n",
    "                \"category\":\"music\",\n",
    "                \"artist\": artist,\n",
    "            }\n",
    "        )\n",
    "        for song in songs\n",
    "    ]    \n",
    "    return documents"
   ]
  },
  {
   "cell_type": "code",
   "execution_count": 4,
   "metadata": {},
   "outputs": [],
   "source": [
    "import os\n",
    "PERSIST_DIR = \"lyrics_store2\"\n",
    "\n",
    "if not os.path.exists(PERSIST_DIR):\n",
    "    documents = get_artist_documents(\"8988_Kjarkas.txt\")\n",
    "    index = VectorStoreIndex.from_documents(documents, show_progress=True)\n",
    "    index.storage_context.persist(persist_dir=PERSIST_DIR)\n",
    "else:\n",
    "    storage_context = StorageContext.from_defaults(persist_dir=PERSIST_DIR) \n",
    "    index = load_index_from_storage(storage_context)"
   ]
  },
  {
   "cell_type": "code",
   "execution_count": 5,
   "metadata": {},
   "outputs": [],
   "source": [
    "query_engine = index.as_query_engine()"
   ]
  },
  {
   "cell_type": "code",
   "execution_count": 6,
   "metadata": {},
   "outputs": [],
   "source": [
    "qa_template_str = \"\"\"\n",
    "    You are an expert in Bolivian Folk music, your task is to guide and teach the user \n",
    "    about your field. Answer the user queries only with supported data in your context.\n",
    "    Your context may contain complete lyrics or parts of them in different languages, but\n",
    "    your answer will always be in Spanish. \n",
    "\n",
    "    Context information is below.\n",
    "    ---------------------\n",
    "    {context_str}\n",
    "    ---------------------\n",
    "    Given the context information and not prior knowledge, \n",
    "    answer the query with detailed source information, include direct quotes and use bullet lists in your \n",
    "    answers, in one of the bullets detail the tone/sentiment of the song.\n",
    "    Query: {query_str}\n",
    "    Answer: \n",
    "\"\"\"\n",
    "qa_template = PromptTemplate(qa_template_str)"
   ]
  },
  {
   "cell_type": "code",
   "execution_count": 7,
   "metadata": {},
   "outputs": [],
   "source": [
    "query_engine.update_prompts(\n",
    "    {\"response_synthesizer:text_qa_template\": qa_template}\n",
    ")"
   ]
  },
  {
   "cell_type": "code",
   "execution_count": 8,
   "metadata": {},
   "outputs": [],
   "source": [
    "from llama_index.agent.openai import OpenAIAgent\n",
    "from llama_index.core.tools import QueryEngineTool, ToolMetadata\n",
    "\n",
    "description = \"\"\"\n",
    "A set of lyrics for songs from the Bolivian Folk Group Los Kjarkas. \n",
    "Use plain text question as input to the tool. \n",
    "MANDATORY: Pass the response to the user as is, mantaining the format, do not try to summarize when using this tool.\n",
    "\"\"\"\n",
    "tools = [\n",
    "    QueryEngineTool(\n",
    "        query_engine=query_engine,\n",
    "        metadata=ToolMetadata(\n",
    "            name=\"Kjarkas_songs_lyrics\",\n",
    "            description=description,\n",
    "            return_direct=False\n",
    "        )\n",
    "    )\n",
    "]\n",
    "agent = OpenAIAgent.from_tools(tools=tools, verbose=True)"
   ]
  },
  {
   "cell_type": "code",
   "execution_count": null,
   "metadata": {},
   "outputs": [
    {
     "name": "stdout",
     "output_type": "stream",
     "text": [
      "Added user message to memory: que canciones de los kjarkas hablan de traicion?\n",
      "=== Calling Function ===\n",
      "Calling function: Kjarkas_songs_lyrics with args: {\"input\":\"canciones de los kjarkas que hablan de traicion\"}\n",
      "Got output: Las canciones de Kjarkas que hablan de traición incluyen:\n",
      "\n",
      "- **\"Mi pecado\"**\n",
      "  - Esta canción trata sobre el dolor de haber creído en las palabras de alguien que resultó ser engañoso. \n",
      "  - Frases clave:\n",
      "    - \"Mi pecado fue quererte y haber caído en tu trampa\"\n",
      "    - \"Yo creí en tus palabras sin saber que me engañabas\"\n",
      "  - **Sentimiento**: La canción expresa un profundo sentimiento de traición y desilusión, pero también una disposición a amar nuevamente a pesar del dolor.\n",
      "\n",
      "- **\"Tiempo Al Tiempo\"**\n",
      "  - Aunque esta canción no trata directamente sobre la traición, sí refleja el dolor y la decepción que pueden surgir de relaciones complicadas.\n",
      "  - Frases clave:\n",
      "    - \"Me duelen tus palabras con que mastas mis ilusiones\"\n",
      "    - \"Le daremos tiempo al tiempo, él nos dirá qué sucede\"\n",
      "  - **Sentimiento**: La canción tiene un tono melancólico y reflexivo, donde se siente la tristeza por las ilusiones perdidas.\n",
      "\n",
      "Ambas canciones reflejan la complejidad de las relaciones y el impacto emocional que puede tener la traición.\n",
      "========================\n",
      "\n"
     ]
    }
   ],
   "source": [
    "response = agent.chat(\"que canciones de los kjarkas hablan de traicion?\")"
   ]
  },
  {
   "cell_type": "code",
   "execution_count": 10,
   "metadata": {},
   "outputs": [
    {
     "data": {
      "text/markdown": [
       "Las canciones de Los Kjarkas que hablan de traición incluyen:\n",
       "\n",
       "- **\"Mi pecado\"**\n",
       "  - Esta canción trata sobre el dolor de haber creído en las palabras de alguien que resultó ser engañoso. \n",
       "  - Frases clave:\n",
       "    - \"Mi pecado fue quererte y haber caído en tu trampa\"\n",
       "    - \"Yo creí en tus palabras sin saber que me engañabas\"\n",
       "  - **Sentimiento**: La canción expresa un profundo sentimiento de traición y desilusión, pero también una disposición a amar nuevamente a pesar del dolor.\n",
       "\n",
       "- **\"Tiempo Al Tiempo\"**\n",
       "  - Aunque esta canción no trata directamente sobre la traición, sí refleja el dolor y la decepción que pueden surgir de relaciones complicadas.\n",
       "  - Frases clave:\n",
       "    - \"Me duelen tus palabras con que mastas mis ilusiones\"\n",
       "    - \"Le daremos tiempo al tiempo, él nos dirá qué sucede\"\n",
       "  - **Sentimiento**: La canción tiene un tono melancólico y reflexivo, donde se siente la tristeza por las ilusiones perdidas.\n",
       "\n",
       "Ambas canciones reflejan la complejidad de las relaciones y el impacto emocional que puede tener la traición."
      ],
      "text/plain": [
       "<IPython.core.display.Markdown object>"
      ]
     },
     "metadata": {},
     "output_type": "display_data"
    }
   ],
   "source": [
    "from IPython.display import Markdown, display\n",
    "display(Markdown(response.response))"
   ]
  },
  {
   "cell_type": "code",
   "execution_count": 11,
   "metadata": {},
   "outputs": [
    {
     "name": "stdout",
     "output_type": "stream",
     "text": [
      "Added user message to memory: cuales hablan sobre la naturaleza?\n",
      "=== Calling Function ===\n",
      "Calling function: Kjarkas_songs_lyrics with args: {\"input\":\"canciones de los kjarkas que hablan sobre la naturaleza\"}\n",
      "Got output: Los Kjarkas son conocidos por su rica conexión con la naturaleza en sus letras. Aunque las canciones \"Canto a la mujer de mi pueblo\" y \"Canto a la madre\" no se centran exclusivamente en la naturaleza, sí incluyen referencias que evocan el entorno natural y su belleza. Aquí te detallo algunos aspectos de estas canciones que hablan sobre la naturaleza:\n",
      "\n",
      "- **Referencias a la geografía**: \n",
      "  - En \"Canto a la mujer de mi pueblo\", se menciona \"morena piel de montañas y pueblos perdidos\", lo que sugiere una conexión profunda con el paisaje montañoso de Bolivia.\n",
      "  - En \"Canto a la madre\", se hace eco de la misma idea con \"morena piel de montañas y pueblos perdidos\".\n",
      "\n",
      "- **Elementos de la naturaleza**:\n",
      "  - La letra de \"Canto a la mujer de mi pueblo\" menciona \"Luz del fogon que lleva fuego de amor que se aviva\", lo que puede interpretarse como una referencia a la naturaleza y la vida que esta proporciona.\n",
      "  - En ambas canciones, se habla de \"caricias de tierra\", lo que refuerza la conexión con el entorno natural.\n",
      "\n",
      "- **Sentimiento de esperanza**:\n",
      "  - Ambas canciones transmiten un tono de esperanza y ternura, como se refleja en la línea \"tierno canto de esperanza\" en \"Canto a la madre\".\n",
      "\n",
      "En resumen, aunque no son canciones que hablen exclusivamente sobre la naturaleza, las letras de Kjarkas están impregnadas de referencias a la geografía y el entorno natural, lo que refleja su amor y respeto por la tierra.\n",
      "========================\n",
      "\n"
     ]
    }
   ],
   "source": [
    "response = agent.chat(\"cuales hablan sobre la naturaleza?\")"
   ]
  },
  {
   "cell_type": "code",
   "execution_count": 12,
   "metadata": {},
   "outputs": [
    {
     "data": {
      "text/markdown": [
       "Los Kjarkas son conocidos por su rica conexión con la naturaleza en sus letras. Aunque las canciones \"Canto a la mujer de mi pueblo\" y \"Canto a la madre\" no se centran exclusivamente en la naturaleza, sí incluyen referencias que evocan el entorno natural y su belleza. Aquí te detallo algunos aspectos de estas canciones que hablan sobre la naturaleza:\n",
       "\n",
       "- **Referencias a la geografía**: \n",
       "  - En \"Canto a la mujer de mi pueblo\", se menciona \"morena piel de montañas y pueblos perdidos\", lo que sugiere una conexión profunda con el paisaje montañoso de Bolivia.\n",
       "  - En \"Canto a la madre\", se hace eco de la misma idea con \"morena piel de montañas y pueblos perdidos\".\n",
       "\n",
       "- **Elementos de la naturaleza**:\n",
       "  - La letra de \"Canto a la mujer de mi pueblo\" menciona \"Luz del fogon que lleva fuego de amor que se aviva\", lo que puede interpretarse como una referencia a la naturaleza y la vida que esta proporciona.\n",
       "  - En ambas canciones, se habla de \"caricias de tierra\", lo que refuerza la conexión con el entorno natural.\n",
       "\n",
       "- **Sentimiento de esperanza**:\n",
       "  - Ambas canciones transmiten un tono de esperanza y ternura, como se refleja en la línea \"tierno canto de esperanza\" en \"Canto a la madre\".\n",
       "\n",
       "En resumen, aunque no son canciones que hablen exclusivamente sobre la naturaleza, las letras de Kjarkas están impregnadas de referencias a la geografía y el entorno natural, lo que refleja su amor y respeto por la tierra."
      ],
      "text/plain": [
       "<IPython.core.display.Markdown object>"
      ]
     },
     "metadata": {},
     "output_type": "display_data"
    }
   ],
   "source": [
    "display(Markdown(response.response))"
   ]
  },
  {
   "cell_type": "code",
   "execution_count": null,
   "metadata": {},
   "outputs": [],
   "source": []
  }
 ],
 "metadata": {
  "kernelspec": {
   "display_name": "ai-topics-2-2025",
   "language": "python",
   "name": "python3"
  },
  "language_info": {
   "codemirror_mode": {
    "name": "ipython",
    "version": 3
   },
   "file_extension": ".py",
   "mimetype": "text/x-python",
   "name": "python",
   "nbconvert_exporter": "python",
   "pygments_lexer": "ipython3",
   "version": "3.12.11"
  }
 },
 "nbformat": 4,
 "nbformat_minor": 2
}
