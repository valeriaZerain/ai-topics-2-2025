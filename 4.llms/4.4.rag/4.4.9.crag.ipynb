{
 "cells": [
  {
   "cell_type": "markdown",
   "id": "3f530fab",
   "metadata": {},
   "source": [
    "# CRAG\n",
    "\n",
    "### Workflow:\n",
    "\n",
    "1. Ingestion de datos\n",
    "2. Retrieval\n",
    "3. Evaluación de Relevancia*\n",
    "4. Extracción de Relevancia\n",
    "5. Transformación de la consulta y búsqueda en la web (tavily)\n",
    "6. Generación de la respuesta"
   ]
  },
  {
   "cell_type": "markdown",
   "id": "15f82dc8",
   "metadata": {},
   "source": [
    "### Eventos\n",
    "\n",
    " 1. `PrepEvent`: El indice y otros objetos estan preparados.\n",
    " 2. `RetrieveEvent`: El evento tiene informacion de nodos recuperados.\n",
    " 3. `RelevanceEvalEvent`: El contiene una lista de resultados de la evaluación de relevancia.\n",
    " 4. `TextExtractEvent`: Contiene una cadena con el texto relevante.\n",
    " 5. `QueryEvent`: Contiene ambos: texto relevante y texto de la busqueda."
   ]
  },
  {
   "cell_type": "code",
   "execution_count": 1,
   "id": "72a83419",
   "metadata": {},
   "outputs": [
    {
     "name": "stderr",
     "output_type": "stream",
     "text": [
      "/Users/jose.laruta/dev/topics/ai-topics-2-2025/.venv/lib/python3.12/site-packages/pydantic/_internal/_generate_schema.py:2249: UnsupportedFieldAttributeWarning: The 'validate_default' attribute with value True was provided to the `Field()` function, which has no effect in the context it was used. 'validate_default' is field-specific metadata, and can only be attached to a model field using `Annotated` metadata or by assignment. This may have happened because an `Annotated` type alias using the `type` statement was used, or if the `Field()` function was attached to a single member of a union type.\n",
      "  warnings.warn(\n"
     ]
    }
   ],
   "source": [
    "from llama_index.core.workflow import Event\n",
    "from llama_index.core.schema import NodeWithScore"
   ]
  },
  {
   "cell_type": "code",
   "execution_count": 2,
   "id": "d4da6f70",
   "metadata": {},
   "outputs": [],
   "source": [
    "class PrepEvent(Event):\n",
    "    \"\"\"Prep event (prepares for retrieval).\"\"\"\n",
    "    pass\n",
    "\n",
    "class RetrieveEvent(Event):\n",
    "    \"\"\"Retrieve event (gets retrieved nodes).\"\"\"\n",
    "    retrieved_nodes: list[NodeWithScore]\n",
    "\n",
    "class RelevanceEvalEvent(Event):\n",
    "    \"\"\"Relevance evaluation event (gets results of relevance evaluation).\"\"\"\n",
    "    relevant_results: list[str]\n",
    "\n",
    "class TextExtractEvent(Event):\n",
    "    \"\"\"Text extract event. Extracts relevant text and concatenates.\"\"\"\n",
    "    relevant_text: str\n",
    "\n",
    "class QueryEvent(Event):\n",
    "    \"\"\"Query event. Queries given relevant text and search text.\"\"\"\n",
    "    relevant_text: str\n",
    "    search_text: str"
   ]
  },
  {
   "cell_type": "code",
   "execution_count": 3,
   "id": "74f90fac",
   "metadata": {},
   "outputs": [],
   "source": [
    "from llama_index.core.workflow import (\n",
    "    Workflow,\n",
    "    step,\n",
    "    Context,\n",
    "    StartEvent,\n",
    "    StopEvent,\n",
    ")\n",
    "from llama_index.core import (\n",
    "    VectorStoreIndex,\n",
    "    Document,\n",
    "    PromptTemplate,\n",
    "    SummaryIndex,\n",
    ")"
   ]
  },
  {
   "cell_type": "code",
   "execution_count": 4,
   "id": "bcd34e96",
   "metadata": {},
   "outputs": [],
   "source": [
    "from llama_index.tools.tavily_research.base import TavilyToolSpec\n",
    "from llama_index.core.base.base_retriever import BaseRetriever\n",
    "from llama_index.llms.openai import OpenAI"
   ]
  },
  {
   "cell_type": "code",
   "execution_count": 5,
   "id": "5c8ebc7a",
   "metadata": {},
   "outputs": [],
   "source": [
    "DEFAULT_RELEVANCY_PROMPT_TEMPLATE = PromptTemplate(\n",
    "    template=\"\"\"As a grader, your task is to evaluate the relevance of a document retrieved in response to a user's question.\n",
    "\n",
    "    Retrieved Document:\n",
    "    -------------------\n",
    "    {context_str}\n",
    "\n",
    "    User Question:\n",
    "    --------------\n",
    "    {query_str}\n",
    "\n",
    "    Evaluation Criteria:\n",
    "    - Consider whether the document contains keywords or topics related to the user's question.\n",
    "    - The evaluation should not be overly stringent; the primary objective is to identify and filter out clearly irrelevant retrievals.\n",
    "\n",
    "    Decision:\n",
    "    - Assign a binary score to indicate the document's relevance.\n",
    "    - Use 'yes' if the document is relevant to the question, or 'no' if it is not.\n",
    "\n",
    "    Please provide your binary score ('yes' or 'no') below to indicate the document's relevance to the user question.\"\"\"\n",
    ")\n"
   ]
  },
  {
   "cell_type": "code",
   "execution_count": 33,
   "id": "174766b0",
   "metadata": {},
   "outputs": [],
   "source": [
    "DEFAULT_TRANSFORM_QUERY_TEMPLATE = PromptTemplate(\n",
    "    template=\"\"\"Your task is to refine a query to ensure it is highly effective for retrieving relevant search results. \\n\n",
    "    Analyze the given input to grasp the core semantic intent or meaning. \\n\n",
    "    Original Query:\n",
    "    \\n ------- \\n\n",
    "    {query_str}\n",
    "    \\n ------- \\n\n",
    "    Your goal is to rephrase or enhance this query to improve its search performance. Ensure the revised query is concise and directly aligned with the intended search objective. \\n\n",
    "    Respond with the optimized query only:\"\"\"\n",
    ")"
   ]
  },
  {
   "cell_type": "code",
   "execution_count": 24,
   "id": "05212705",
   "metadata": {},
   "outputs": [],
   "source": [
    "class CorrectiveRAGWorkflow(Workflow):\n",
    "    @step\n",
    "    async def ingest(self, ctx: Context, ev: StartEvent) -> StopEvent | None:\n",
    "        \"\"\"Ingest step (for ingesting docs and initializing index).\"\"\"\n",
    "        documents: list[Document] | None = ev.get(\"documents\")\n",
    "\n",
    "        if documents is None:\n",
    "            return None\n",
    "\n",
    "        index = VectorStoreIndex.from_documents(documents)\n",
    "        return StopEvent(result=index)\n",
    "    \n",
    "    @step\n",
    "    async def prepare_for_retrieval(\n",
    "        self, ctx: Context, ev: StartEvent\n",
    "    ) -> PrepEvent | None:\n",
    "        \"\"\"Prepare for retrieval.\"\"\"\n",
    "\n",
    "        query_str: str | None = ev.get(\"query_str\")\n",
    "        retriever_kwargs: dict | None = ev.get(\"retriever_kwargs\", {})\n",
    "\n",
    "        if query_str is None:\n",
    "            return None\n",
    "\n",
    "        tavily_ai_apikey: str | None = ev.get(\"tavily_ai_apikey\")\n",
    "        index = ev.get(\"index\")\n",
    "\n",
    "        llm = OpenAI(model=\"gpt-4\")\n",
    "\n",
    "        await ctx.store.set(\"llm\", llm)\n",
    "        await ctx.store.set(\"index\", index)\n",
    "        await ctx.store.set(\n",
    "            \"tavily_tool\", TavilyToolSpec(api_key=tavily_ai_apikey)\n",
    "        )\n",
    "\n",
    "        await ctx.store.set(\"query_str\", query_str)\n",
    "        await ctx.store.set(\"retriever_kwargs\", retriever_kwargs)\n",
    "\n",
    "        return PrepEvent()\n",
    "    \n",
    "    @step\n",
    "    async def retrieve(\n",
    "        self, ctx: Context, ev: PrepEvent\n",
    "    ) -> RetrieveEvent | None:\n",
    "        \"\"\"Retrieve the relevant nodes for the query.\"\"\"\n",
    "        query_str = await ctx.store.get(\"query_str\")\n",
    "        retriever_kwargs = await ctx.store.get(\"retriever_kwargs\")\n",
    "\n",
    "        if query_str is None:\n",
    "            return None\n",
    "\n",
    "        index = await ctx.store.get(\"index\", default=None)\n",
    "        tavily_tool = await ctx.store.get(\"tavily_tool\", default=None)\n",
    "        if not (index or tavily_tool):\n",
    "            raise ValueError(\n",
    "                \"Index and tavily tool must be constructed. Run with 'documents' and 'tavily_ai_apikey' params first.\"\n",
    "            )\n",
    "\n",
    "        retriever: BaseRetriever = index.as_retriever(**retriever_kwargs)\n",
    "        result = retriever.retrieve(query_str)\n",
    "        print(f\"=====> retrieved: {len(result)} nodes: {[(i, r.score) for i,r in enumerate(result)]}\")\n",
    "        await ctx.store.set(\"retrieved_nodes\", result)\n",
    "        await ctx.store.set(\"query_str\", query_str)\n",
    "        return RetrieveEvent(retrieved_nodes=result)\n",
    "    \n",
    "    @step\n",
    "    async def eval_relevance(\n",
    "        self, ctx: Context, ev: RetrieveEvent\n",
    "    ) -> RelevanceEvalEvent:\n",
    "        \"\"\"Evaluate relevancy of retrieved documents with the query.\"\"\"\n",
    "        retrieved_nodes = ev.retrieved_nodes\n",
    "        query_str = await ctx.store.get(\"query_str\")\n",
    "\n",
    "        relevancy_results = []\n",
    "        for node in retrieved_nodes:\n",
    "            llm = await ctx.store.get(\"llm\")\n",
    "            resp = await llm.acomplete(\n",
    "                DEFAULT_RELEVANCY_PROMPT_TEMPLATE.format(\n",
    "                    context_str=node.text, query_str=query_str\n",
    "                )\n",
    "            )\n",
    "            relevancy_results.append(resp.text.lower().strip())\n",
    "        print(f\"=====> relevancies: {relevancy_results}\")\n",
    "        await ctx.store.set(\"relevancy_results\", relevancy_results)\n",
    "        return RelevanceEvalEvent(relevant_results=relevancy_results)\n",
    "    \n",
    "    @step\n",
    "    async def extract_relevant_texts(\n",
    "        self, ctx: Context, ev: RelevanceEvalEvent\n",
    "    ) -> TextExtractEvent:\n",
    "        \"\"\"Extract relevant texts from retrieved documents.\"\"\"\n",
    "        retrieved_nodes = await ctx.store.get(\"retrieved_nodes\")\n",
    "        relevancy_results = ev.relevant_results\n",
    "\n",
    "        relevant_texts = [\n",
    "            retrieved_nodes[i].text\n",
    "            for i, result in enumerate(relevancy_results)\n",
    "            if result == \"yes\"\n",
    "        ]\n",
    "        print(f\"=====> relevant_texts: {len(relevant_texts)}\")\n",
    "        result = \"\\n\".join(relevant_texts)\n",
    "        return TextExtractEvent(relevant_text=result)\n",
    "    \n",
    "    @step\n",
    "    async def transform_query(\n",
    "        self, ctx: Context, ev: TextExtractEvent\n",
    "    ) -> QueryEvent:\n",
    "        \"\"\"Search the transformed query with Tavily API.\"\"\"\n",
    "        relevant_text = ev.relevant_text\n",
    "        relevancy_results = await ctx.store.get(\"relevancy_results\")\n",
    "        query_str = await ctx.store.get(\"query_str\")\n",
    "\n",
    "        # If any document is found irrelevant, transform the query string for better search results.\n",
    "        if \"no\" in relevancy_results:\n",
    "            llm = await ctx.store.get(\"llm\")\n",
    "            resp = await llm.acomplete(\n",
    "                DEFAULT_TRANSFORM_QUERY_TEMPLATE.format(query_str=query_str)\n",
    "            )\n",
    "            transformed_query_str = resp.text\n",
    "            print(f\"=====> transformed query: {transformed_query_str}\")\n",
    "            # Conduct a search with the transformed query string and collect the results.\n",
    "            tavily_tool = await ctx.store.get(\"tavily_tool\")\n",
    "            search_results = tavily_tool.search(\n",
    "                transformed_query_str, max_results=5\n",
    "            )\n",
    "            search_text = \"\\n\".join([result.text for result in search_results])\n",
    "            print(f\"=====> search text: {search_text}\")\n",
    "        else:\n",
    "            search_text = \"\"\n",
    "\n",
    "        return QueryEvent(relevant_text=relevant_text, search_text=search_text)\n",
    "    \n",
    "    @step\n",
    "    async def query_result(self, ctx: Context, ev: QueryEvent) -> StopEvent:\n",
    "        \"\"\"Get result with relevant text.\"\"\"\n",
    "        relevant_text = ev.relevant_text\n",
    "        search_text = ev.search_text\n",
    "        query_str = await ctx.store.get(\"query_str\")\n",
    "\n",
    "        documents = [Document(text=relevant_text + \"\\n\" + search_text)]\n",
    "        index = SummaryIndex.from_documents(documents)\n",
    "        query_engine = index.as_query_engine()\n",
    "        result = query_engine.query(query_str)\n",
    "        return StopEvent(result=result)"
   ]
  },
  {
   "cell_type": "code",
   "execution_count": 7,
   "id": "5f309d9a",
   "metadata": {},
   "outputs": [
    {
     "name": "stdout",
     "output_type": "stream",
     "text": [
      "CRAG.html\n"
     ]
    }
   ],
   "source": [
    "from llama_index.utils.workflow import draw_all_possible_flows\n",
    "\n",
    "draw_all_possible_flows(\n",
    "    CorrectiveRAGWorkflow,\n",
    "    filename=\"CRAG.html\",\n",
    "    # Optional, can limit long event names in your workflow\n",
    "    # Can help with readability\n",
    "    # max_label_length=10,\n",
    ")"
   ]
  },
  {
   "cell_type": "markdown",
   "id": "35440fe0",
   "metadata": {},
   "source": [
    "## Corriendo el workflow"
   ]
  },
  {
   "cell_type": "code",
   "execution_count": 12,
   "id": "6779d327",
   "metadata": {},
   "outputs": [
    {
     "data": {
      "text/plain": [
       "True"
      ]
     },
     "execution_count": 12,
     "metadata": {},
     "output_type": "execute_result"
    }
   ],
   "source": [
    "from llama_index.core import SimpleDirectoryReader\n",
    "from dotenv import load_dotenv\n",
    "load_dotenv()"
   ]
  },
  {
   "cell_type": "code",
   "execution_count": 29,
   "id": "07528c57",
   "metadata": {},
   "outputs": [],
   "source": [
    "documents = SimpleDirectoryReader(\"./data\").load_data()"
   ]
  },
  {
   "cell_type": "code",
   "execution_count": 34,
   "id": "11a3db45",
   "metadata": {},
   "outputs": [],
   "source": [
    "workflow = CorrectiveRAGWorkflow(verbose=True)"
   ]
  },
  {
   "cell_type": "code",
   "execution_count": 31,
   "id": "424acb2e",
   "metadata": {},
   "outputs": [
    {
     "name": "stdout",
     "output_type": "stream",
     "text": [
      "Running step ingest\n"
     ]
    },
    {
     "name": "stderr",
     "output_type": "stream",
     "text": [
      "2025-10-17 08:44:03,012 - INFO - HTTP Request: POST https://api.openai.com/v1/embeddings \"HTTP/1.1 200 OK\"\n",
      "2025-10-17 08:44:04,668 - INFO - HTTP Request: POST https://api.openai.com/v1/embeddings \"HTTP/1.1 200 OK\"\n"
     ]
    },
    {
     "name": "stdout",
     "output_type": "stream",
     "text": [
      "Step ingest produced event StopEvent\n",
      "Running step prepare_for_retrieval\n",
      "Step prepare_for_retrieval produced no event\n"
     ]
    }
   ],
   "source": [
    "index = await workflow.run(documents=documents)"
   ]
  },
  {
   "cell_type": "code",
   "execution_count": 35,
   "id": "e8c71041",
   "metadata": {},
   "outputs": [
    {
     "name": "stdout",
     "output_type": "stream",
     "text": [
      "Running step ingest\n",
      "Step ingest produced no event\n",
      "Running step prepare_for_retrieval\n",
      "Step prepare_for_retrieval produced event PrepEvent\n",
      "Running step retrieve\n"
     ]
    },
    {
     "name": "stderr",
     "output_type": "stream",
     "text": [
      "2025-10-17 08:45:05,053 - INFO - HTTP Request: POST https://api.openai.com/v1/embeddings \"HTTP/1.1 200 OK\"\n"
     ]
    },
    {
     "name": "stdout",
     "output_type": "stream",
     "text": [
      "=====> retrieved: 2 nodes: [(0, 0.8964927840661618), (1, 0.8649018795244673)]\n",
      "Step retrieve produced event RetrieveEvent\n",
      "Running step eval_relevance\n"
     ]
    },
    {
     "name": "stderr",
     "output_type": "stream",
     "text": [
      "2025-10-17 08:45:06,151 - INFO - HTTP Request: POST https://api.openai.com/v1/chat/completions \"HTTP/1.1 200 OK\"\n",
      "2025-10-17 08:45:07,017 - INFO - HTTP Request: POST https://api.openai.com/v1/chat/completions \"HTTP/1.1 200 OK\"\n"
     ]
    },
    {
     "name": "stdout",
     "output_type": "stream",
     "text": [
      "=====> relevancies: ['yes', 'no']\n",
      "Step eval_relevance produced event RelevanceEvalEvent\n",
      "Running step extract_relevant_texts\n",
      "=====> relevant_texts: 1\n",
      "Step extract_relevant_texts produced event TextExtractEvent\n",
      "Running step transform_query\n"
     ]
    },
    {
     "name": "stderr",
     "output_type": "stream",
     "text": [
      "2025-10-17 08:45:08,102 - INFO - HTTP Request: POST https://api.openai.com/v1/chat/completions \"HTTP/1.1 200 OK\"\n"
     ]
    },
    {
     "name": "stdout",
     "output_type": "stream",
     "text": [
      "=====> transformed query: \"Statistics on teenage pregnancies in Bolivia in 2022\"\n",
      "=====> search text: The maternal mortality ratio in 2020 was estimated at 160.9 deaths per 100 000 live births, representing a 43.3% reduction compared to the estimated value in 2000 (Figure 5). In relation to fertility, it is estimated that in 2024 women had an average of 2.5 children throughout their reproductive lives. In the specific case of adolescent fertility, there was a 31.7% decrease, from 94.3 live births per 1000 women aged 15 to 19 years in 2000 to 64.4 in 2024. In 2022, 98.2% of births were attended [...] by skilled birth personnel. [...] Between 2003 and 2022, infant mortality in Bolivia (the Plurinational State of) decreased from 54 to 20.44 deaths per 1000 live births, a decrease of 62.1% (Figure 4). The percentage of low-weight births (less than 2500 g) increased from 4.0% to 5.4% between 2001 and 2022. While exclusive breastfeeding in the child population up to 6 months of age was 53.6% in 2008 and 60.4% in 2018 (the latest year for which information is available).\n",
      "| Belize | 23·7% (18·7–29·6) | 24·1% (19·4–29·5) | 24·3% (19·7–29·7) | 21·0% (17·6–24·8) | 19·7% (16·4–23·5) | 17·3% (14·5–20·5) | −1·5 (−2·5 to −0·5) |\n",
      "| Bolivia | 18·6% (15·4–22·4) | 15·5% (13·2–18·3) | 15·6% (13·5–18·0) | 17·9% (15·9–20·2) | 15·8% (13·8–18·0) | 17·1% (14·9–19·5) | 0·0 (−0·6 to 0·6) |\n",
      "| Colombia | 14·1% (12·7–15·6) | 16·6% (15·0–18·2) | 19·4% (17·5–21·5) | 21·8% (20·0–23·8) | 20·0% (18·2–22·0) | 19·5% (17·9–21·1) | 1·2 (0·8 to 1·5) | [...] | Jamaica | 27·6% (23·3–32·4) | 25·6% (21·6–30·1) | 21·9% (18·8–25·4) | 23·7% (19·7–28·2) | 19·5% (15·9–23·7) | 14·9% (12·2–18·0) | −2·4 (−3·3 to −1·6) |\n",
      "| Mexico | 13·0% (10·0–16·6) | 17·2% (14·0–20·8) | 13·9% (11·7–16·5) | 18·7% (15·2–22·9) | 16·6% (13·5–20·2) | 20·5% (17·8–23·5) | 1·3 (0·5 to 2·0) |\n",
      "| Paraguay | 14·0% (10·8–17·8) | 16·8% (13·4–20·8) | 19·6% (16·2–23·5) | 16·8% (13·8–20·2) | 15·3% (12·7–18·2) | 14·8% (12·5–17·4) | −0·2 (−0·9 to 0·5) | [...] | Peru | 13·4% (11·7–15·3) | 13·9% (12·2–15·7) | 14·9% (13·5–16·5) | 14·3% (13·0–15·7) | 15·0% (13·6–16·5) | 11·4% (10·2–12·7) | −0·4 (−0·7 to −0·0) |\n",
      "| Saint Lucia | 23·5% (17·1–31·5) | 20·6% (15·0–27·5) | 15·0% (9·5–22·8) | 18·1% (12·3–25·9) | 12·1% (7·2–19·6) | 9·3% (6·0–14·0) | −2·7 (−4·0 to −1·4) |\n",
      "| Suriname | 18·8% (15·4–22·6) | 15·0% (11·9–18·7) | 15·7% (12·1–20·3) | 16·5% (13·8–19·6) | 13·7% (11·1–16·8) | 13·2% (11·0–15·8) | −0·9 (−1·6 to −0·2) |\n",
      "Benchmarking child-related SDGs\n",
      "        \n",
      "        Bolivia (Plurinational State of)\n",
      "        \n",
      "        Country overview\n",
      "        \n",
      "        Child population\n",
      "        \n",
      "        Total population\n",
      "        \n",
      "        4,401,114\n",
      "        \n",
      "        12,244,159\n",
      "        \n",
      "           SDG Progress Data\n",
      "           Country profiles by topic (PDF):\n",
      "            \n",
      "               Child Marriage\n",
      "               Immunization\n",
      "               Nutrition\n",
      "               Benchmarking child-related SDGs [...] Country overview\n",
      "        \n",
      "        Child population\n",
      "        \n",
      "        Total population\n",
      "        \n",
      "        13,739,645\n",
      "        \n",
      "        28,372,687\n",
      "        \n",
      "           SDG Progress Data\n",
      "           CVRS Data\n",
      "           Country profiles by topic (PDF):\n",
      "            \n",
      "               Child Marriage\n",
      "               FGM\n",
      "               Immunization\n",
      "               Malaria\n",
      "               Maternal and Newborn Health Disparities\n",
      "               Nutrition\n",
      "               PMTCT [...] Country overview\n",
      "        \n",
      "        Child population\n",
      "        \n",
      "        Total population\n",
      "        \n",
      "        1,282,483\n",
      "        \n",
      "        2,697,845\n",
      "        \n",
      "           SDG Progress Data\n",
      "           CVRS Data\n",
      "           Country profiles by topic (PDF):\n",
      "            \n",
      "               Child Marriage\n",
      "               FGM\n",
      "               Immunization\n",
      "               Maternal and Newborn Health Disparities\n",
      "               Nutrition\n",
      "               Benchmarking child-related SDGs\n",
      "Universal health coverage (UHC) service coverage index: Average coverage of essential services based on tracer interventions that include reproductive, maternal, newborn and child health, infectious diseases, non-communicable diseases and service capacity and access, among the general and the most disadvantaged population. (SDG indicator 3.8.1) Adolescent birth rate: Number of births per 1,000 adolescent girls aged 15–19. (SDG indicator 3.7.2) Child marriage by age 18: Proportion of women aged [...] modern method: United Nations Population Division 2025. Unmet need for family planning: United Nations Population Division, 2025. Proportion of demand satisfied with modern methods: United Nations Population Division, 2025. Laws and regulations that guarantee access to sexual and reproductive health care, information and education: UNFPA, 2022. Universal health coverage (UHC) service coverage index: WHO, 2023. Adolescent birth rate: United Nations Population Division, 2025. Regional aggregates [...] indicator 3.3.1) Contraceptive prevalence rate: Percentage of women aged 15 to 49 years who are currently using any method of contraception. Contraceptive prevalence rate, modern method: Percentage of women aged 15 to 49 years who are currently using any modern method of contraception. Unmet need for family planning: Percentage of women aged 15 to 49 years who want to stop or delay childbearing but are not using a method of contraception. Proportion of demand satisfied with modern methods:\n",
      "| Bahrain | 2023 | 7.5 |\n",
      "| Bangladesh | 2023 | 73.2 |\n",
      "| Barbados | 2023 | 45.3 |\n",
      "| Belarus | 2023 | 8.6 |\n",
      "| Belgium | 2023 | 3.7 |\n",
      "| Belize | 2023 | 55.2 |\n",
      "| Benin | 2023 | 77.8 |\n",
      "| Bermuda | 2023 | 1.5 |\n",
      "| Bhutan | 2023 | 9.4 |\n",
      "| Bolivia | 2023 | 64.8 |\n",
      "| Bosnia and Herzegovina | 2023 | 11.2 |\n",
      "| Botswana | 2023 | 53.8 |\n",
      "| Brazil | 2023 | 42.7 |\n",
      "| British Virgin Islands | 2023 | 15.3 |\n",
      "| Brunei Darussalam | 2023 | 8.5 |\n",
      "| Bulgaria | 2023 | 39.1 |\n",
      "| Burkina Faso | 2023 | 87.1 | [...] Most recent year available\n",
      " 2023\n",
      " 2022\n",
      " 2021\n",
      " 2020\n",
      " 2019\n",
      " 2018\n",
      " 2017\n",
      " 2016\n",
      " 2015\n",
      " 2014\n",
      " 2013\n",
      " 2012\n",
      " 2011\n",
      " 2010\n",
      " 2009\n",
      " 2008\n",
      " 2007\n",
      " 2006\n",
      " 2005\n",
      " 2004\n",
      " 2003\n",
      " 2002\n",
      " 2001\n",
      " 2000\n",
      " 1999\n",
      " 1998\n",
      " 1997\n",
      " 1996\n",
      " 1995\n",
      " 1994\n",
      " 1993\n",
      " 1992\n",
      " 1991\n",
      " 1990\n",
      " 1989\n",
      " 1988\n",
      " 1987\n",
      " 1986\n",
      " 1985\n",
      " 1984\n",
      " 1983\n",
      " 1982\n",
      " 1981\n",
      " 1980\n",
      " 1979\n",
      " 1978\n",
      " 1977\n",
      " 1976\n",
      " 1975\n",
      " 1974\n",
      " 1973\n",
      " 1972\n",
      " 1971\n",
      " 1970\n",
      " 1969\n",
      " 1968\n",
      " 1967\n",
      " 1966\n",
      " 1965\n",
      " 1964\n",
      " 1963\n",
      " 1962\n",
      " 1961\n",
      " 1960\n",
      "\n",
      "Data missing for 0 economies\n",
      "\n",
      "Source [...] ## Related Indicators\n",
      "\n",
      " Fertility rate, total (births per woman)\n",
      " Wanted fertility rate (births per woman)\n",
      " Birth rate, crude (per 1,000 people)\n",
      " Maternal mortality ratio (per 100,000 live births)\n",
      "\n",
      "## Related Content\n",
      "\n",
      "See all data stories\n",
      "\n",
      "## The Social and Educational Consequences of Adolescent Childbearing(opens in a new tab)\n",
      "Step transform_query produced event QueryEvent\n",
      "Running step query_result\n"
     ]
    },
    {
     "name": "stderr",
     "output_type": "stream",
     "text": [
      "2025-10-17 08:45:14,020 - INFO - HTTP Request: POST https://api.openai.com/v1/chat/completions \"HTTP/1.1 200 OK\"\n"
     ]
    },
    {
     "name": "stdout",
     "output_type": "stream",
     "text": [
      "Step query_result produced event StopEvent\n"
     ]
    }
   ],
   "source": [
    "import os\n",
    "from IPython.display import Markdown, display\n",
    "\n",
    "tavily_ai_api_key = os.getenv(\"TAVILY_API_KEY\")\n",
    "\n",
    "response = await workflow.run(\n",
    "    query_str=\"Cuantos embarazos adolescentes se registraron en 2022 en bolivia?\",\n",
    "    index=index,\n",
    "    tavily_ai_apikey=tavily_ai_api_key,\n",
    ")"
   ]
  },
  {
   "cell_type": "code",
   "execution_count": 36,
   "id": "a60c5159",
   "metadata": {},
   "outputs": [
    {
     "data": {
      "text/markdown": [
       "Se registraron un total de 35,250 casos de embarazos adolescentes en Bolivia en 2022."
      ],
      "text/plain": [
       "<IPython.core.display.Markdown object>"
      ]
     },
     "metadata": {},
     "output_type": "display_data"
    }
   ],
   "source": [
    "display(Markdown(str(response)))"
   ]
  },
  {
   "cell_type": "code",
   "execution_count": 37,
   "id": "1ce04df1",
   "metadata": {},
   "outputs": [
    {
     "name": "stdout",
     "output_type": "stream",
     "text": [
      "Running step ingest\n",
      "Step ingest produced no event\n",
      "Running step prepare_for_retrieval\n",
      "Step prepare_for_retrieval produced event PrepEvent\n",
      "Running step retrieve\n"
     ]
    },
    {
     "name": "stderr",
     "output_type": "stream",
     "text": [
      "2025-10-17 08:46:55,789 - INFO - HTTP Request: POST https://api.openai.com/v1/embeddings \"HTTP/1.1 200 OK\"\n"
     ]
    },
    {
     "name": "stdout",
     "output_type": "stream",
     "text": [
      "=====> retrieved: 2 nodes: [(0, 0.894294828274153), (1, 0.8654738292205189)]\n",
      "Step retrieve produced event RetrieveEvent\n",
      "Running step eval_relevance\n"
     ]
    },
    {
     "name": "stderr",
     "output_type": "stream",
     "text": [
      "2025-10-17 08:46:57,478 - INFO - HTTP Request: POST https://api.openai.com/v1/chat/completions \"HTTP/1.1 200 OK\"\n",
      "2025-10-17 08:46:58,664 - INFO - HTTP Request: POST https://api.openai.com/v1/chat/completions \"HTTP/1.1 200 OK\"\n"
     ]
    },
    {
     "name": "stdout",
     "output_type": "stream",
     "text": [
      "=====> relevancies: ['no', 'no']\n",
      "Step eval_relevance produced event RelevanceEvalEvent\n",
      "Running step extract_relevant_texts\n",
      "=====> relevant_texts: 0\n",
      "Step extract_relevant_texts produced event TextExtractEvent\n",
      "Running step transform_query\n"
     ]
    },
    {
     "name": "stderr",
     "output_type": "stream",
     "text": [
      "2025-10-17 08:46:59,701 - INFO - HTTP Request: POST https://api.openai.com/v1/chat/completions \"HTTP/1.1 200 OK\"\n"
     ]
    },
    {
     "name": "stdout",
     "output_type": "stream",
     "text": [
      "=====> transformed query: \"Statistics on teenage pregnancies in Bolivia in 2024\"\n",
      "=====> search text: | Belize | 23·7% (18·7–29·6) | 24·1% (19·4–29·5) | 24·3% (19·7–29·7) | 21·0% (17·6–24·8) | 19·7% (16·4–23·5) | 17·3% (14·5–20·5) | −1·5 (−2·5 to −0·5) |\n",
      "| Bolivia | 18·6% (15·4–22·4) | 15·5% (13·2–18·3) | 15·6% (13·5–18·0) | 17·9% (15·9–20·2) | 15·8% (13·8–18·0) | 17·1% (14·9–19·5) | 0·0 (−0·6 to 0·6) |\n",
      "| Colombia | 14·1% (12·7–15·6) | 16·6% (15·0–18·2) | 19·4% (17·5–21·5) | 21·8% (20·0–23·8) | 20·0% (18·2–22·0) | 19·5% (17·9–21·1) | 1·2 (0·8 to 1·5) | [...] | Jamaica | 27·6% (23·3–32·4) | 25·6% (21·6–30·1) | 21·9% (18·8–25·4) | 23·7% (19·7–28·2) | 19·5% (15·9–23·7) | 14·9% (12·2–18·0) | −2·4 (−3·3 to −1·6) |\n",
      "| Mexico | 13·0% (10·0–16·6) | 17·2% (14·0–20·8) | 13·9% (11·7–16·5) | 18·7% (15·2–22·9) | 16·6% (13·5–20·2) | 20·5% (17·8–23·5) | 1·3 (0·5 to 2·0) |\n",
      "| Paraguay | 14·0% (10·8–17·8) | 16·8% (13·4–20·8) | 19·6% (16·2–23·5) | 16·8% (13·8–20·2) | 15·3% (12·7–18·2) | 14·8% (12·5–17·4) | −0·2 (−0·9 to 0·5) | [...] | Ecuador | 14·6% (12·9–16·5) | 18·4% (16·3–20·7) | 21·0% (19·0–23·0) | 21·8% (20·1–23·7) | 22·1% (20·2–24·0) | 10·9% (9·7–12·2) | −0·9 (−1·2 to −0·5) |\n",
      "| El Salvador | 23·9% (21·1–27·0) | 23·0% (20·3–26·0) | 24·1% (21·4–26·9) | 25·3% (22·7–28·2) | 19·1% (17·0–21·3) | 18·2% (16·4–20·1) | −1·3 (−1·9 to −0·8) |\n",
      "| Guatemala | 24·0% (21·9–26·4) | 23·0% (21·1–25·0) | 23·8% (22·2–25·6) | 24·3% (22·8–25·9) | 21·0% (19·5–22·6) | 20·2% (18·7–21·7) | −0·8 (−1·2 to −0·4) |\n",
      "According to Bolivia’s 2024 Population and Housing Census, 35% of the national population is between the ages of 10 and 28 years old. In other words, more than one-third of the country is made up of adolescents and young people. This demographic reality confirms that Bolivia has fully entered its demographic dividend: a transformative stage in population dynamics that offers a unique window of opportunity for the nation’s development. It is the moment in our history with the highest share of [...] Adolescent girls face additional barriers. The 2023 Health Survey (INE/EDSA) estimates that the adolescent pregnancy rate — covering girls aged 10 to 19 — stands at 14.34%. This figure not only reflects a violation of human rights but also poses a direct limitation on young women’s opportunities for full development.\n",
      "Both for the health expenses related to adolescent pregnancy and for the potential loss of tax revenues due to the lower income of young mothers, the State bears the annual USD 1.8 billion of the estimated total cost.\n",
      "\n",
      "The report consolidates results from studies UNFPA conducted between 2019 and 2024 in Argentina, Bolivia, Colombia, Costa Rica, the Dominican Republic, Ecuador, El Salvador, Guatemala, Guyana, Honduras, Mexico, Panama, Paraguay, Peru, and Suriname.\n",
      "Benchmarking child-related SDGs\n",
      "        \n",
      "        Bolivia (Plurinational State of)\n",
      "        \n",
      "        Country overview\n",
      "        \n",
      "        Child population\n",
      "        \n",
      "        Total population\n",
      "        \n",
      "        4,401,114\n",
      "        \n",
      "        12,244,159\n",
      "        \n",
      "           SDG Progress Data\n",
      "           Country profiles by topic (PDF):\n",
      "            \n",
      "               Child Marriage\n",
      "               Immunization\n",
      "               Nutrition\n",
      "               Benchmarking child-related SDGs [...] Country overview\n",
      "        \n",
      "        Child population\n",
      "        \n",
      "        Total population\n",
      "        \n",
      "        13,739,645\n",
      "        \n",
      "        28,372,687\n",
      "        \n",
      "           SDG Progress Data\n",
      "           CVRS Data\n",
      "           Country profiles by topic (PDF):\n",
      "            \n",
      "               Child Marriage\n",
      "               FGM\n",
      "               Immunization\n",
      "               Malaria\n",
      "               Maternal and Newborn Health Disparities\n",
      "               Nutrition\n",
      "               PMTCT [...] Country overview\n",
      "        \n",
      "        Child population\n",
      "        \n",
      "        Total population\n",
      "        \n",
      "        1,282,483\n",
      "        \n",
      "        2,697,845\n",
      "        \n",
      "           SDG Progress Data\n",
      "           CVRS Data\n",
      "           Country profiles by topic (PDF):\n",
      "            \n",
      "               Child Marriage\n",
      "               FGM\n",
      "               Immunization\n",
      "               Maternal and Newborn Health Disparities\n",
      "               Nutrition\n",
      "               Benchmarking child-related SDGs\n",
      "Focus Age specific fertility rate\n",
      "   Age specific fertility rate\n",
      "\n",
      "Expressed as Rate per 1000 women\n",
      "\n",
      "   Rate per 1000 women\n",
      "\n",
      "Overview Metadata\n",
      "\n",
      "Adolescent birth rate (per 1000 women aged 10-19 years)\n",
      "\n",
      "Annual number of births to women aged 10 to 19 years per 1000 women in that age group. (SDG 3.7.2)\n",
      "\n",
      " 10 to 14 years  15 to 19 years \n",
      "\n",
      "Country \n",
      "\n",
      "Year \n",
      "\n",
      "Show table Open full-screen mode\n",
      "\n",
      "Loading chart…\n",
      "\n",
      "### Countries\n",
      "\n",
      "2024\n",
      "\n",
      "Show table Open full-screen mode\n",
      "\n",
      "Loading chart…\n",
      "\n",
      "Download [...] | Short name | Adolescent birth rate (per 1000 women aged 10-19 years) |\n",
      "| Indicator unique identifier | 27D371A |\n",
      "| Indicator codes | MDG_0000000003 |\n",
      "| Also known as | SDG indicator 3.7.2 Age-specific fertility rate for women aged 15-19 |\n",
      "| SDG Goal | 3.7.2 – Adolescent birth rate |\n",
      "| Short description | Annual number of births to women aged 10 to 19 years per 1000 women in that age group. (SDG 3.7.2) | [...] 27D371A \n",
      "\n",
      "Skip to content\n",
      "\n",
      "BETA\n",
      "\n",
      "This page is in development, being tested and is subject to change.\n",
      "\n",
      "Image 1: WHO Logo\n",
      "\n",
      "World Health Organization WHO Data\n",
      "\n",
      "   More from WHO\n",
      "   WHO Global\n",
      "\n",
      "   Settings\n",
      "   Language\n",
      "       Language\n",
      "       English\n",
      "       العربية\n",
      "       中文\n",
      "       Français\n",
      "       Русский\n",
      "       Español\n",
      "\n",
      "   Indicators\n",
      "   Countries\n",
      "   Dashboards\n",
      "   About\n",
      "   Close Menu\n",
      "\n",
      "All indicators\n",
      "\n",
      "Adolescent births\n",
      "\n",
      "Adolescent birth rate (per 1000 women)\n",
      "\n",
      "Official estimate updated 6 May 2025\n",
      "Step transform_query produced event QueryEvent\n",
      "Running step query_result\n"
     ]
    },
    {
     "name": "stderr",
     "output_type": "stream",
     "text": [
      "2025-10-17 08:47:04,622 - INFO - HTTP Request: POST https://api.openai.com/v1/chat/completions \"HTTP/1.1 200 OK\"\n"
     ]
    },
    {
     "name": "stdout",
     "output_type": "stream",
     "text": [
      "Step query_result produced event StopEvent\n"
     ]
    },
    {
     "data": {
      "text/markdown": [
       "14.34%"
      ],
      "text/plain": [
       "<IPython.core.display.Markdown object>"
      ]
     },
     "metadata": {},
     "output_type": "display_data"
    }
   ],
   "source": [
    "response = await workflow.run(\n",
    "    query_str=\"Cuantos embarazos adolescentes se registraron en 2024 en bolivia?\",\n",
    "    index=index,\n",
    "    tavily_ai_apikey=tavily_ai_api_key,\n",
    ")\n",
    "display(Markdown(str(response)))"
   ]
  },
  {
   "cell_type": "code",
   "execution_count": null,
   "id": "5a39e341",
   "metadata": {},
   "outputs": [],
   "source": []
  }
 ],
 "metadata": {
  "kernelspec": {
   "display_name": "ai-topics-2-2025",
   "language": "python",
   "name": "python3"
  },
  "language_info": {
   "codemirror_mode": {
    "name": "ipython",
    "version": 3
   },
   "file_extension": ".py",
   "mimetype": "text/x-python",
   "name": "python",
   "nbconvert_exporter": "python",
   "pygments_lexer": "ipython3",
   "version": "3.12.11"
  }
 },
 "nbformat": 4,
 "nbformat_minor": 5
}
