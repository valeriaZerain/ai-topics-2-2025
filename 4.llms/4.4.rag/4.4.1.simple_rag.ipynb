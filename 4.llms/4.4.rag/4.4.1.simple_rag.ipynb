{
 "cells": [
  {
   "cell_type": "code",
   "execution_count": 1,
   "metadata": {},
   "outputs": [
    {
     "name": "stderr",
     "output_type": "stream",
     "text": [
      "/Users/jose.laruta/dev/topics/ai-topics-2-2025/.venv/lib/python3.12/site-packages/llama_index_client/types/metadata_filter.py:23: SyntaxWarning: invalid escape sequence '\\*'\n",
      "  Value uses Strict\\* types, as int, float and str are compatible types and were all\n"
     ]
    }
   ],
   "source": [
    "from dotenv import load_dotenv\n",
    "import openai\n",
    "import os\n",
    "from llama_index.core import VectorStoreIndex, SimpleDirectoryReader\n",
    "load_dotenv()\n",
    "openai.api_key = os.getenv(\"OPENAI_API_KEY\")"
   ]
  },
  {
   "cell_type": "code",
   "execution_count": 2,
   "metadata": {},
   "outputs": [],
   "source": [
    "documents = SimpleDirectoryReader(\"data\").load_data()\n"
   ]
  },
  {
   "cell_type": "code",
   "execution_count": 8,
   "metadata": {},
   "outputs": [
    {
     "data": {
      "application/vnd.jupyter.widget-view+json": {
       "model_id": "4818a2f80621434bba4385c971244e81",
       "version_major": 2,
       "version_minor": 0
      },
      "text/plain": [
       "Parsing nodes:   0%|          | 0/104 [00:00<?, ?it/s]"
      ]
     },
     "metadata": {},
     "output_type": "display_data"
    },
    {
     "data": {
      "application/vnd.jupyter.widget-view+json": {
       "model_id": "372d09c08cbe49ee879c52208572f8ad",
       "version_major": 2,
       "version_minor": 0
      },
      "text/plain": [
       "Generating embeddings:   0%|          | 0/115 [00:00<?, ?it/s]"
      ]
     },
     "metadata": {},
     "output_type": "display_data"
    }
   ],
   "source": [
    "index = VectorStoreIndex.from_documents(documents, show_progress=True)"
   ]
  },
  {
   "cell_type": "code",
   "execution_count": 7,
   "metadata": {},
   "outputs": [
    {
     "data": {
      "text/plain": [
       "<llama_index.core.indices.vector_store.base.VectorStoreIndex at 0x1582e7140>"
      ]
     },
     "execution_count": 7,
     "metadata": {},
     "output_type": "execute_result"
    }
   ],
   "source": [
    "index"
   ]
  },
  {
   "cell_type": "code",
   "execution_count": 9,
   "metadata": {},
   "outputs": [],
   "source": [
    "query_engine = index.as_query_engine()\n"
   ]
  },
  {
   "cell_type": "code",
   "execution_count": 15,
   "metadata": {},
   "outputs": [],
   "source": [
    "response = query_engine.query(\"A cuantas personas benefició el bono Juana azurduy en 2021?\")\n"
   ]
  },
  {
   "cell_type": "code",
   "execution_count": 16,
   "metadata": {},
   "outputs": [
    {
     "data": {
      "text/plain": [
       "'El bono Juana Azurduy benefició a más de 212 mil personas en 2021.'"
      ]
     },
     "execution_count": 16,
     "metadata": {},
     "output_type": "execute_result"
    }
   ],
   "source": [
    "response.response"
   ]
  },
  {
   "cell_type": "code",
   "execution_count": 17,
   "metadata": {},
   "outputs": [
    {
     "name": "stdout",
     "output_type": "stream",
     "text": [
      "Score: 0.8212278692882844 \t Text: Bolivia profundizó las medidas que garantizan los derechos y oportunidades de niñas, niños, adolesce\n",
      "Score: 0.8190241036877057 \t Text: Tanto el Plan Nacional de Desarrollo 2006-2011 como el PDES 2016-\n",
      "2020 dieron continuidad a las polí\n"
     ]
    }
   ],
   "source": [
    "for node in response.source_nodes:\n",
    "    print(f\"Score: {node.score} \\t Text: {node.text[:100]}\")"
   ]
  },
  {
   "cell_type": "code",
   "execution_count": 13,
   "metadata": {},
   "outputs": [
    {
     "data": {
      "text/plain": [
       "[NodeWithScore(node=TextNode(id_='9fb02e61-eaea-4181-852d-fc922a1598d1', embedding=None, metadata={'page_label': '33', 'file_name': 'informe_avance_bolivia.pdf', 'file_path': '/Users/pepe/dev/upb/topicos/ai-topics-2-2024/4.nlp/4.4.rag/data/informe_avance_bolivia.pdf', 'file_type': 'application/pdf', 'file_size': 5326934, 'creation_date': '2024-10-09', 'last_modified_date': '2024-10-09'}, excluded_embed_metadata_keys=['file_name', 'file_type', 'file_size', 'creation_date', 'last_modified_date', 'last_accessed_date'], excluded_llm_metadata_keys=['file_name', 'file_type', 'file_size', 'creation_date', 'last_modified_date', 'last_accessed_date'], relationships={<NodeRelationship.SOURCE: '1'>: RelatedNodeInfo(node_id='54aa56cc-fd3d-4c23-940d-c56746c25897', node_type=<ObjectType.DOCUMENT: '4'>, metadata={'page_label': '33', 'file_name': 'informe_avance_bolivia.pdf', 'file_path': '/Users/pepe/dev/upb/topicos/ai-topics-2-2024/4.nlp/4.4.rag/data/informe_avance_bolivia.pdf', 'file_type': 'application/pdf', 'file_size': 5326934, 'creation_date': '2024-10-09', 'last_modified_date': '2024-10-09'}, hash='7fe41b80e07f520bf3c0ec300783be6af822a396ffe3517830d769ea3e6d0bab')}, text='0102030405060707.11082.416\\n68.916\\n60,850\\n56,910\\n49,044\\n39.99939,747\\n35,2504,133\\n3,289\\n2,949\\n2,631\\n2,1702,4042,11975.306\\n64.783\\n57,561\\n53.961\\n46.413\\n37,829\\n37,343 33,1318090\\n2022 2021 2020 2019 2018 2017 2016 2015FIGURA 10Bolivia:  Número de casos de embarazos de adolescentes \\nsegún grupo de edad, 2015-2022 \\n10 a 14 años Total 15 a 19 años\\nFuente: Ministerio de Salud y Deportes en base a datos SNIS – VE.\\nNota: Datos preliminares de la gestión 2022, corte a diciembre.Embarazo infantil y adolescente\\nUna de las metas del PDES 2016-2020 era reducir la proporción de adolescentes embarazadas, como también \\nfue mencionado en el primer Informe País. Desde 2013, el Ministerio de Salud y Deportes implementó el \\nprograma de Atención Integral de Adolescentes (AIDA) orientado a la atención de salud adaptada a las nece-\\nsidades de adolescentes, bajo el enfoque de la Organización Mundial de la Salud, que profundiza la atención \\nen el área de salud sexual y reproductiva e identifi  ca los factores de riesgo en el entorno del adolescente10. \\nRespecto al seguimiento a los casos de adolescentes embarazadas, en 2022 el Ministerio de Salud y Deportes \\nregistró en total 35.250 casos, de los que 2.119 correspondían al grupo de edad de 10 a 14 y 33.131 eran emba-\\nrazos del grupo de 15 a 19 años. Si bien estas cifras disminuyeron desde 2015, la prevalencia, especialmente \\nen niñas, es persistente11.\\n10 En 2012 se elaboró la “Guía de atención integral y diferenciada de adolescentes” (Resolución Ministerial 1771 del 29 de noviembre de 2012). Se comple-\\nmentó con el “Cuadro de procedimiento de atención integrada al continuo del curso de vida” (Resolución Ministerial 0348 del 4 de abril de 2013). \\nLuego se viabilizó con el instrumento de reconocimiento de centros de salud con certifi  cación de los servicios AIDA (Instructivo del Ministerio de Salud \\ny Deportes de julio de 2019), la sentencia constitucional 0206/2014, la norma de atención integral de la población LGTBIQ+ en establecimientos de \\nsalud y el Plan Plurinacional de Prevención del Embarazo de Adolescentes 2021-2025, que actualmente se encuentra dentro del Plan Multisectorial de \\nJuventudes.\\n11 Según el SNIS_VE, el índice de embarazo adolescente en 2022 fue de 14,56, habiendo disminuido desde 18,07 en 2018.Recientemente, el Estado Plurinacional de Bolivia desarrolló una normativa para legislar los derechos de las \\nniñas y las mujeres; también planes y políticas sectoriales que protegen a las adolescentes de la violencia y \\nabordan el tema del embarazo precoz12. Uno de los aspectos relevantes en este campo es la sentencia cons-\\ntitucional N° 206/2014, que eliminó la autorización judicial para acceder al aborto legal cuando el embarazo \\nes producto de violación, estupro, incesto o rapto; y también cuando, por el embarazo, corre peligro la vida o \\nla salud de la mujer13. \\n12  Al respecto, ver el documento de Montaño, 2022. \\n13  Documentos de difusión de IPAS – Bolivia: https://www.ipasbolivia.org \\n33', mimetype='text/plain', start_char_idx=0, end_char_idx=2981, text_template='{metadata_str}\\n\\n{content}', metadata_template='{key}: {value}', metadata_seperator='\\n'), score=0.8892785513053967),\n",
       " NodeWithScore(node=TextNode(id_='488fecf2-b125-4e09-a433-49337916afd6', embedding=None, metadata={'page_label': '27', 'file_name': 'informe_avance_bolivia.pdf', 'file_path': '/Users/pepe/dev/upb/topicos/ai-topics-2-2024/4.nlp/4.4.rag/data/informe_avance_bolivia.pdf', 'file_type': 'application/pdf', 'file_size': 5326934, 'creation_date': '2024-10-09', 'last_modified_date': '2024-10-09'}, excluded_embed_metadata_keys=['file_name', 'file_type', 'file_size', 'creation_date', 'last_modified_date', 'last_accessed_date'], excluded_llm_metadata_keys=['file_name', 'file_type', 'file_size', 'creation_date', 'last_modified_date', 'last_accessed_date'], relationships={<NodeRelationship.SOURCE: '1'>: RelatedNodeInfo(node_id='8e9e926c-6791-4579-83db-f5efa154c119', node_type=<ObjectType.DOCUMENT: '4'>, metadata={'page_label': '27', 'file_name': 'informe_avance_bolivia.pdf', 'file_path': '/Users/pepe/dev/upb/topicos/ai-topics-2-2024/4.nlp/4.4.rag/data/informe_avance_bolivia.pdf', 'file_type': 'application/pdf', 'file_size': 5326934, 'creation_date': '2024-10-09', 'last_modified_date': '2024-10-09'}, hash='02704012657ad0933d2e69848ca2726830304ae6ba7712debc37079834256be8')}, text='Entre fi  nes de febrero de 2021, el inicio de la vacunación contra la COVID-19, y el 30 de marzo de \\n2023 se administraron 15.858.779 dosis, de las cuales 6.482.694 corresponden a primeras dosis, \\n5.285.422 a segundas dosis, 998.688 a dosis únicas y 3.091.995 a dosis de refuerzo. Durante \\nla inmunización contra el coronavirus, Bolivia utilizó seis vacunas distintas: Sinopharm, Sputnik V, \\nAztrazeneca, Janssen, Pfi  zer y Moderna. Evolución de casos positivos y recuperados de la COVID-19, a marzo 2023 \\n(en número de casos)\\nFuente: Ministerio de Salud y Deportes.\\nEstructura de la población\\nHace aproximadamente una década que Bolivia ingresó a la primera fase del denominado Bono Demográ-\\nfi  co, en la que se observa una disminución de la tasa de dependencia (relación entre la población inactiva, \\ncompuesta por niños y personas adultas mayores, y la población económicamente activa) por debajo del \\n66%. Se espera que esta tasa siga reduciéndose hasta más allá de 2035. A diferencia del promedio de la \\nregión, para el que la ventana demográfi  ca cerrará más pronto, Bolivia tiene aún posibilidades de aprovechar \\nsu estructura demográfi  ca para impulsar su desarrollo. Puede generar tasas de ahorro en la perspectiva de \\nfortalecer la economía y la inclusión social, siempre y cuando se garantice el acceso a las oportunidades, la \\neducación, el empleo y la salud (incluida la salud sexual y reproductiva para adolescentes y jóvenes).\\n27', mimetype='text/plain', start_char_idx=0, end_char_idx=1449, text_template='{metadata_str}\\n\\n{content}', metadata_template='{key}: {value}', metadata_seperator='\\n'), score=0.8532559650422767)]"
      ]
     },
     "execution_count": 13,
     "metadata": {},
     "output_type": "execute_result"
    }
   ],
   "source": [
    "response.source_nodes"
   ]
  },
  {
   "cell_type": "code",
   "execution_count": 14,
   "metadata": {},
   "outputs": [],
   "source": [
    "index.storage_context.persist()"
   ]
  },
  {
   "cell_type": "code",
   "execution_count": null,
   "metadata": {},
   "outputs": [],
   "source": [
    "from llama_index.core import StorageContext, load_index_from_storage\n",
    "PERSIST_DIR = \"storage\"\n",
    "\n",
    "if not os.path.exists(PERSIST_DIR):\n",
    "    documents = SimpleDirectoryReader(\"data\").load_data()\n",
    "    index = VectorStoreIndex.from_documents(documents)\n",
    "    index.storage_context.persist(persist_dir=PERSIST_DIR)\n",
    "else:\n",
    "    storage_context = StorageContext.from_defaults(persist_dir=PERSIST_DIR) \n",
    "    index = load_index_from_storage(storage_context)"
   ]
  }
 ],
 "metadata": {
  "kernelspec": {
   "display_name": "ai-topics-2-2025",
   "language": "python",
   "name": "python3"
  },
  "language_info": {
   "codemirror_mode": {
    "name": "ipython",
    "version": 3
   },
   "file_extension": ".py",
   "mimetype": "text/x-python",
   "name": "python",
   "nbconvert_exporter": "python",
   "pygments_lexer": "ipython3",
   "version": "3.12.11"
  }
 },
 "nbformat": 4,
 "nbformat_minor": 2
}
