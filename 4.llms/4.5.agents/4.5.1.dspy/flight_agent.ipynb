{
 "cells": [
  {
   "cell_type": "markdown",
   "id": "a4f8a557",
   "metadata": {},
   "source": [
    "## Definicion de herramientas:\n",
    "\n",
    " - fetch_flight_info: get flight information for certain dates.\n",
    " - pick_flight: pick the best flight based on some criteria.\n",
    " - book_flight: book a flight on behalf of the user.\n",
    " - fetch_itinerary: get the information of a booked itinerary.\n",
    " - cancel_itinerary: cancel a booked itinerary.\n",
    " - get_user_info: get users' information.\n",
    " - file_ticket: file a backlog ticket to have human assist."
   ]
  },
  {
   "cell_type": "markdown",
   "id": "59637716",
   "metadata": {},
   "source": [
    "## Data Structure"
   ]
  },
  {
   "cell_type": "code",
   "execution_count": null,
   "id": "8b0a4d97",
   "metadata": {},
   "outputs": [],
   "source": [
    "from pydantic import BaseModel\n",
    "\n",
    "class Date(BaseModel):\n",
    "    year: int\n",
    "    month: int\n",
    "    day: int\n",
    "    hour: int\n",
    "\n",
    "class UserProfile(BaseModel):\n",
    "    user_id: str\n",
    "    name: str\n",
    "    email: str\n",
    "\n",
    "class Flight(BaseModel):\n",
    "    flight_id: str\n",
    "    date_time: Date\n",
    "    origin: str\n",
    "    destination: str\n",
    "    duration: float\n",
    "    price: float\n",
    "\n",
    "class Itinerary(BaseModel):\n",
    "    confirmation_number: str\n",
    "    user_profile: UserProfile\n",
    "    flight: Flight\n",
    "\n",
    "class Ticket(BaseModel):\n",
    "    user_request: str\n",
    "    user_profile: UserProfile"
   ]
  },
  {
   "cell_type": "markdown",
   "id": "80a824aa",
   "metadata": {},
   "source": [
    "## Datos de prueba"
   ]
  },
  {
   "cell_type": "code",
   "execution_count": null,
   "id": "9fd08679",
   "metadata": {},
   "outputs": [],
   "source": [
    "user_database = {\n",
    "    \"Adam\": UserProfile(user_id=\"1\", name=\"Adam\", email=\"adam@gmail.com\"),\n",
    "    \"Bob\": UserProfile(user_id=\"2\", name=\"Bob\", email=\"bob@gmail.com\"),\n",
    "    \"Chelsie\": UserProfile(user_id=\"3\", name=\"Chelsie\", email=\"chelsie@gmail.com\"),\n",
    "    \"David\": UserProfile(user_id=\"4\", name=\"David\", email=\"david@gmail.com\"),\n",
    "}\n",
    "\n",
    "flight_database = {\n",
    "    \"DA123\": Flight(\n",
    "        flight_id=\"DA123\",\n",
    "        origin=\"SFO\",\n",
    "        destination=\"JFK\",\n",
    "        date_time=Date(year=2025, month=9, day=1, hour=1),\n",
    "        duration=3,\n",
    "        price=200,\n",
    "    ),\n",
    "    \"DA125\": Flight(\n",
    "        flight_id=\"DA125\",\n",
    "        origin=\"SFO\",\n",
    "        destination=\"JFK\",\n",
    "        date_time=Date(year=2025, month=9, day=1, hour=7),\n",
    "        duration=9,\n",
    "        price=500,\n",
    "    ),\n",
    "    \"DA456\": Flight(\n",
    "        flight_id=\"DA456\",\n",
    "        origin=\"SFO\",\n",
    "        destination=\"SNA\",\n",
    "        date_time=Date(year=2025, month=10, day=1, hour=1),\n",
    "        duration=2,\n",
    "        price=100,\n",
    "    ),\n",
    "    \"DA460\": Flight(\n",
    "        flight_id=\"DA460\",\n",
    "        origin=\"SFO\",\n",
    "        destination=\"SNA\",\n",
    "        date_time=Date(year=2025, month=10, day=1, hour=9),\n",
    "        duration=2,\n",
    "        price=120,\n",
    "    ),\n",
    "    \"BO470\": Flight(\n",
    "        flight_id=\"BO470\",\n",
    "        origin=\"LPB\",\n",
    "        destination=\"CBB\",\n",
    "        date_time=Date(year=2025, month=10, day=31, hour=14),\n",
    "        duration=1,\n",
    "        price=20,\n",
    "    ),\n",
    "}\n",
    "\n",
    "itinery_database = {}\n",
    "ticket_database = {}"
   ]
  },
  {
   "cell_type": "markdown",
   "id": "dddb8f27",
   "metadata": {},
   "source": [
    "## Definir las herramientas\n",
    "\n",
    "Es importante definir cada herramienta (funcion) con:\n",
    "\n",
    " - Un docstring que defina la tarea de la herramienta, tambien agregar un nombre de función descriptivo.\n",
    " - Agregar type hints para los argumentos."
   ]
  },
  {
   "cell_type": "code",
   "execution_count": null,
   "id": "0cb0a8fd",
   "metadata": {},
   "outputs": [],
   "source": [
    "import random\n",
    "import string\n",
    "\n",
    "\n",
    "def fetch_flight_info(date: Date, origin: str, destination: str):\n",
    "    \"\"\"Fetch flight information from origin to destination on the given date\"\"\"\n",
    "    flights = []\n",
    "\n",
    "    for flight_id, flight in flight_database.items():\n",
    "        if (\n",
    "            flight.date_time.year == date.year\n",
    "            and flight.date_time.month == date.month\n",
    "            and flight.date_time.day == date.day\n",
    "            and flight.origin == origin\n",
    "            and flight.destination == destination\n",
    "        ):\n",
    "            flights.append(flight)\n",
    "    if len(flights) == 0:\n",
    "        raise ValueError(\"No matching flight found!\")\n",
    "    return flights\n",
    "\n",
    "\n",
    "def fetch_itinerary(confirmation_number: str):\n",
    "    \"\"\"Fetch a booked itinerary information from database\"\"\"\n",
    "    return itinery_database.get(confirmation_number)\n",
    "\n",
    "\n",
    "def pick_flight(flights: list[Flight]):\n",
    "    \"\"\"Pick up the best flight that matches users' request. we pick the shortest, and cheaper one on ties.\"\"\"\n",
    "    sorted_flights = sorted(\n",
    "        flights,\n",
    "        key=lambda x: (\n",
    "            x.get(\"duration\") if isinstance(x, dict) else x.duration,\n",
    "            x.get(\"price\") if isinstance(x, dict) else x.price,\n",
    "        ),\n",
    "    )\n",
    "    return sorted_flights[0]\n",
    "\n",
    "\n",
    "def _generate_id(length=8):\n",
    "    chars = string.ascii_lowercase + string.digits\n",
    "    return \"\".join(random.choices(chars, k=length))\n",
    "\n",
    "\n",
    "def book_flight(flight: Flight, user_profile: UserProfile):\n",
    "    \"\"\"Book a flight on behalf of the user.\"\"\"\n",
    "    confirmation_number = _generate_id()\n",
    "    while confirmation_number in itinery_database:\n",
    "        confirmation_number = _generate_id()\n",
    "    itinery_database[confirmation_number] = Itinerary(\n",
    "        confirmation_number=confirmation_number,\n",
    "        user_profile=user_profile,\n",
    "        flight=flight,\n",
    "    )\n",
    "    return confirmation_number, itinery_database[confirmation_number]\n",
    "\n",
    "\n",
    "def cancel_itinerary(confirmation_number: str, user_profile: UserProfile):\n",
    "    \"\"\"Cancel an itinerary on behalf of the user.\"\"\"\n",
    "    if confirmation_number in itinery_database:\n",
    "        del itinery_database[confirmation_number]\n",
    "        return\n",
    "    raise ValueError(\"Cannot find the itinerary, please check your confirmation number.\")\n",
    "\n",
    "\n",
    "def get_user_info(name: str):\n",
    "    \"\"\"Fetch the user profile from database with given name.\"\"\"\n",
    "    return user_database.get(name)\n",
    "\n",
    "\n",
    "def file_ticket(user_request: str, user_profile: UserProfile):\n",
    "    \"\"\"File a customer support ticket if this is something the agent cannot handle.\"\"\"\n",
    "    ticket_id = _generate_id(length=6)\n",
    "    ticket_database[ticket_id] = Ticket(\n",
    "        user_request=user_request,\n",
    "        user_profile=user_profile,\n",
    "    )\n",
    "    return ticket_id"
   ]
  },
  {
   "cell_type": "markdown",
   "id": "d93dc206",
   "metadata": {},
   "source": [
    "## Crear un agente ReAct\n",
    "\n",
    "Un agente ReAct es un patron que combina razonamiento y acción. Se usa el patrón de chain of thought (CoT) para razonamiento en conjunto con el patrón de uso de herramientas. Este enfoque mejora las capacidades de un LLM para gestionar y resolver problemas complejos y toma de decisiones"
   ]
  },
  {
   "cell_type": "code",
   "execution_count": 19,
   "id": "beed4b5d",
   "metadata": {},
   "outputs": [],
   "source": [
    "import dspy\n",
    "\n",
    "class DSPyAirlineCustomerService(dspy.Signature):\n",
    "    \"\"\"You are an airline customer service agent that helps user book and manage flights.\n",
    "\n",
    "    You are given a list of tools to handle user request, and you should decide the right tool to use in order to\n",
    "    fulfill users' request.\"\"\"\n",
    "\n",
    "    chat_history: str = dspy.InputField(desc=\"The precious user messages and agent responses\")\n",
    "    user_request: str = dspy.InputField()\n",
    "    process_result: str = dspy.OutputField(\n",
    "        desc=(\n",
    "                \"Message that summarizes the process result, and the information users need, e.g., the \"\n",
    "                \"confirmation_number if a new flight is booked.\"\n",
    "            )\n",
    "        )"
   ]
  },
  {
   "cell_type": "code",
   "execution_count": 20,
   "id": "92145641",
   "metadata": {},
   "outputs": [],
   "source": [
    "agent = dspy.ReAct(\n",
    "    DSPyAirlineCustomerService,\n",
    "    tools = [\n",
    "        fetch_flight_info,\n",
    "        fetch_itinerary,\n",
    "        pick_flight,\n",
    "        book_flight,\n",
    "        cancel_itinerary,\n",
    "        get_user_info,\n",
    "        file_ticket,\n",
    "    ]\n",
    ")"
   ]
  },
  {
   "cell_type": "code",
   "execution_count": 21,
   "id": "df58a2ad",
   "metadata": {},
   "outputs": [
    {
     "data": {
      "text/plain": [
       "True"
      ]
     },
     "execution_count": 21,
     "metadata": {},
     "output_type": "execute_result"
    }
   ],
   "source": [
    "from dotenv import load_dotenv\n",
    "load_dotenv()"
   ]
  },
  {
   "cell_type": "code",
   "execution_count": 22,
   "id": "3d601665",
   "metadata": {},
   "outputs": [],
   "source": [
    "dspy.configure(lm=dspy.LM(\"openai/gpt-4o-mini\"))"
   ]
  },
  {
   "cell_type": "code",
   "execution_count": 24,
   "id": "121abc99",
   "metadata": {},
   "outputs": [],
   "source": [
    "chat_history = \"\""
   ]
  },
  {
   "cell_type": "code",
   "execution_count": 25,
   "id": "2902b9e3",
   "metadata": {},
   "outputs": [
    {
     "name": "stdout",
     "output_type": "stream",
     "text": [
      "Prediction(\n",
      "    trajectory={'thought_0': 'I need to fetch flight information for Adam from SFO to JFK on 09/01/2025 to find available flights for booking.', 'tool_name_0': 'fetch_flight_info', 'tool_args_0': {'date': {'year': 2025, 'month': 9, 'day': 1, 'hour': 0}, 'origin': 'SFO', 'destination': 'JFK'}, 'observation_0': [Flight(flight_id='DA123', date_time=Date(year=2025, month=9, day=1, hour=1), origin='SFO', destination='JFK', duration=3.0, price=200.0), Flight(flight_id='DA125', date_time=Date(year=2025, month=9, day=1, hour=7), origin='SFO', destination='JFK', duration=9.0, price=500.0)], 'thought_1': 'I have retrieved the available flights from SFO to JFK on 09/01/2025. The options are flight DA123, which departs at 1 AM and costs $200, and flight DA125, which departs at 7 AM and costs $500. I will now pick the best flight for Adam based on the shortest duration and lowest price.', 'tool_name_1': 'pick_flight', 'tool_args_1': {'flights': [{'flight_id': 'DA123', 'date_time': {'year': 2025, 'month': 9, 'day': 1, 'hour': 1}, 'origin': 'SFO', 'destination': 'JFK', 'duration': 3.0, 'price': 200.0}, {'flight_id': 'DA125', 'date_time': {'year': 2025, 'month': 9, 'day': 1, 'hour': 7}, 'origin': 'SFO', 'destination': 'JFK', 'duration': 9.0, 'price': 500.0}]}, 'observation_1': Flight(flight_id='DA123', date_time=Date(year=2025, month=9, day=1, hour=1), origin='SFO', destination='JFK', duration=3.0, price=200.0), 'thought_2': \"I have selected flight DA123 for Adam, which departs at 1 AM and costs $200. Now, I need to gather Adam's user profile information to proceed with booking the flight.\", 'tool_name_2': 'get_user_info', 'tool_args_2': {'name': 'Adam'}, 'observation_2': UserProfile(user_id='1', name='Adam', email='adam@gmail.com'), 'thought_3': \"I have gathered Adam's user profile information, including his user ID and email. Now I can proceed to book the selected flight DA123 for him.\", 'tool_name_3': 'book_flight', 'tool_args_3': {'flight': {'flight_id': 'DA123', 'date_time': {'year': 2025, 'month': 9, 'day': 1, 'hour': 1}, 'origin': 'SFO', 'destination': 'JFK', 'duration': 3.0, 'price': 200.0}, 'user_profile': {'user_id': '1', 'name': 'Adam', 'email': 'adam@gmail.com'}}, 'observation_3': ('fz2l7nau', Itinerary(confirmation_number='fz2l7nau', user_profile=UserProfile(user_id='1', name='Adam', email='adam@gmail.com'), flight=Flight(flight_id='DA123', date_time=Date(year=2025, month=9, day=1, hour=1), origin='SFO', destination='JFK', duration=3.0, price=200.0))), 'thought_4': 'I have successfully booked the flight DA123 for Adam, and I have received the confirmation number. I will now finish the process as all necessary information has been gathered and the booking is complete.', 'tool_name_4': 'finish', 'tool_args_4': {}, 'observation_4': 'Completed.'},\n",
      "    reasoning=\"I successfully retrieved flight information for Adam from SFO to JFK on 09/01/2025. I found two available flights and selected the best option, flight DA123, which departs at 1 AM and costs $200. After gathering Adam's user profile information, I proceeded to book the flight. The booking was successful, and I received a confirmation number.\",\n",
      "    process_result='Your flight from SFO to JFK on 09/01/2025 has been successfully booked. Your confirmation number is fz2l7nau.'\n",
      ")\n"
     ]
    }
   ],
   "source": [
    "# turno 1\n",
    "user_request = \"please help me book a flight from SFO to JFK on 09/01/2025, my name is Adam\"\n",
    "result = agent(user_request=user_request, chat_history=chat_history)\n",
    "print(result)"
   ]
  },
  {
   "cell_type": "code",
   "execution_count": 26,
   "id": "43c542e7",
   "metadata": {},
   "outputs": [
    {
     "name": "stdout",
     "output_type": "stream",
     "text": [
      "{'h9iheltf': Itinerary(confirmation_number='h9iheltf', user_profile=UserProfile(user_id='1', name='Adam', email='adam@gmail.com'), flight=Flight(flight_id='DA123', date_time=Date(year=2025, month=9, day=1, hour=1), origin='SFO', destination='JFK', duration=3.0, price=200.0)), 'hn0abley': Itinerary(confirmation_number='hn0abley', user_profile=UserProfile(user_id='1', name='Adam', email='adam@gmail.com'), flight=Flight(flight_id='DA125', date_time=Date(year=2025, month=9, day=1, hour=7), origin='SFO', destination='JFK', duration=9.0, price=500.0)), 'fz2l7nau': Itinerary(confirmation_number='fz2l7nau', user_profile=UserProfile(user_id='1', name='Adam', email='adam@gmail.com'), flight=Flight(flight_id='DA123', date_time=Date(year=2025, month=9, day=1, hour=1), origin='SFO', destination='JFK', duration=3.0, price=200.0))}\n"
     ]
    }
   ],
   "source": [
    "print(itinery_database)"
   ]
  },
  {
   "cell_type": "code",
   "execution_count": null,
   "id": "2e8c5af7",
   "metadata": {},
   "outputs": [],
   "source": [
    "dspy.inspect_history(n=10)"
   ]
  },
  {
   "cell_type": "code",
   "execution_count": 30,
   "id": "718d23f3",
   "metadata": {},
   "outputs": [
    {
     "name": "stdout",
     "output_type": "stream",
     "text": [
      "A customer support ticket has been successfully filed for your request to talk with a human. You will be contacted shortly by a representative.\n"
     ]
    }
   ],
   "source": [
    "chat_history += f\"User: {user_request}\\nAgent: {result.process_result}\\n\"\n",
    "\n",
    "confirmation_number = \"h9iheltf\"\n",
    "\n",
    "user_request = f\"i  want to talk with a human please\"\n",
    "\n",
    "result = agent(user_request=user_request, chat_history=chat_history)\n",
    "print(result.process_result)"
   ]
  },
  {
   "cell_type": "code",
   "execution_count": 31,
   "id": "b0307f72",
   "metadata": {},
   "outputs": [
    {
     "data": {
      "text/plain": [
       "{'telfzn': Ticket(user_request='i want to talk with a human please', user_profile=UserProfile(user_id='Adam', name='Adam', email=''))}"
      ]
     },
     "execution_count": 31,
     "metadata": {},
     "output_type": "execute_result"
    }
   ],
   "source": [
    "ticket_database"
   ]
  },
  {
   "cell_type": "code",
   "execution_count": null,
   "id": "a03b1492",
   "metadata": {},
   "outputs": [],
   "source": [
    "result = agent(user_request=f\"yes, i confirm the operation\")\n",
    "print(result.process_result)"
   ]
  },
  {
   "cell_type": "code",
   "execution_count": null,
   "id": "86fc88a7",
   "metadata": {},
   "outputs": [],
   "source": []
  }
 ],
 "metadata": {
  "kernelspec": {
   "display_name": "ai-topics-2-2025",
   "language": "python",
   "name": "python3"
  },
  "language_info": {
   "codemirror_mode": {
    "name": "ipython",
    "version": 3
   },
   "file_extension": ".py",
   "mimetype": "text/x-python",
   "name": "python",
   "nbconvert_exporter": "python",
   "pygments_lexer": "ipython3",
   "version": "3.12.11"
  }
 },
 "nbformat": 4,
 "nbformat_minor": 5
}
