{
 "cells": [
  {
   "cell_type": "markdown",
   "id": "920bc748",
   "metadata": {},
   "source": [
    "## Signatures\n",
    "Las Signatures (firmas) definen el comportamiento del sistema. Es una especificación declarativa del comportamiento entrada -> salida de un módulo de DSPy.\n",
    "\n",
    "Se comportan de manera similar a las definiciones de funciones, en las cuales se especifican los argumentos de entrada y de saluda. En DSPy, estas firmas se usan para declarar e inicializar el comportamiento de los múdulos. Además, se pueden expresar roles semánticos en lenguaje natural: `question` es distinto a `answer`, `sql_query` es distinto de `python_code`"
   ]
  },
  {
   "cell_type": "markdown",
   "id": "431156ed",
   "metadata": {},
   "source": [
    "## In-line Signatures"
   ]
  },
  {
   "cell_type": "code",
   "execution_count": 6,
   "id": "2c392ddc",
   "metadata": {},
   "outputs": [],
   "source": [
    "from dotenv import load_dotenv\n",
    "import dspy\n",
    "from IPython import display\n",
    "load_dotenv()\n",
    "\n",
    "lm = dspy.LM(\"openai/gpt-4o-mini\")\n",
    "dspy.configure(lm=lm)"
   ]
  },
  {
   "cell_type": "markdown",
   "id": "b9186aa4",
   "metadata": {},
   "source": [
    "### Ejemplo: Clasificación de sentimiento"
   ]
  },
  {
   "cell_type": "code",
   "execution_count": 3,
   "id": "c508e2bb",
   "metadata": {},
   "outputs": [
    {
     "data": {
      "text/plain": [
       "False"
      ]
     },
     "execution_count": 3,
     "metadata": {},
     "output_type": "execute_result"
    }
   ],
   "source": [
    "sentence = \"que dia mas triste y oscuro\"\n",
    "\n",
    "classify = dspy.Predict(\"sentence -> sentiment: bool\")\n",
    "classify(sentence=sentence).sentiment"
   ]
  },
  {
   "cell_type": "markdown",
   "id": "38a55db0",
   "metadata": {},
   "source": [
    "### Ejemplo: Summarization"
   ]
  },
  {
   "cell_type": "code",
   "execution_count": 4,
   "id": "6b19f99d",
   "metadata": {},
   "outputs": [
    {
     "name": "stdout",
     "output_type": "stream",
     "text": [
      "Tras la elección de Rodrigo Paz y Edmand Lara, diversos sectores empresariales en Bolivia felicitaron a los nuevos líderes y expresaron su disposición a colaborar para enfrentar la crisis económica. Los gremios coincidieron en la necesidad de un cambio en el modelo económico, que ha llevado al país a una recesión. Se hizo un llamado a la unidad nacional y al diálogo para implementar medidas urgentes que reactiven la economía. Los sectores, incluidos la industria y la agricultura, manifestaron su compromiso de trabajar con el nuevo gobierno y ser vigilantes de las promesas realizadas durante la campaña electoral.\n"
     ]
    }
   ],
   "source": [
    "# Example from the XSum dataset.\n",
    "document = \"\"\"\n",
    "A pocas horas de conocerse al binomio ganador de la segunda vuelta electoral en el país, distintos sectores productivos y empresariales hicieron llegar sus felicitaciones a Rodrigo Paz y Edmand Lara, presidente y vicepresidente electo, respectivamente, y los invitaron a dialogar para encontrar salidas a la actual crisis económica nacional.\n",
    "Los gremios empresariales coincidieron que esta es una oportunidad para cambiar el modelo económico del país, que durante 20 años siguió la doctrina keynesiana, pero que llevó al país a una de las peores recesiones económicas en los últimos 40 años, con un decrecimiento del Producto Interno Bruto (PIB) de -2,4% a junio del presente año.\n",
    "Uno de los primeros en manifestarse fue el presidente de la Cámara de Industria, Comercio, Servicios y Turismo de Santa Cruz (Cainco), Jean Pierre Antelo, quien destacó que el país ingresa a otra etapa que debe estar guiada por el diálogo, la responsabilidad y la visión compartida de un nuevo modelo económico.\n",
    "“Es momento de tender puentes, de construir consensos amplios y de impulsar un modelo económico nuevo basado en el potencial de nuestra gente, en la productividad, en la innovación y la apertura al mundo”, expresó Antelo en un video institucional.\n",
    "En esa línea, afirmó que el sector privado está listo para trabajar con el gobierno entrante, al sugerir que el desarrollo nacional requiere sumar esfuerzos, atraer inversión y consolidar reglas claras que fortalezcan la confianza y el empleo.\n",
    "“El sector privado que ha permanecido en pie, a pesar de la adversidad, está listo para trabajar con el nuevo gobierno porque el desarrollo de Bolivia se construirá sumando fuerzas, atrayendo inversión con empleos, con confianza y reglas claras”, agregó.\n",
    "Por su parte, el presidente de la Cámara Nacional de Industrias (CNI), Gonzalo Morales, expresó que la segunda vuelta fue “una ejemplar jornada democrática”, donde el pueblo boliviano expresó su voluntad, dando inicio a una nueva etapa para Bolivia.\n",
    "“La industria nacional reitera su compromiso con el desarrollo del país e invita al nuevo mandatario a sostener una reunión de trabajo con la CNI, ajustándonos a su agenda para definir el día y la hora”, expresó Morales en su  mensaje.\n",
    "En ese marco, destacó la importancia de la industria para el futuro de Bolivia. “Señor presidente cuente con la industria boliviana, estamos listos para construir juntos una Bolivia productiva, fuerte y unida. Porque cuando la industria se fortalece, Bolivia progresa”, añadió.\n",
    "En tanto, la Confederación de Empresarios Privados de Bolivia (CEPB), en un comunicado de cinco puntos difundido la noche del domingo, auguró el mayor de los éxitos a Paz y Lara porque “sabemos que el desafío es muy grande y confiamos que sabrán conducir el destino de la Patria con sabiduría, firmeza y compromiso”.\n",
    "El ente empresarial hizo un llamado “a todas las organizaciones políticas y a las entidades de la sociedad a fortalecer la unidad nacional, iniciar una etapa de reconciliación y asumir juntos la decisión de remontar la crisis e iniciar el camino de la reconstrucción que tanto necesita nuestro país”.\n",
    "La Cámara Boliviana de Hidrocarburos y Energía (CBHE), el lunes manifestó también su “respaldo al Gobierno recientemente elegido y su voluntad de generar los espacios de diálogo y coordinación para impulsar acciones que permitan la reactivación de la economía boliviana y específicamente del sector hidrocarburos, que es estratégico para el país y requiere atención urgente”.\n",
    "Asimismo, el gremio de las petroleras privadas manifestó “su confianza en que los diferentes actores políticos y sociales contribuirán a generar espacios de unidad nacional y un trabajo conjunto para adoptar las medidas que necesita el país para recuperar la estabilidad en el menor tiempo posible”.\n",
    "De su lado, el Comité Multisectorial, compuesto por gremios empresariales, exportadores, transportistas, agropecuarios y gremiales -entre otros-, felicitaron al presidente y vicepresidente electos en el balotaje del domingo y pidieron un cambio del rumbo del modelo económico del país.\n",
    "El vocero del comité y presidente de la Cámara de Nacional Exportadores de Bolivia (Caneb), Oswaldo Barriga, anunció que en las próximas harán llegar una invitación formal a las nuevas autoridades electas.\n",
    "“Venimos esperando por dos décadas el cambio del modelo económico que nos condujo al desempleo, a la falta de alimentos, cierre de unidades productivas, desabastecimiento de productos y generando mayor pobreza en Bolivia. Hoy recibimos con expectativa al nuevo gobierno que se posesionará en los próximos días”, manifestó Barriga en presencia de representantes de distintos sectores.\n",
    "Agregó que se espera que se tomen medidas urgentes, trabajar desde el primer día en medidas de fondo “para sacar a los bolivianos de la situación desesperante en que se encuentran, donde todos los días ven disminuir sus ingresos. “Es urgente revertir esta tendencia. Hacemos un llamado a parlamentarios electos y a la clase política. Se acabó el periodo de campaña, es hora de trabajar por Bolivia”, consideró Barriga.\n",
    "Vigilantes de las promesas\n",
    "El Directorio de la Cámara Agropecuaria del Oriente (CAO) advirtió a los gobernantes electos que  los productores serán “fieles observadores” de las promesas electorales y lo invitó a una reunión “para compatibilizar las acciones inmediatas que el país necesita y reactivar todo este aparato productivo que está en terapia intensiva”.\n",
    "“El sector agropecuario no solo produce, sostiene al país cuando más lo necesita”, expresó el presidente de la CAO, Klaus Frerking, al dejar “muy claro” que el sector no renunciará a todas las luchas y a la agenda que “por décadas ha sido arrinconada, como las exigencias de la aprobación de la biotecnología, de la seguridad jurídica para que se terminen los avasallamientos, liberar las bandas de precio y las exportaciones ya sin cupo y sin restricciones.\n",
    "“Y un tema transversal, el abastecimiento permanente de combustible, que garantice la continuidad para poder seguir produciendo para todos los bolivianos”, agregó Frerking.\n",
    "Combustibles en 20 días\n",
    "En su primera conferencia como presidente electo, Rodrigo Paz afirmó que habló con el secretario adjunto de Estados Unidos, Christopher Landau, para que junto a un grupo de “países amigos” como Brasil, Uruguay, Paraguay y Argentina colaboraren para que “a partir del 8, 9 de noviembre, en función de la necesidad del país, resolver las largas filas que tenemos con el problema de los hidrocarburos”, señaló.\n",
    "Aseguró también que será necesaria “una flexibilidad” para resolver el tema del dólar para la compra de combustibles en el exterior y que, en los siguientes días, se harán los anuncios sobre la logística para la importación de combustibles al país.\n",
    "\"\"\"\n",
    "\n",
    "summarize = dspy.ChainOfThought('document -> summary')\n",
    "response = summarize(document=document)\n",
    "\n",
    "print(response.summary)"
   ]
  },
  {
   "cell_type": "code",
   "execution_count": 7,
   "id": "868d7790",
   "metadata": {},
   "outputs": [
    {
     "name": "stdout",
     "output_type": "stream",
     "text": [
      "6769 619\n"
     ]
    }
   ],
   "source": [
    "print(len(document), len(response.summary))"
   ]
  },
  {
   "cell_type": "code",
   "execution_count": 11,
   "id": "6ef986fc",
   "metadata": {},
   "outputs": [
    {
     "name": "stdout",
     "output_type": "stream",
     "text": [
      "Prediction(\n",
      "    text_with_positive_sentiment='todo es maravilloso'\n",
      ")\n"
     ]
    }
   ],
   "source": [
    "text_a = \"todo es malo\"\n",
    "text_b = \"todo es horrible\"\n",
    "compare_sentiment = dspy.Predict(\"text_a, text_b -> text_with_positive_sentiment: str\")\n",
    "\n",
    "print(compare_sentiment(text_a=text_a, text_b=text_b))\n",
    "\n"
   ]
  },
  {
   "cell_type": "code",
   "execution_count": 8,
   "id": "fb79d5c8",
   "metadata": {},
   "outputs": [
    {
     "name": "stdout",
     "output_type": "stream",
     "text": [
      "Reasoning:  El documento detalla las reacciones de diversos sectores productivos y empresariales tras la elección de Rodrigo Paz y Edmand Lara como presidente y vicepresidente de Bolivia. Los gremios expresan su disposición a colaborar con el nuevo gobierno para abordar la crisis económica que enfrenta el país, destacando la necesidad de un cambio en el modelo económico actual. Se enfatiza la importancia del diálogo y la unidad nacional para implementar medidas que reactiven la economía y mejoren la situación de los bolivianos. Además, se mencionan las expectativas de los sectores sobre la nueva administración y su compromiso de ser observadores de las promesas electorales.\n"
     ]
    }
   ],
   "source": [
    "print(\"Reasoning: \", response.reasoning)"
   ]
  },
  {
   "cell_type": "markdown",
   "id": "95249ae8",
   "metadata": {},
   "source": [
    "## Class-based Signatures\n",
    "\n",
    "Para algunas tareas avanzadas, se usan signatures mas detallados:\n",
    "\n",
    "1. Para aclarar algo de la naturaleza de la tarea\n",
    "2. Para dar pistas e informacion sobre los campos de entrada `dspy.InputField`\n",
    "3. Para limitar el comportamiento o los campos de salida `dspy.OutputField`"
   ]
  },
  {
   "cell_type": "markdown",
   "id": "56cc1279",
   "metadata": {},
   "source": [
    "### Ejemplo: Clasificacion de texto"
   ]
  },
  {
   "cell_type": "code",
   "execution_count": 12,
   "id": "60e95262",
   "metadata": {},
   "outputs": [
    {
     "data": {
      "text/plain": [
       "Prediction(\n",
       "    sentiment='fear'\n",
       ")"
      ]
     },
     "execution_count": 12,
     "metadata": {},
     "output_type": "execute_result"
    }
   ],
   "source": [
    "from typing import Literal\n",
    "\n",
    "class Emotion(dspy.Signature):\n",
    "    \"\"\"Classify emotion.\"\"\"\n",
    "    sentence: str = dspy.InputField()\n",
    "    sentiment: Literal['sadness', 'joy', 'love', 'anger', 'fear', 'surprise'] = dspy.OutputField()\n",
    "\n",
    "sentence = \"i started feeling a little vulnerable when the giant spotlight started blinding me\"  # from dair-ai/emotion\n",
    "\n",
    "classify = dspy.Predict(Emotion)\n",
    "classify(sentence=sentence)"
   ]
  },
  {
   "cell_type": "code",
   "execution_count": 17,
   "id": "87d09854",
   "metadata": {},
   "outputs": [
    {
     "name": "stdout",
     "output_type": "stream",
     "text": [
      "sentence_b\n"
     ]
    }
   ],
   "source": [
    "class CompareSentiment(dspy.Signature):\n",
    "    \"\"\"Compare the sentiment between two sentences\"\"\"\n",
    "    sentence_a: str = dspy.InputField()\n",
    "    sentence_b: str = dspy.InputField()\n",
    "    most_positive: Literal[\"sentence_a\", \"sentence_b\"] = dspy.OutputField(\n",
    "        desc=\"The output should pick the sentence with the most positive sentiment.\"\n",
    "    )\n",
    "sa = \"esto es lo peor que me ha pasado\"\n",
    "sb = \"todo es malo\"\n",
    "\n",
    "compare = dspy.ChainOfThought(CompareSentiment)\n",
    "result = compare(sentence_a=sa, sentence_b=sb)\n",
    "print(result.most_positive)"
   ]
  },
  {
   "cell_type": "code",
   "execution_count": 18,
   "id": "e654e76f",
   "metadata": {},
   "outputs": [
    {
     "data": {
      "text/plain": [
       "'Ambas oraciones expresan sentimientos negativos, pero \"esto es lo peor que me ha pasado\" sugiere una experiencia particularmente mala, mientras que \"todo es malo\" es más general. Sin embargo, la primera oración tiene un tono más intenso de negatividad. Por lo tanto, ambas son negativas, pero \"todo es malo\" es un poco menos intensa en su negatividad.'"
      ]
     },
     "execution_count": 18,
     "metadata": {},
     "output_type": "execute_result"
    }
   ],
   "source": [
    "result.reasoning"
   ]
  },
  {
   "cell_type": "markdown",
   "id": "3e6dc93a",
   "metadata": {},
   "source": [
    "### Ejemplo: Una metrica para evaluar confiabilidad en referencias"
   ]
  },
  {
   "cell_type": "code",
   "execution_count": 20,
   "id": "68a7ee97",
   "metadata": {},
   "outputs": [],
   "source": [
    "context = \"\"\"\n",
    "A pocas horas de conocerse al binomio ganador de la segunda vuelta electoral en el país, distintos sectores productivos y empresariales hicieron llegar sus felicitaciones a Rodrigo Paz y Edmand Lara, presidente y vicepresidente electo, respectivamente, y los invitaron a dialogar para encontrar salidas a la actual crisis económica nacional.\n",
    "Los gremios empresariales coincidieron que esta es una oportunidad para cambiar el modelo económico del país, que durante 20 años siguió la doctrina keynesiana, pero que llevó al país a una de las peores recesiones económicas en los últimos 40 años, con un decrecimiento del Producto Interno Bruto (PIB) de -2,4% a junio del presente año.\n",
    "Uno de los primeros en manifestarse fue el presidente de la Cámara de Industria, Comercio, Servicios y Turismo de Santa Cruz (Cainco), Jean Pierre Antelo, quien destacó que el país ingresa a otra etapa que debe estar guiada por el diálogo, la responsabilidad y la visión compartida de un nuevo modelo económico.\n",
    "“Es momento de tender puentes, de construir consensos amplios y de impulsar un modelo económico nuevo basado en el potencial de nuestra gente, en la productividad, en la innovación y la apertura al mundo”, expresó Antelo en un video institucional.\n",
    "En esa línea, afirmó que el sector privado está listo para trabajar con el gobierno entrante, al sugerir que el desarrollo nacional requiere sumar esfuerzos, atraer inversión y consolidar reglas claras que fortalezcan la confianza y el empleo.\n",
    "“El sector privado que ha permanecido en pie, a pesar de la adversidad, está listo para trabajar con el nuevo gobierno porque el desarrollo de Bolivia se construirá sumando fuerzas, atrayendo inversión con empleos, con confianza y reglas claras”, agregó.\n",
    "Por su parte, el presidente de la Cámara Nacional de Industrias (CNI), Gonzalo Morales, expresó que la segunda vuelta fue “una ejemplar jornada democrática”, donde el pueblo boliviano expresó su voluntad, dando inicio a una nueva etapa para Bolivia.\n",
    "“La industria nacional reitera su compromiso con el desarrollo del país e invita al nuevo mandatario a sostener una reunión de trabajo con la CNI, ajustándonos a su agenda para definir el día y la hora”, expresó Morales en su  mensaje.\n",
    "En ese marco, destacó la importancia de la industria para el futuro de Bolivia. “Señor presidente cuente con la industria boliviana, estamos listos para construir juntos una Bolivia productiva, fuerte y unida. Porque cuando la industria se fortalece, Bolivia progresa”, añadió.\n",
    "En tanto, la Confederación de Empresarios Privados de Bolivia (CEPB), en un comunicado de cinco puntos difundido la noche del domingo, auguró el mayor de los éxitos a Paz y Lara porque “sabemos que el desafío es muy grande y confiamos que sabrán conducir el destino de la Patria con sabiduría, firmeza y compromiso”.\n",
    "El ente empresarial hizo un llamado “a todas las organizaciones políticas y a las entidades de la sociedad a fortalecer la unidad nacional, iniciar una etapa de reconciliación y asumir juntos la decisión de remontar la crisis e iniciar el camino de la reconstrucción que tanto necesita nuestro país”.\n",
    "La Cámara Boliviana de Hidrocarburos y Energía (CBHE), el lunes manifestó también su “respaldo al Gobierno recientemente elegido y su voluntad de generar los espacios de diálogo y coordinación para impulsar acciones que permitan la reactivación de la economía boliviana y específicamente del sector hidrocarburos, que es estratégico para el país y requiere atención urgente”.\n",
    "Asimismo, el gremio de las petroleras privadas manifestó “su confianza en que los diferentes actores políticos y sociales contribuirán a generar espacios de unidad nacional y un trabajo conjunto para adoptar las medidas que necesita el país para recuperar la estabilidad en el menor tiempo posible”.\n",
    "De su lado, el Comité Multisectorial, compuesto por gremios empresariales, exportadores, transportistas, agropecuarios y gremiales -entre otros-, felicitaron al presidente y vicepresidente electos en el balotaje del domingo y pidieron un cambio del rumbo del modelo económico del país.\n",
    "El vocero del comité y presidente de la Cámara de Nacional Exportadores de Bolivia (Caneb), Oswaldo Barriga, anunció que en las próximas harán llegar una invitación formal a las nuevas autoridades electas.\n",
    "“Venimos esperando por dos décadas el cambio del modelo económico que nos condujo al desempleo, a la falta de alimentos, cierre de unidades productivas, desabastecimiento de productos y generando mayor pobreza en Bolivia. Hoy recibimos con expectativa al nuevo gobierno que se posesionará en los próximos días”, manifestó Barriga en presencia de representantes de distintos sectores.\n",
    "Agregó que se espera que se tomen medidas urgentes, trabajar desde el primer día en medidas de fondo “para sacar a los bolivianos de la situación desesperante en que se encuentran, donde todos los días ven disminuir sus ingresos. “Es urgente revertir esta tendencia. Hacemos un llamado a parlamentarios electos y a la clase política. Se acabó el periodo de campaña, es hora de trabajar por Bolivia”, consideró Barriga.\n",
    "Vigilantes de las promesas\n",
    "El Directorio de la Cámara Agropecuaria del Oriente (CAO) advirtió a los gobernantes electos que  los productores serán “fieles observadores” de las promesas electorales y lo invitó a una reunión “para compatibilizar las acciones inmediatas que el país necesita y reactivar todo este aparato productivo que está en terapia intensiva”.\n",
    "“El sector agropecuario no solo produce, sostiene al país cuando más lo necesita”, expresó el presidente de la CAO, Klaus Frerking, al dejar “muy claro” que el sector no renunciará a todas las luchas y a la agenda que “por décadas ha sido arrinconada, como las exigencias de la aprobación de la biotecnología, de la seguridad jurídica para que se terminen los avasallamientos, liberar las bandas de precio y las exportaciones ya sin cupo y sin restricciones.\n",
    "“Y un tema transversal, el abastecimiento permanente de combustible, que garantice la continuidad para poder seguir produciendo para todos los bolivianos”, agregó Frerking.\n",
    "Combustibles en 20 días\n",
    "En su primera conferencia como presidente electo, Rodrigo Paz afirmó que habló con el secretario adjunto de Estados Unidos, Christopher Landau, para que junto a un grupo de “países amigos” como Brasil, Uruguay, Paraguay y Argentina colaboraren para que “a partir del 8, 9 de noviembre, en función de la necesidad del país, resolver las largas filas que tenemos con el problema de los hidrocarburos”, señaló.\n",
    "Aseguró también que será necesaria “una flexibilidad” para resolver el tema del dólar para la compra de combustibles en el exterior y que, en los siguientes días, se harán los anuncios sobre la logística para la importación de combustibles al país.\n",
    "\"\"\""
   ]
  },
  {
   "cell_type": "code",
   "execution_count": 22,
   "id": "c7f79674",
   "metadata": {},
   "outputs": [
    {
     "data": {
      "text/plain": [
       "Prediction(\n",
       "    reasoning='The text states that \"El sector privado no confia en los resultados electorales,\" which contradicts the context provided. The context describes various sectors, including the private sector, expressing their congratulations and support for the newly elected president and vice president, indicating a willingness to collaborate and work towards economic recovery. Therefore, the claim in the text is not supported by the context.',\n",
       "    faithfulness=False,\n",
       "    evidence={'context_support': ['distintos sectores productivos y empresariales hicieron llegar sus felicitaciones a Rodrigo Paz y Edmand Lara', 'El sector privado que ha permanecido en pie, a pesar de la adversidad, está listo para trabajar con el nuevo gobierno', 'La industria nacional reitera su compromiso con el desarrollo del país', 'El ente empresarial hizo un llamado a fortalecer la unidad nacional', 'El Comité Multisectorial... felicitaron al presidente y vicepresidente electos']}\n",
       ")"
      ]
     },
     "execution_count": 22,
     "metadata": {},
     "output_type": "execute_result"
    }
   ],
   "source": [
    "class CheckCitationFaithfulness(dspy.Signature):\n",
    "    \"\"\"Verify that the text is based on the provided context.\"\"\"\n",
    "    context: str = dspy.InputField(desc=\"facts here are assumed to be true\")\n",
    "    text: str = dspy.InputField()\n",
    "    faithfulness: bool = dspy.OutputField()\n",
    "    evidence: dict[str, list[str]] = dspy.OutputField(desc=\"Supporting evidence for claims\")\n",
    "\n",
    "# context = \"The 21-year-old made seven appearances for the Hammers and netted his only goal for them in a Europa League qualification round match against Andorran side FC Lustrains last season. Lee had two loan spells in League One last term, with Blackpool and then Colchester United. He scored twice for the U's but was unable to save them from relegation. The length of Lee's contract with the promoted Tykes has not been revealed. Find all the latest football transfers on our dedicated page.\"\n",
    "\n",
    "text = \"El sector privado no confia en los resultados electorales\"\n",
    "\n",
    "faithfulness = dspy.ChainOfThought(CheckCitationFaithfulness)\n",
    "faithfulness(context=context, text=text)\n"
   ]
  },
  {
   "cell_type": "markdown",
   "id": "11804fe9",
   "metadata": {},
   "source": [
    "## Resolución de tipos en Signatures\n",
    "\n",
    "DSPy suporta varias anotaciones de tipo:\n",
    "\n",
    "1. Basicas: `str`, `int`, `bool`\n",
    "2. Typing: `list[int]`, `dict[str, int]`\n",
    "3. Custom: definidos en código\n",
    "4. Tipos de datos especiales."
   ]
  },
  {
   "cell_type": "code",
   "execution_count": 24,
   "id": "1138ce04",
   "metadata": {},
   "outputs": [],
   "source": [
    "import pydantic\n",
    "# Simple custom type\n",
    "class QueryResult(pydantic.BaseModel):\n",
    "    text: str\n",
    "    score: float\n",
    "\n",
    "signature = dspy.Signature(\"query: str -> result: QueryResult\")\n",
    "\n",
    "class MyContainer:\n",
    "    class Query(pydantic.BaseModel):\n",
    "        text: str\n",
    "    class Score(pydantic.BaseModel):\n",
    "        score: float\n",
    "\n",
    "signature = dspy.Signature(\"query: MyContainer.Query -> score: MyContainer.Score\")"
   ]
  },
  {
   "cell_type": "markdown",
   "id": "4eb5165e",
   "metadata": {},
   "source": [
    "# Modules\n",
    "Un módulo de DSPy es un bloque de construcción para programas con LLMs\n",
    "- Existen módulos incluidos que abstraen una técnica de prompting (CoT, ReAct).\n",
    "- Un módulo tiene parámetros sintonizables, estos se pueden invocar para procesar entradas y devolver salidas.\n",
    "- Múltiples módulos pueden ser agrupados en módulos más grandes (Programas). Estan basados en NN modules de Pytorch"
   ]
  },
  {
   "cell_type": "markdown",
   "id": "b6531d61",
   "metadata": {},
   "source": [
    "### Modulos básicos: dspy.Predict\n"
   ]
  },
  {
   "cell_type": "code",
   "execution_count": null,
   "id": "fccb6a58",
   "metadata": {},
   "outputs": [],
   "source": [
    "sentence = \"it's a charming and often affecting journey.\"  # example from the SST-2 dataset.\n",
    "\n",
    "# 1) Declare with a signature.\n",
    "classify = dspy.Predict('sentence -> sentiment: bool')\n",
    "\n",
    "# 2) Call with input argument(s). \n",
    "response = classify(sentence=sentence)\n",
    "\n",
    "# 3) Access the output.\n",
    "print(response.sentiment)"
   ]
  },
  {
   "cell_type": "markdown",
   "id": "1e969a5e",
   "metadata": {},
   "source": [
    "### dspy.ChainOfThought"
   ]
  },
  {
   "cell_type": "code",
   "execution_count": 26,
   "id": "d2d49ac2",
   "metadata": {},
   "outputs": [
    {
     "data": {
      "text/plain": [
       "['Bolivia is known for its incredible natural diversity, including the Andes mountains, the Amazon rainforest, and the Salar de Uyuni salt flats, as well as its rich cultural heritage.',\n",
       " 'One great thing about Bolivia is its stunning natural landscapes, including the breathtaking Salt Flats of Salar de Uyuni and the diverse ecosystems found in the Andes and the Amazon rainforest, along with a rich indigenous cultural heritage.',\n",
       " 'One great thing about Bolivia is the breathtaking Salar de Uyuni, the largest salt flat in the world, which offers stunning landscapes and unique natural beauty.',\n",
       " 'One great thing about Bolivia is its incredible natural beauty, including the breathtaking Salar de Uyuni and the culturally rich Lake Titicaca, alongside its diverse indigenous cultures and traditions.',\n",
       " \"One great thing about Bolivia is its breathtaking natural beauty, particularly seen in places like Salar de Uyuni, the world's largest salt flat, and its diverse ecosystems ranging from the Andes mountains to the Amazon rainforest, coupled with a rich indigenous culture.\"]"
      ]
     },
     "execution_count": 26,
     "metadata": {},
     "output_type": "execute_result"
    }
   ],
   "source": [
    "question = \"What's something great about Bolivia?\"\n",
    "\n",
    "# 1) Declare with a signature, and pass some config.\n",
    "classify = dspy.ChainOfThought('question -> answer', n=5)\n",
    "\n",
    "# 2) Call with input argument.\n",
    "response = classify(question=question)\n",
    "\n",
    "# 3) Access the outputs.\n",
    "response.completions.answer"
   ]
  },
  {
   "cell_type": "markdown",
   "id": "7b743cd6",
   "metadata": {},
   "source": [
    "dspy.ChainOfThought genera internamente el razonamiento en el campo `reasoning`"
   ]
  },
  {
   "cell_type": "code",
   "execution_count": 27,
   "id": "3a4548ca",
   "metadata": {},
   "outputs": [
    {
     "name": "stdout",
     "output_type": "stream",
     "text": [
      "Reasoning: One great aspect of Bolivia is its stunning natural diversity, which includes the Andes mountains, the Amazon rainforest, and the unique salt flats of Salar de Uyuni. This variety offers a wide range of ecosystems and breathtaking landscapes, making it a paradise for nature lovers and adventurers. Additionally, Bolivia is rich in cultural heritage, with a blend of indigenous traditions and colonial history that can be seen in its festivals, music, and cuisine.\n",
      "Answer: Bolivia is known for its incredible natural diversity, including the Andes mountains, the Amazon rainforest, and the Salar de Uyuni salt flats, as well as its rich cultural heritage.\n"
     ]
    }
   ],
   "source": [
    "print(f\"Reasoning: {response.reasoning}\")\n",
    "print(f\"Answer: {response.answer}\")"
   ]
  },
  {
   "cell_type": "code",
   "execution_count": null,
   "id": "146ffb5b",
   "metadata": {},
   "outputs": [],
   "source": [
    "response.completions[3].reasoning == response.completions.reasoning[3]"
   ]
  },
  {
   "cell_type": "markdown",
   "id": "153d6c4c",
   "metadata": {},
   "source": [
    "### Otros módulos\n",
    "\n",
    "1. `dspy.Predict`. Predictor básico. No modifica el Signature.\n",
    "2. `dspy.ChainOfThought`. El modelo debe pensar en un paso a paso antes de responder.\n",
    "3. `dspy.ProgramOfThought`. El modelo debe devolver código fuente, cuyo resultado define la respuesta.\n",
    "4. `dspy.ReAct`. Un agente que puede usar herramientas.\n",
    "5. `dspy.MultiChainComparison`. Puede comparar múltiples salidas de un módulo `ChainOfThought` para producir la respuesta final.\n"
   ]
  },
  {
   "cell_type": "markdown",
   "id": "7a8727b4",
   "metadata": {},
   "source": [
    "### Ejemplos"
   ]
  },
  {
   "cell_type": "code",
   "execution_count": 28,
   "id": "807a1277",
   "metadata": {},
   "outputs": [
    {
     "data": {
      "text/plain": [
       "Prediction(\n",
       "    reasoning='When two dice are tossed, each die has 6 faces, resulting in a total of 6 * 6 = 36 possible outcomes. The only way to achieve a sum of 2 is if both dice show a 1 (i.e., (1,1)). There is only 1 favorable outcome for this event. Therefore, the probability of the sum equaling 2 is the number of favorable outcomes divided by the total number of outcomes, which is 1/36.',\n",
       "    answer=0.027777777777777776\n",
       ")"
      ]
     },
     "execution_count": 28,
     "metadata": {},
     "output_type": "execute_result"
    }
   ],
   "source": [
    "math = dspy.ChainOfThought(\"question -> answer: float\")\n",
    "math(question=\"Two dice are tossed. What is the probability that the sum equals two?\")"
   ]
  },
  {
   "cell_type": "code",
   "execution_count": 29,
   "id": "c2142bfc",
   "metadata": {},
   "outputs": [
    {
     "ename": "KeyError",
     "evalue": "'topk'",
     "output_type": "error",
     "traceback": [
      "\u001b[31m---------------------------------------------------------------------------\u001b[39m",
      "\u001b[31mKeyError\u001b[39m                                  Traceback (most recent call last)",
      "\u001b[36mCell\u001b[39m\u001b[36m \u001b[39m\u001b[32mIn[29]\u001b[39m\u001b[32m, line 9\u001b[39m\n\u001b[32m      6\u001b[39m rag = dspy.ChainOfThought(\u001b[33m'\u001b[39m\u001b[33mcontext, question -> response\u001b[39m\u001b[33m'\u001b[39m)\n\u001b[32m      8\u001b[39m question = \u001b[33m\"\u001b[39m\u001b[33mWhat\u001b[39m\u001b[33m'\u001b[39m\u001b[33ms the name of the castle that David Gregory inherited?\u001b[39m\u001b[33m\"\u001b[39m\n\u001b[32m----> \u001b[39m\u001b[32m9\u001b[39m rag(context=\u001b[43msearch\u001b[49m\u001b[43m(\u001b[49m\u001b[43mquestion\u001b[49m\u001b[43m)\u001b[49m, question=question)\n",
      "\u001b[36mCell\u001b[39m\u001b[36m \u001b[39m\u001b[32mIn[29]\u001b[39m\u001b[32m, line 3\u001b[39m, in \u001b[36msearch\u001b[39m\u001b[34m(query)\u001b[39m\n\u001b[32m      1\u001b[39m \u001b[38;5;28;01mdef\u001b[39;00m\u001b[38;5;250m \u001b[39m\u001b[34msearch\u001b[39m(query: \u001b[38;5;28mstr\u001b[39m) -> \u001b[38;5;28mlist\u001b[39m[\u001b[38;5;28mstr\u001b[39m]:\n\u001b[32m      2\u001b[39m \u001b[38;5;250m    \u001b[39m\u001b[33;03m\"\"\"Retrieves abstracts from Wikipedia.\"\"\"\u001b[39;00m\n\u001b[32m----> \u001b[39m\u001b[32m3\u001b[39m     results = \u001b[43mdspy\u001b[49m\u001b[43m.\u001b[49m\u001b[43mColBERTv2\u001b[49m\u001b[43m(\u001b[49m\u001b[43murl\u001b[49m\u001b[43m=\u001b[49m\u001b[33;43m'\u001b[39;49m\u001b[33;43mhttp://20.102.90.50:2017/wiki17_abstracts\u001b[39;49m\u001b[33;43m'\u001b[39;49m\u001b[43m)\u001b[49m\u001b[43m(\u001b[49m\u001b[43mquery\u001b[49m\u001b[43m,\u001b[49m\u001b[43m \u001b[49m\u001b[43mk\u001b[49m\u001b[43m=\u001b[49m\u001b[32;43m3\u001b[39;49m\u001b[43m)\u001b[49m\n\u001b[32m      4\u001b[39m     \u001b[38;5;28;01mreturn\u001b[39;00m [x[\u001b[33m'\u001b[39m\u001b[33mtext\u001b[39m\u001b[33m'\u001b[39m] \u001b[38;5;28;01mfor\u001b[39;00m x \u001b[38;5;129;01min\u001b[39;00m results]\n",
      "\u001b[36mFile \u001b[39m\u001b[32m~/dev/topics/ai-topics-2-2025/.venv/lib/python3.12/site-packages/dspy/dsp/colbertv2.py:32\u001b[39m, in \u001b[36mColBERTv2.__call__\u001b[39m\u001b[34m(self, query, k, simplify)\u001b[39m\n\u001b[32m     30\u001b[39m     topk: \u001b[38;5;28mlist\u001b[39m[\u001b[38;5;28mdict\u001b[39m[\u001b[38;5;28mstr\u001b[39m, Any]] = colbertv2_post_request(\u001b[38;5;28mself\u001b[39m.url, query, k)\n\u001b[32m     31\u001b[39m \u001b[38;5;28;01melse\u001b[39;00m:\n\u001b[32m---> \u001b[39m\u001b[32m32\u001b[39m     topk: \u001b[38;5;28mlist\u001b[39m[\u001b[38;5;28mdict\u001b[39m[\u001b[38;5;28mstr\u001b[39m, Any]] = \u001b[43mcolbertv2_get_request\u001b[49m\u001b[43m(\u001b[49m\u001b[38;5;28;43mself\u001b[39;49m\u001b[43m.\u001b[49m\u001b[43murl\u001b[49m\u001b[43m,\u001b[49m\u001b[43m \u001b[49m\u001b[43mquery\u001b[49m\u001b[43m,\u001b[49m\u001b[43m \u001b[49m\u001b[43mk\u001b[49m\u001b[43m)\u001b[49m\n\u001b[32m     34\u001b[39m \u001b[38;5;28;01mif\u001b[39;00m simplify:\n\u001b[32m     35\u001b[39m     \u001b[38;5;28;01mreturn\u001b[39;00m [psg[\u001b[33m\"\u001b[39m\u001b[33mlong_text\u001b[39m\u001b[33m\"\u001b[39m] \u001b[38;5;28;01mfor\u001b[39;00m psg \u001b[38;5;129;01min\u001b[39;00m topk]\n",
      "\u001b[36mFile \u001b[39m\u001b[32m~/dev/topics/ai-topics-2-2025/.venv/lib/python3.12/site-packages/dspy/clients/cache.py:235\u001b[39m, in \u001b[36mrequest_cache.<locals>.decorator.<locals>.sync_wrapper\u001b[39m\u001b[34m(*args, **kwargs)\u001b[39m\n\u001b[32m    232\u001b[39m \u001b[38;5;66;03m# Otherwise, compute and store the result\u001b[39;00m\n\u001b[32m    233\u001b[39m \u001b[38;5;66;03m# Make a copy of the original request in case it's modified in place, e.g., deleting some fields\u001b[39;00m\n\u001b[32m    234\u001b[39m original_request = copy.deepcopy(modified_request)\n\u001b[32m--> \u001b[39m\u001b[32m235\u001b[39m result = \u001b[43mfn\u001b[49m\u001b[43m(\u001b[49m\u001b[43m*\u001b[49m\u001b[43margs\u001b[49m\u001b[43m,\u001b[49m\u001b[43m \u001b[49m\u001b[43m*\u001b[49m\u001b[43m*\u001b[49m\u001b[43mkwargs\u001b[49m\u001b[43m)\u001b[49m\n\u001b[32m    236\u001b[39m \u001b[38;5;66;03m# `enable_memory_cache` can be provided at call time to avoid indefinite growth.\u001b[39;00m\n\u001b[32m    237\u001b[39m cache.put(original_request, result, ignored_args_for_cache_key, enable_memory_cache)\n",
      "\u001b[36mFile \u001b[39m\u001b[32m~/dev/topics/ai-topics-2-2025/.venv/lib/python3.12/site-packages/dspy/dsp/colbertv2.py:54\u001b[39m, in \u001b[36mcolbertv2_get_request_v2_wrapped\u001b[39m\u001b[34m(*args, **kwargs)\u001b[39m\n\u001b[32m     52\u001b[39m \u001b[38;5;129m@request_cache\u001b[39m()\n\u001b[32m     53\u001b[39m \u001b[38;5;28;01mdef\u001b[39;00m\u001b[38;5;250m \u001b[39m\u001b[34mcolbertv2_get_request_v2_wrapped\u001b[39m(*args, **kwargs):\n\u001b[32m---> \u001b[39m\u001b[32m54\u001b[39m     \u001b[38;5;28;01mreturn\u001b[39;00m \u001b[43mcolbertv2_get_request_v2\u001b[49m\u001b[43m(\u001b[49m\u001b[43m*\u001b[49m\u001b[43margs\u001b[49m\u001b[43m,\u001b[49m\u001b[43m \u001b[49m\u001b[43m*\u001b[49m\u001b[43m*\u001b[49m\u001b[43mkwargs\u001b[49m\u001b[43m)\u001b[49m\n",
      "\u001b[36mFile \u001b[39m\u001b[32m~/dev/topics/ai-topics-2-2025/.venv/lib/python3.12/site-packages/dspy/clients/cache.py:235\u001b[39m, in \u001b[36mrequest_cache.<locals>.decorator.<locals>.sync_wrapper\u001b[39m\u001b[34m(*args, **kwargs)\u001b[39m\n\u001b[32m    232\u001b[39m \u001b[38;5;66;03m# Otherwise, compute and store the result\u001b[39;00m\n\u001b[32m    233\u001b[39m \u001b[38;5;66;03m# Make a copy of the original request in case it's modified in place, e.g., deleting some fields\u001b[39;00m\n\u001b[32m    234\u001b[39m original_request = copy.deepcopy(modified_request)\n\u001b[32m--> \u001b[39m\u001b[32m235\u001b[39m result = \u001b[43mfn\u001b[49m\u001b[43m(\u001b[49m\u001b[43m*\u001b[49m\u001b[43margs\u001b[49m\u001b[43m,\u001b[49m\u001b[43m \u001b[49m\u001b[43m*\u001b[49m\u001b[43m*\u001b[49m\u001b[43mkwargs\u001b[49m\u001b[43m)\u001b[49m\n\u001b[32m    236\u001b[39m \u001b[38;5;66;03m# `enable_memory_cache` can be provided at call time to avoid indefinite growth.\u001b[39;00m\n\u001b[32m    237\u001b[39m cache.put(original_request, result, ignored_args_for_cache_key, enable_memory_cache)\n",
      "\u001b[36mFile \u001b[39m\u001b[32m~/dev/topics/ai-topics-2-2025/.venv/lib/python3.12/site-packages/dspy/dsp/colbertv2.py:47\u001b[39m, in \u001b[36mcolbertv2_get_request_v2\u001b[39m\u001b[34m(url, query, k)\u001b[39m\n\u001b[32m     44\u001b[39m payload = {\u001b[33m\"\u001b[39m\u001b[33mquery\u001b[39m\u001b[33m\"\u001b[39m: query, \u001b[33m\"\u001b[39m\u001b[33mk\u001b[39m\u001b[33m\"\u001b[39m: k}\n\u001b[32m     45\u001b[39m res = requests.get(url, params=payload, timeout=\u001b[32m10\u001b[39m)\n\u001b[32m---> \u001b[39m\u001b[32m47\u001b[39m topk = \u001b[43mres\u001b[49m\u001b[43m.\u001b[49m\u001b[43mjson\u001b[49m\u001b[43m(\u001b[49m\u001b[43m)\u001b[49m\u001b[43m[\u001b[49m\u001b[33;43m\"\u001b[39;49m\u001b[33;43mtopk\u001b[39;49m\u001b[33;43m\"\u001b[39;49m\u001b[43m]\u001b[49m[:k]\n\u001b[32m     48\u001b[39m topk = [{**d, \u001b[33m\"\u001b[39m\u001b[33mlong_text\u001b[39m\u001b[33m\"\u001b[39m: d[\u001b[33m\"\u001b[39m\u001b[33mtext\u001b[39m\u001b[33m\"\u001b[39m]} \u001b[38;5;28;01mfor\u001b[39;00m d \u001b[38;5;129;01min\u001b[39;00m topk]\n\u001b[32m     49\u001b[39m \u001b[38;5;28;01mreturn\u001b[39;00m topk[:k]\n",
      "\u001b[31mKeyError\u001b[39m: 'topk'"
     ]
    }
   ],
   "source": [
    "def search(query: str) -> list[str]:\n",
    "    \"\"\"Retrieves abstracts from Wikipedia.\"\"\"\n",
    "    results = dspy.ColBERTv2(url='http://20.102.90.50:2017/wiki17_abstracts')(query, k=3)\n",
    "    return [x['text'] for x in results]\n",
    "\n",
    "rag = dspy.ChainOfThought('context, question -> response')\n",
    "\n",
    "question = \"What's the name of the castle that David Gregory inherited?\"\n",
    "rag(context=search(question), question=question)"
   ]
  },
  {
   "cell_type": "code",
   "execution_count": null,
   "id": "c221e3db",
   "metadata": {},
   "outputs": [],
   "source": [
    "from typing import Literal\n",
    "\n",
    "class Classify(dspy.Signature):\n",
    "    \"\"\"Classify sentiment of a given sentence.\"\"\"\n",
    "\n",
    "    sentence: str = dspy.InputField()\n",
    "    sentiment: Literal['positive', 'negative', 'neutral'] = dspy.OutputField()\n",
    "    confidence: float = dspy.OutputField()\n",
    "\n",
    "classify = dspy.Predict(Classify)\n",
    "classify(sentence=\"This book was super fun to read, though not the last chapter.\")"
   ]
  },
  {
   "cell_type": "code",
   "execution_count": null,
   "id": "f45f0745",
   "metadata": {},
   "outputs": [],
   "source": [
    "text = \"Apple Inc. announced its latest iPhone 14 today. The CEO, Tim Cook, highlighted its new features in a press release.\"\n",
    "\n",
    "module = dspy.Predict(\"text -> title, headings: list[str], entities_and_metadata: list[dict[str, str]]\")\n",
    "response = module(text=text)\n",
    "\n",
    "print(response.title)\n",
    "print(response.headings)\n",
    "print(response.entities_and_metadata)"
   ]
  },
  {
   "cell_type": "code",
   "execution_count": null,
   "id": "34c18244",
   "metadata": {},
   "outputs": [],
   "source": [
    "def evaluate_math(expression: str) -> float:\n",
    "    return dspy.PythonInterpreter({}).execute(expression)\n",
    "\n",
    "def search_wikipedia(query: str) -> str:\n",
    "    results = dspy.ColBERTv2(url='http://20.102.90.50:2017/wiki17_abstracts')(query, k=3)\n",
    "    return [x['text'] for x in results]\n",
    "\n",
    "react = dspy.ReAct(\"question -> answer: float\", tools=[evaluate_math, search_wikipedia])\n",
    "\n",
    "pred = react(question=\"What is 9362158 divided by the year of birth of David Gregory of Kinnairdy castle?\")\n",
    "print(pred.answer)"
   ]
  },
  {
   "cell_type": "markdown",
   "id": "d1d72e89",
   "metadata": {},
   "source": [
    "## Composición de módulos\n",
    "\n",
    "DSPy es solamente código en Python. Se pueden usar los módulos en cualquier bloque de control de flujo. Además, con una funcionalidad interna `compile` se puede hacer seguimiento a las llamadas al LLM."
   ]
  },
  {
   "cell_type": "code",
   "execution_count": 30,
   "id": "b6a31421",
   "metadata": {},
   "outputs": [],
   "source": [
    "# Ejemplo:\n",
    "class Hop(dspy.Module):\n",
    "    def __init__(self, num_docs=10, num_hops=4):\n",
    "        self.num_docs, self.num_hops = num_docs, num_hops\n",
    "        self.generate_query = dspy.ChainOfThought('claim, notes -> query')\n",
    "        self.append_notes = dspy.ChainOfThought('claim, notes, context -> new_notes: list[str], titles: list[str]')\n",
    "\n",
    "    def forward(self, claim: str) -> list[str]:\n",
    "        notes = []\n",
    "        titles = []\n",
    "\n",
    "        for _ in range(self.num_hops):\n",
    "            query = self.generate_query(claim=claim, notes=notes).query\n",
    "            context = search(query, k=self.num_docs)\n",
    "            prediction = self.append_notes(claim=claim, notes=notes, context=context)\n",
    "            notes.extend(prediction.new_notes)\n",
    "            titles.extend(prediction.titles)\n",
    "\n",
    "        return dspy.Prediction(notes=notes, titles=list(set(titles)))"
   ]
  },
  {
   "cell_type": "code",
   "execution_count": 31,
   "id": "9f861b67",
   "metadata": {},
   "outputs": [
    {
     "ename": "TypeError",
     "evalue": "search() got an unexpected keyword argument 'k'",
     "output_type": "error",
     "traceback": [
      "\u001b[31m---------------------------------------------------------------------------\u001b[39m",
      "\u001b[31mTypeError\u001b[39m                                 Traceback (most recent call last)",
      "\u001b[36mCell\u001b[39m\u001b[36m \u001b[39m\u001b[32mIn[31]\u001b[39m\u001b[32m, line 2\u001b[39m\n\u001b[32m      1\u001b[39m hop = Hop()\n\u001b[32m----> \u001b[39m\u001b[32m2\u001b[39m \u001b[38;5;28mprint\u001b[39m(\u001b[43mhop\u001b[49m\u001b[43m(\u001b[49m\u001b[43mclaim\u001b[49m\u001b[43m=\u001b[49m\u001b[33;43m\"\u001b[39;49m\u001b[33;43mStephen Curry is the best 3 pointer shooter ever in the human history\u001b[39;49m\u001b[33;43m\"\u001b[39;49m\u001b[43m)\u001b[49m)\n",
      "\u001b[36mFile \u001b[39m\u001b[32m~/dev/topics/ai-topics-2-2025/.venv/lib/python3.12/site-packages/dspy/utils/callback.py:326\u001b[39m, in \u001b[36mwith_callbacks.<locals>.sync_wrapper\u001b[39m\u001b[34m(instance, *args, **kwargs)\u001b[39m\n\u001b[32m    324\u001b[39m callbacks = _get_active_callbacks(instance)\n\u001b[32m    325\u001b[39m \u001b[38;5;28;01mif\u001b[39;00m \u001b[38;5;129;01mnot\u001b[39;00m callbacks:\n\u001b[32m--> \u001b[39m\u001b[32m326\u001b[39m     \u001b[38;5;28;01mreturn\u001b[39;00m \u001b[43mfn\u001b[49m\u001b[43m(\u001b[49m\u001b[43minstance\u001b[49m\u001b[43m,\u001b[49m\u001b[43m \u001b[49m\u001b[43m*\u001b[49m\u001b[43margs\u001b[49m\u001b[43m,\u001b[49m\u001b[43m \u001b[49m\u001b[43m*\u001b[49m\u001b[43m*\u001b[49m\u001b[43mkwargs\u001b[49m\u001b[43m)\u001b[49m\n\u001b[32m    328\u001b[39m call_id = uuid.uuid4().hex\n\u001b[32m    330\u001b[39m _execute_start_callbacks(instance, fn, call_id, callbacks, args, kwargs)\n",
      "\u001b[36mFile \u001b[39m\u001b[32m~/dev/topics/ai-topics-2-2025/.venv/lib/python3.12/site-packages/dspy/primitives/module.py:78\u001b[39m, in \u001b[36mModule.__call__\u001b[39m\u001b[34m(self, *args, **kwargs)\u001b[39m\n\u001b[32m     75\u001b[39m     output.set_lm_usage(usage_tracker.get_total_tokens())\n\u001b[32m     76\u001b[39m     \u001b[38;5;28;01mreturn\u001b[39;00m output\n\u001b[32m---> \u001b[39m\u001b[32m78\u001b[39m \u001b[38;5;28;01mreturn\u001b[39;00m \u001b[38;5;28;43mself\u001b[39;49m\u001b[43m.\u001b[49m\u001b[43mforward\u001b[49m\u001b[43m(\u001b[49m\u001b[43m*\u001b[49m\u001b[43margs\u001b[49m\u001b[43m,\u001b[49m\u001b[43m \u001b[49m\u001b[43m*\u001b[49m\u001b[43m*\u001b[49m\u001b[43mkwargs\u001b[49m\u001b[43m)\u001b[49m\n",
      "\u001b[36mCell\u001b[39m\u001b[36m \u001b[39m\u001b[32mIn[30]\u001b[39m\u001b[32m, line 14\u001b[39m, in \u001b[36mHop.forward\u001b[39m\u001b[34m(self, claim)\u001b[39m\n\u001b[32m     12\u001b[39m \u001b[38;5;28;01mfor\u001b[39;00m _ \u001b[38;5;129;01min\u001b[39;00m \u001b[38;5;28mrange\u001b[39m(\u001b[38;5;28mself\u001b[39m.num_hops):\n\u001b[32m     13\u001b[39m     query = \u001b[38;5;28mself\u001b[39m.generate_query(claim=claim, notes=notes).query\n\u001b[32m---> \u001b[39m\u001b[32m14\u001b[39m     context = \u001b[43msearch\u001b[49m\u001b[43m(\u001b[49m\u001b[43mquery\u001b[49m\u001b[43m,\u001b[49m\u001b[43m \u001b[49m\u001b[43mk\u001b[49m\u001b[43m=\u001b[49m\u001b[38;5;28;43mself\u001b[39;49m\u001b[43m.\u001b[49m\u001b[43mnum_docs\u001b[49m\u001b[43m)\u001b[49m\n\u001b[32m     15\u001b[39m     prediction = \u001b[38;5;28mself\u001b[39m.append_notes(claim=claim, notes=notes, context=context)\n\u001b[32m     16\u001b[39m     notes.extend(prediction.new_notes)\n",
      "\u001b[31mTypeError\u001b[39m: search() got an unexpected keyword argument 'k'"
     ]
    }
   ],
   "source": [
    "hop = Hop()\n",
    "print(hop(claim=\"Stephen Curry is the best 3 pointer shooter ever in the human history\"))"
   ]
  },
  {
   "cell_type": "code",
   "execution_count": null,
   "id": "0ef08489",
   "metadata": {},
   "outputs": [],
   "source": []
  }
 ],
 "metadata": {
  "kernelspec": {
   "display_name": "ai-topics-2-2025",
   "language": "python",
   "name": "python3"
  },
  "language_info": {
   "codemirror_mode": {
    "name": "ipython",
    "version": 3
   },
   "file_extension": ".py",
   "mimetype": "text/x-python",
   "name": "python",
   "nbconvert_exporter": "python",
   "pygments_lexer": "ipython3",
   "version": "3.12.11"
  }
 },
 "nbformat": 4,
 "nbformat_minor": 5
}
