{
 "cells": [
  {
   "cell_type": "markdown",
   "id": "371b3aea",
   "metadata": {},
   "source": [
    "# Intro a DSPy\n",
    "\n",
    "DSPy es un framework declarativo para construir software que usa AI de forma modular. Permite iteraciones rápidas y código estructurado en lugar de gestion de prompts en strings.\n",
    "\n",
    "DSPy ofrece algoritmos capaces de compilar sistemas AI."
   ]
  },
  {
   "cell_type": "markdown",
   "id": "f5d6f016",
   "metadata": {},
   "source": [
    "## Modelos de lenguaje (LLM)\n",
    "DSPy ofrece una API consistente para poder usar LLM de diversos proveedores, para así hacer el programa independiente de un solo proveedor de LLM."
   ]
  },
  {
   "cell_type": "code",
   "execution_count": 1,
   "id": "88c9870f",
   "metadata": {},
   "outputs": [
    {
     "data": {
      "text/plain": [
       "True"
      ]
     },
     "execution_count": 1,
     "metadata": {},
     "output_type": "execute_result"
    }
   ],
   "source": [
    "from dotenv import load_dotenv\n",
    "load_dotenv()"
   ]
  },
  {
   "cell_type": "code",
   "execution_count": 9,
   "id": "d218f854",
   "metadata": {},
   "outputs": [],
   "source": [
    "import dspy\n",
    "\n",
    "lm = dspy.LM(\"openai/gpt-3.5-turbo\")\n",
    "dspy.configure(lm=lm)"
   ]
  },
  {
   "cell_type": "markdown",
   "id": "77577b4c",
   "metadata": {},
   "source": [
    "## Invocando el LLM directamente"
   ]
  },
  {
   "cell_type": "code",
   "execution_count": 11,
   "id": "e802a665",
   "metadata": {},
   "outputs": [
    {
     "data": {
      "text/plain": [
       "['R: La cafetería tenía 23 manzanas, usaron 20 para el almuerzo, por lo que les quedaban 3 manzanas. Luego compraron 6 más, por lo que ahora tienen 3 + 6 = 9 manzanas. La respuesta es 9.']"
      ]
     },
     "execution_count": 11,
     "metadata": {},
     "output_type": "execute_result"
    }
   ],
   "source": [
    "lm(\"\"\"\n",
    "P: Roger tiene 5 pelotas y compra 2 bolsas de pelotas, cada bolsa tiene 3. cuantas bolsas tiene roger ahora?\n",
    "R: Roger inició con 5 pelotas. 2 bolsas de pelotas hacen un total de 6 pelotas. 5 + 6 = 11. La respuesta es 11\n",
    "P: La cafeteria tiene 23 manzanas. Si han usado 20 para el almuerzo y luego compraron 6 mas. Cuantas manzanas tienen?\n",
    "\"\"\", temperature=0.1)"
   ]
  },
  {
   "cell_type": "code",
   "execution_count": 7,
   "id": "f80016d6",
   "metadata": {},
   "outputs": [
    {
     "data": {
      "text/plain": [
       "['¡Hola, mundo! ¿Cómo andan, che? ¡Bienvenidos a este espacio donde la buena onda nunca falta!']"
      ]
     },
     "execution_count": 7,
     "metadata": {},
     "output_type": "execute_result"
    }
   ],
   "source": [
    "lm(messages=[\n",
    "    {\"role\": \"system\", \"content\": \"Eres un presentador de television Argentina, usa su jerga\"},\n",
    "    {\"role\": \"user\", \"content\": \"Di: hola mundo!\"}\n",
    "    ]\n",
    ")"
   ]
  },
  {
   "cell_type": "markdown",
   "id": "bb04260d",
   "metadata": {},
   "source": [
    "### Usando LLMs con módulos"
   ]
  },
  {
   "cell_type": "code",
   "execution_count": 8,
   "id": "a13eb07a",
   "metadata": {},
   "outputs": [
    {
     "name": "stdout",
     "output_type": "stream",
     "text": [
      "Bolivia ha tenido más de 60 presidentes desde su independencia en 1825.\n"
     ]
    }
   ],
   "source": [
    "# Define a module (ChainOfThought) and assign it a signature (return an answer, given a question).\n",
    "qa = dspy.ChainOfThought('question -> answer')\n",
    "\n",
    "# Run with the default LM configured with `dspy.configure` above.\n",
    "response = qa(question=\"Cuantos presidentes tuvo Bolivia?\")\n",
    "print(response.answer)"
   ]
  },
  {
   "cell_type": "markdown",
   "id": "9d07c060",
   "metadata": {},
   "source": [
    "### Usando multiples LLMs"
   ]
  },
  {
   "cell_type": "code",
   "execution_count": 12,
   "id": "75b61742",
   "metadata": {},
   "outputs": [
    {
     "name": "stdout",
     "output_type": "stream",
     "text": [
      "GPT-4o-mini: Bolivia ha tenido más de 60 presidentes desde su independencia en 1825.\n",
      "GPT-3.5-turbo: Bolivia ha tenido alrededor de 66 presidentes desde su independencia en 1825.\n"
     ]
    }
   ],
   "source": [
    "dspy.configure(lm=dspy.LM(\"openai/gpt-4o-mini\"))\n",
    "response = qa(question=\"Cuantos presidentes tuvo Bolivia?\")\n",
    "print('GPT-4o-mini:', response.answer)\n",
    "\n",
    "with dspy.context(lm=dspy.LM('openai/gpt-3.5-turbo')):\n",
    "    response = qa(question=\"Cuantos presidentes tuvo Bolivia?\")\n",
    "    print('GPT-3.5-turbo:', response.answer)"
   ]
  },
  {
   "cell_type": "markdown",
   "id": "5b5ad68b",
   "metadata": {},
   "source": [
    "### Configuracion de LLMs"
   ]
  },
  {
   "cell_type": "code",
   "execution_count": 18,
   "id": "72787289",
   "metadata": {},
   "outputs": [],
   "source": [
    "gpt_4o_mini = dspy.LM('openai/gpt-4o-mini', temperature=0.4, max_tokens=3000, stop=None, cache=False)"
   ]
  },
  {
   "cell_type": "code",
   "execution_count": 19,
   "id": "84d900cf",
   "metadata": {},
   "outputs": [
    {
     "data": {
      "text/plain": [
       "['Hasta octubre de 2023, Perú ha tenido más de 40 presidentes desde su independencia en 1821. La cifra exacta puede variar dependiendo de cómo se cuenten los presidentes interinos y los que asumieron el cargo de manera temporal. Algunos presidentes han ejercido el poder en múltiples ocasiones. Si necesitas información más específica o actualizada sobre un período particular o un presidente en específico, házmelo saber.']"
      ]
     },
     "execution_count": 19,
     "metadata": {},
     "output_type": "execute_result"
    }
   ],
   "source": [
    "gpt_4o_mini(\"cuantos presidentes tuvo Peru\")"
   ]
  },
  {
   "cell_type": "code",
   "execution_count": 21,
   "id": "14824e87",
   "metadata": {},
   "outputs": [
    {
     "data": {
      "text/plain": [
       "['This is a test!']"
      ]
     },
     "execution_count": 21,
     "metadata": {},
     "output_type": "execute_result"
    }
   ],
   "source": [
    "lm(\"Say this is a test!\", rollout_id=1, temperature=1.0)"
   ]
  },
  {
   "cell_type": "code",
   "execution_count": 24,
   "id": "9b7efd97",
   "metadata": {},
   "outputs": [
    {
     "data": {
      "text/plain": [
       "1"
      ]
     },
     "execution_count": 24,
     "metadata": {},
     "output_type": "execute_result"
    }
   ],
   "source": [
    "len(gpt_4o_mini.history)"
   ]
  },
  {
   "cell_type": "code",
   "execution_count": 27,
   "id": "543ca1b1",
   "metadata": {},
   "outputs": [
    {
     "data": {
      "text/plain": [
       "5.4149999999999995e-05"
      ]
     },
     "execution_count": 27,
     "metadata": {},
     "output_type": "execute_result"
    }
   ],
   "source": [
    "gpt_4o_mini.history[-1][\"cost\"]"
   ]
  },
  {
   "cell_type": "code",
   "execution_count": null,
   "id": "038aa06c",
   "metadata": {},
   "outputs": [],
   "source": []
  }
 ],
 "metadata": {
  "kernelspec": {
   "display_name": "ai-topics-2-2025",
   "language": "python",
   "name": "python3"
  },
  "language_info": {
   "codemirror_mode": {
    "name": "ipython",
    "version": 3
   },
   "file_extension": ".py",
   "mimetype": "text/x-python",
   "name": "python",
   "nbconvert_exporter": "python",
   "pygments_lexer": "ipython3",
   "version": "3.12.11"
  }
 },
 "nbformat": 4,
 "nbformat_minor": 5
}
