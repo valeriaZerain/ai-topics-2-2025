{
 "cells": [
  {
   "cell_type": "code",
   "execution_count": 1,
   "id": "dd7a071d",
   "metadata": {},
   "outputs": [],
   "source": [
    "from ollama import chat\n",
    "from ollama import ChatResponse"
   ]
  },
  {
   "cell_type": "code",
   "execution_count": 2,
   "id": "36b17b2a",
   "metadata": {},
   "outputs": [],
   "source": [
    "response = chat(model=\"gemma3:1b\", messages=[\n",
    "    {\"role\":\"user\", \"content\": \"por que el cielo es azul?\"}\n",
    "])"
   ]
  },
  {
   "cell_type": "code",
   "execution_count": 3,
   "id": "deaf4afc",
   "metadata": {},
   "outputs": [
    {
     "data": {
      "text/plain": [
       "'La razón por la que el cielo es azul es un fenómeno fascinante que se basa en la forma en que la luz del sol interactúa con los gases en la atmósfera de la Tierra. Aquí te explico con más detalle:\\n\\n**1. La Luz del Sol es RGB:**\\n\\n*   El sol emite luz en todas las longitudes de onda, pero la vemos como una mezcla de colores: rojo, naranja, amarillo y verde.  Este espectro de luz es lo que percibimos como el color del sol.\\n\\n**2. La Atmósfera y los Colores:**\\n\\n*   La atmósfera de la Tierra está compuesta principalmente de nitrógeno y oxígeno.\\n*   Cuando la luz del sol entra en la atmósfera, choca con estas moléculas de gas.  Esto hace que la luz se disperse y se difumine.\\n\\n**3. El Espectro de Rayos del Sol:**\\n\\n*   La luz del sol, al chocar con las moléculas de gas, es dispersada en todas direcciones. Esto significa que cada color de la luz se dispersa en diferentes direcciones.\\n\\n**4. Por qué vemos el Azul:**\\n\\n*   La luz azul se dispersa **más que los otros colores** de la luz del sol.  Piensa en ello como si tuvieras una \"gran cantidad de esferas de agua\" en el aire.  La luz azul es como una esfera de agua más pequeña, por lo que se dispersa en todas direcciones más fácilmente.\\n*   Como la luz azul se dispersa en todas direcciones, la vemos de todas partes en el cielo.\\n\\n**5. El Azul en Diferentes Horas del Día:**\\n\\n*   **Por la mañana:** El sol está más bajo en el horizonte, lo que significa que la luz que llega a nosotros es más directa.  Esto hace que la luz azul se disperse más, y vemos un cielo azul claro.\\n*   **Por la tarde:** El sol está más alto en el horizonte, por lo que la luz que llega a nosotros es más difusa.  Esto hace que la luz azul se disperse menos, y vemos un cielo más azulado, con un ligero tono anaranjado.\\n*   **Por la noche:**  El sol ya no está brillando, y la atmósfera está más oscura.  La luz azul se dispersa aún más, y vemos el cielo negro (o un negro azulado, dependiendo de la contaminación atmosférica).\\n\\n**En resumen, el azul del cielo es resultado de la dispersión de la luz solar por las moléculas de aire en la atmósfera.**\\n\\n**Un poco de ciencia adicional:**  La longitud de onda de la luz azul es más corta que la de otros colores. Esto significa que es más fácil para la luz azul ser dispersada.\\n\\nEspero que esta explicación te sea útil!\\n'"
      ]
     },
     "execution_count": 3,
     "metadata": {},
     "output_type": "execute_result"
    }
   ],
   "source": [
    "response.message.content"
   ]
  },
  {
   "cell_type": "code",
   "execution_count": 29,
   "id": "f43055b9",
   "metadata": {},
   "outputs": [],
   "source": [
    "import dspy\n",
    "lm = dspy.LM(\n",
    "    \"ollama_chat/gpt-oss:latest\", \n",
    "    api_base=\"https://workstation.tail5ac87b.ts.net\", \n",
    "    api_key=\"\"\n",
    ")\n",
    "dspy.configure(lm=lm)"
   ]
  },
  {
   "cell_type": "code",
   "execution_count": 30,
   "id": "7a0dc03b",
   "metadata": {},
   "outputs": [],
   "source": [
    "predict = dspy.Predict(\"question -> answer\")\n"
   ]
  },
  {
   "cell_type": "code",
   "execution_count": 31,
   "id": "548e2e98",
   "metadata": {},
   "outputs": [],
   "source": [
    "outputs = predict(question=\"por que el cielo es azul? explica con detalle y en una lista\")"
   ]
  },
  {
   "cell_type": "code",
   "execution_count": 32,
   "id": "43291303",
   "metadata": {},
   "outputs": [
    {
     "data": {
      "text/plain": [
       "'El cielo aparece azul debido a la dispersión de Rayleigh, un fenómeno físico que ocurre cuando la luz solar interactúa con las moléculas de la atmósfera terrestre. A continuación se detalla el proceso en una lista:\\n\\n1. **Composición de la luz solar**  \\n   - La luz del Sol es una mezcla de todas las longitudes de onda visibles (rojo, naranja, amarillo, verde, azul, índigo y violeta).  \\n   - Cada color tiene una longitud de onda diferente; el azul tiene una longitud de onda más corta (~450\\u202fnm) y el rojo una más larga (~650\\u202fnm).\\n\\n2. **Interacción con la atmósfera**  \\n   - La atmósfera está compuesta principalmente por nitrógeno y oxígeno, junto con pequeñas cantidades de otros gases y partículas.  \\n   - Cuando la luz solar entra en la atmósfera, sus fotones chocan con estas moléculas.\\n\\n3. **Dispersión de Rayleigh**  \\n   - La dispersión de Rayleigh describe cómo la intensidad de la luz dispersada por una partícula es inversamente proporcional a la cuarta potencia de la longitud de onda.  \\n   - Fórmula simplificada: \\\\(I \\\\propto \\\\frac{1}{\\\\lambda^4}\\\\).  \\n   - Por lo tanto, las longitudes de onda más cortas (azul y violeta) se dispersan mucho más que las largas (rojo y naranja).\\n\\n4. **Preferencia por el azul**  \\n   - Aunque el violeta también se dispersa intensamente, la atmósfera absorbe parte de esa luz y la visión humana es menos sensible al violeta.  \\n   - El azul, con una longitud de onda intermedia, se dispersa suficientemente para ser visible en todas direcciones, pero no tanto como el violeta.\\n\\n5. **Resultado visual**  \\n   - La luz azul dispersada llega a nuestros ojos desde todas las direcciones del cielo, mientras que la luz roja y naranja sigue más directamente su trayectoria.  \\n   - Por eso, cuando miramos al cielo durante el día, percibimos un tono azul predominante.\\n\\n6. **Variaciones en el color**  \\n   - **Al amanecer y al atardecer**: la luz solar atraviesa una mayor espesor de atmósfera, dispersando más el azul y dejando pasar más rojo y naranja.  \\n   - **Nubes y contaminación**: partículas más grandes dispersan la luz de manera diferente (dispersión Mie), lo que puede hacer que el cielo se vea gris o blanco.  \\n   - **Altitud**: a mayor altitud, hay menos moléculas para dispersar la luz, lo que puede hacer que el cielo se vea más profundo o incluso negro en la cima de montañas muy altas.\\n\\nEn resumen, el cielo es azul porque la luz solar se dispersa en la atmósfera, y la dispersión de Rayleigh favorece las longitudes de onda cortas (azul), haciendo que esa luz llegue a nuestros ojos desde todas las direcciones.'"
      ]
     },
     "execution_count": 32,
     "metadata": {},
     "output_type": "execute_result"
    }
   ],
   "source": [
    "outputs.answer"
   ]
  },
  {
   "cell_type": "code",
   "execution_count": null,
   "id": "70953386",
   "metadata": {},
   "outputs": [],
   "source": []
  },
  {
   "cell_type": "code",
   "execution_count": null,
   "id": "6eb58fe3",
   "metadata": {},
   "outputs": [],
   "source": []
  }
 ],
 "metadata": {
  "kernelspec": {
   "display_name": "ai-topics-2-2025",
   "language": "python",
   "name": "python3"
  },
  "language_info": {
   "codemirror_mode": {
    "name": "ipython",
    "version": 3
   },
   "file_extension": ".py",
   "mimetype": "text/x-python",
   "name": "python",
   "nbconvert_exporter": "python",
   "pygments_lexer": "ipython3",
   "version": "3.12.11"
  }
 },
 "nbformat": 4,
 "nbformat_minor": 5
}
