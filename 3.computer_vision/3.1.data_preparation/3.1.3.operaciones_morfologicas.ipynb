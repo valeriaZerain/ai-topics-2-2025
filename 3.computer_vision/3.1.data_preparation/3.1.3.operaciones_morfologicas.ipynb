{
 "cells": [
  {
   "cell_type": "markdown",
   "metadata": {},
   "source": [
    "# Operaciones morfológicas\n",
    "\n",
    "Las operaciones morfológicas estan relacionadas a la forma del contenido de una imagen. Usualmente se realizan sobre imágenes binarias. Para aplicar una operación morfológica se necesita una imagen y un kernel que define la naturaleza de la operación. Las dos operaciones morfológicas básicas son la **Erosión** y la **Dilatación**.\n"
   ]
  },
  {
   "cell_type": "markdown",
   "metadata": {},
   "source": [
    "## Binarización\n",
    "Antes de poder aplicar una operación morfológica es necesario *binarizar* la imagen que se desea procesar. Este proceso consiste en definir uno o varios umbrales para cada pixel en la imagen. Si el pixel se encuentra entre los rangos definidos por el umbral o los umbrales se asigna un valor maximo y si está fuera, se asigna un 0. \n",
    "\n",
    "Es necesario que la imagen a binarizar sea una imagen **en escala de grises** pues se toma en cuenta el valor de la intensidad del pixel para realizar el proceso de binarización.\n",
    "\n",
    "OpenCV provee diferentes tipos de binarización a través de la función `threshold()`.\n"
   ]
  },
  {
   "cell_type": "code",
   "execution_count": 1,
   "metadata": {},
   "outputs": [],
   "source": [
    "def display_gray(img, title=\"gray\"):\n",
    "    plt.imshow(img, cmap=\"gray\")\n",
    "    plt.title(title)\n",
    "    plt.xticks([])\n",
    "    plt.yticks([])\n",
    "\n",
    "def display_gray2(img1, img2):\n",
    "    plt.subplot(121)\n",
    "    plt.imshow(img1, cmap=\"gray\")\n",
    "    plt.title(\"Original\")\n",
    "    plt.xticks([])\n",
    "    plt.yticks([])\n",
    "    plt.subplot(122)\n",
    "    plt.imshow(img2, cmap=\"gray\")\n",
    "    plt.title(\"procesada\")\n",
    "    plt.xticks([])\n",
    "    plt.yticks([])\n",
    "\n",
    "def display_gray_row(*imgs):\n",
    "    for i, img in enumerate(imgs):\n",
    "        plt.subplot(1, len(imgs), i + 1)\n",
    "        plt.imshow(img, cmap=\"gray\")\n",
    "        plt.title(f\"{i}\")\n",
    "        plt.xticks([])\n",
    "        plt.yticks([])\n",
    "\n"
   ]
  },
  {
   "cell_type": "code",
   "execution_count": null,
   "metadata": {},
   "outputs": [],
   "source": [
    "import numpy as np\n",
    "import cv2\n",
    "import matplotlib.pyplot as plt\n",
    "%matplotlib inline\n",
    "plt.rcParams['figure.figsize'] = [14, 8]    # incrementar tamaño de plots\n",
    "\n",
    "img = cv2.imread(\"lenna.png\")\n",
    "\n",
    "gray = cv2.cvtColor(img, cv2.COLOR_BGR2GRAY)\n",
    "\n",
    "display_gray(gray)"
   ]
  },
  {
   "cell_type": "code",
   "execution_count": null,
   "metadata": {},
   "outputs": [],
   "source": []
  },
  {
   "cell_type": "code",
   "execution_count": null,
   "metadata": {},
   "outputs": [],
   "source": [
    "ret, thres = cv2.threshold(gray, 150, 255, cv2.THRESH_BINARY)\n",
    "\n",
    "display_gray2(gray, thres)"
   ]
  },
  {
   "cell_type": "code",
   "execution_count": null,
   "metadata": {},
   "outputs": [],
   "source": [
    "print(thres.shape)\n",
    "print(thres[200, 0])\n"
   ]
  },
  {
   "cell_type": "code",
   "execution_count": null,
   "metadata": {},
   "outputs": [],
   "source": [
    "ret, thres = cv2.threshold(gray, 127, 255, cv2.THRESH_BINARY_INV)\n",
    "\n",
    "display_gray2(gray, thres)"
   ]
  },
  {
   "cell_type": "code",
   "execution_count": null,
   "metadata": {},
   "outputs": [],
   "source": [
    "sudoku = cv2.cvtColor(cv2.imread(\"sudoku.png\"), cv2.COLOR_BGR2GRAY)\n",
    "sudoku = cv2.medianBlur(sudoku, 5)\n",
    "\n",
    "# binarizacion global\n",
    "ret, th1 = cv2.threshold(sudoku, 127, 255, cv2.THRESH_BINARY)\n",
    "\n",
    "# binarizacion adaptativa usando el valor medio\n",
    "th2 = cv2.adaptiveThreshold(sudoku, 255, cv2.ADAPTIVE_THRESH_MEAN_C, cv2.THRESH_BINARY, 11, 2)\n",
    "\n",
    "# binarizacion adaptativa usando una suma gaussiana\n",
    "th3 = cv2.adaptiveThreshold(sudoku, 255, cv2.ADAPTIVE_THRESH_GAUSSIAN_C, cv2.THRESH_BINARY, 11, 2)\n",
    "\n",
    "display_gray_row(sudoku, th1, th2, th3)"
   ]
  },
  {
   "cell_type": "markdown",
   "metadata": {},
   "source": [
    "## Erosión\n",
    "La idea de la operación de erosión es similar a la erosión del suelo: se eliminan los pixeles cercanos al borde de un contorno, luego de la operación, los contornos blancos se hacen más delgados o directamente desaparecen si son demasiado delgados o pequeños.\n",
    "\n",
    "La erosión es útil para remover ruido en forma de pixeles blancos, también para desconectar contornos en una imagen binarizada previamente.\n"
   ]
  },
  {
   "cell_type": "code",
   "execution_count": null,
   "metadata": {},
   "outputs": [],
   "source": [
    "kernel = np.ones((3, 3), np.uint8)\n",
    "\n",
    "sudoku_bin = cv2.adaptiveThreshold(sudoku, 255, cv2.ADAPTIVE_THRESH_GAUSSIAN_C, cv2.THRESH_BINARY_INV, 11, 2)\n",
    "\n",
    "erosion = cv2.erode(sudoku_bin, kernel, iterations=1)\n",
    "\n",
    "display_gray_row(sudoku_bin, erosion)"
   ]
  },
  {
   "cell_type": "markdown",
   "metadata": {},
   "source": [
    "## Dilatación\n",
    "\n",
    "La dilatación es la operación opuesta a la erosión. En este caso se incrementan los pixeles que tengan vecinos cercanos iguales a 1. Esto hace que la región blanca se incremente. Usualmente la dilatación se aplica luego de una erosión, debido a que la erosión disminuye el grosor del objeto y elimina el ruido, la dilatación vuelve a resaltar los objetos principales."
   ]
  },
  {
   "cell_type": "code",
   "execution_count": null,
   "metadata": {},
   "outputs": [],
   "source": [
    "kernel = np.ones((3, 3), np.uint8)\n",
    "\n",
    "dilation = cv2.dilate(sudoku_bin, kernel, iterations=1)\n",
    "\n",
    "display_gray_row(sudoku_bin, dilation)"
   ]
  },
  {
   "cell_type": "code",
   "execution_count": null,
   "metadata": {},
   "outputs": [],
   "source": [
    "# opening = erosion => dilation\n",
    "opening = cv2.morphologyEx(sudoku_bin, cv2.MORPH_OPEN, kernel)\n",
    "display_gray_row(sudoku_bin, opening)"
   ]
  },
  {
   "cell_type": "code",
   "execution_count": null,
   "metadata": {},
   "outputs": [],
   "source": [
    "kernel = np.ones((3, 3), np.uint8)\n",
    "\n",
    "sudoku_bin = cv2.adaptiveThreshold(sudoku, 255, cv2.ADAPTIVE_THRESH_GAUSSIAN_C, cv2.THRESH_BINARY_INV, 11, 2)\n",
    "\n",
    "# OPEN\n",
    "erosion = cv2.erode(sudoku_bin, kernel, iterations=1)\n",
    "dilation = cv2.dilate(erosion, kernel, iterations=1)\n",
    "\n",
    "opening = cv2.morphologyEx(sudoku_bin, cv2.MORPH_OPEN, kernel)\n",
    "\n",
    "display_gray_row(sudoku_bin, dilation, opening)"
   ]
  },
  {
   "cell_type": "code",
   "execution_count": null,
   "metadata": {},
   "outputs": [],
   "source": [
    "# closing = dilation => erosion\n",
    "closing = cv2.morphologyEx(sudoku_bin, cv2.MORPH_CLOSE, kernel)\n",
    "display_gray_row(sudoku_bin, closing)"
   ]
  },
  {
   "cell_type": "code",
   "execution_count": null,
   "metadata": {},
   "outputs": [],
   "source": [
    "# gradiente morfologico = dilation - erosion\n",
    "gradient = cv2.morphologyEx(sudoku_bin, cv2.MORPH_GRADIENT, kernel)\n",
    "display_gray_row(sudoku_bin, gradient)"
   ]
  },
  {
   "cell_type": "code",
   "execution_count": null,
   "metadata": {},
   "outputs": [],
   "source": [
    "numbers_mask = cv2.morphologyEx(sudoku_bin, cv2.MORPH_OPEN, kernel)\n",
    "numbers_mask = cv2.bitwise_not(numbers_mask)\n",
    "sudoku2 = cv2.bitwise_and(sudoku, sudoku, mask=numbers_mask)\n",
    "display_gray_row(sudoku, sudoku2)"
   ]
  },
  {
   "cell_type": "markdown",
   "metadata": {},
   "source": []
  }
 ],
 "metadata": {
  "interpreter": {
   "hash": "62eb3e910e44ea0e9978ea29c6f3fc7540fb99bfa181faf1a80d42ed442aa249"
  },
  "kernelspec": {
   "display_name": "Python 3.8.10 64-bit ('unifranz': virtualenv)",
   "name": "python3"
  },
  "language_info": {
   "codemirror_mode": {
    "name": "ipython",
    "version": 3
   },
   "file_extension": ".py",
   "mimetype": "text/x-python",
   "name": "python",
   "nbconvert_exporter": "python",
   "pygments_lexer": "ipython3",
   "version": "3.10.10"
  },
  "orig_nbformat": 4
 },
 "nbformat": 4,
 "nbformat_minor": 2
}
