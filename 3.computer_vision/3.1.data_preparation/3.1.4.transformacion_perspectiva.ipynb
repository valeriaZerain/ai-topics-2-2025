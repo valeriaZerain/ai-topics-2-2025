{
 "cells": [
  {
   "cell_type": "markdown",
   "metadata": {},
   "source": [
    "# Transformación de perspectiva\n"
   ]
  },
  {
   "cell_type": "markdown",
   "metadata": {},
   "source": [
    "## Transformación afín\n",
    "\n",
    "En una transformación afín, todas las líneas paralelas en la imagen original se mantienen paralelas en la imagen transformada. Para definir una matriz de transformación afín, se necesitan tres puntos en la imagen original y los correspondientes tres puntos en la imagen transformada. Con esto, se puede usar la función `getAffineTransform` para obtener una matriz de transformación que se puede usar en la función `warpAffine`.\n"
   ]
  },
  {
   "cell_type": "code",
   "execution_count": 1,
   "metadata": {},
   "outputs": [],
   "source": [
    "import numpy as np\n",
    "import cv2\n",
    "import matplotlib.pyplot as plt\n",
    "%matplotlib inline\n",
    "plt.rcParams['figure.figsize'] = [14, 8]    # incrementar tamaño de plots\n",
    "\n",
    "def display2(img1, img2):\n",
    "    plt.subplot(121)\n",
    "    plt.imshow(cv2.cvtColor(img1, cv2.COLOR_BGR2RGB))\n",
    "    plt.title(\"Original\")\n",
    "    plt.xticks([])\n",
    "    plt.yticks([])\n",
    "    plt.subplot(122)\n",
    "    plt.imshow(cv2.cvtColor(img2, cv2.COLOR_BGR2RGB))\n",
    "    plt.title(\"Filtrada\")\n",
    "    plt.xticks([])\n",
    "    plt.yticks([])"
   ]
  },
  {
   "cell_type": "code",
   "execution_count": null,
   "metadata": {},
   "outputs": [],
   "source": [
    "img = cv2.imread(\"affine.png\")\n",
    "\n",
    "filas, cols, ch = img.shape\n",
    "\n",
    "pts1 = np.float32([[50, 50], [200, 50], [50, 200]])\n",
    "pts2 = np.float32([[10, 100], [200, 50], [100, 250]])\n",
    "\n",
    "M = cv2.getAffineTransform(pts1, pts2)\n",
    "print(M)\n",
    "\n",
    "img_tr = cv2.warpAffine(img, M, (cols, filas))\n",
    "\n",
    "display2(img, img_tr)"
   ]
  },
  {
   "cell_type": "markdown",
   "metadata": {},
   "source": [
    "## Transformación de perspectiva\n",
    "Para una transformación de perspectiva, se necesita una matriz de transformación de dimensiones 3x3. Las líneas rectas en la imagen original se mantendrán como líneas rectas en la imagen transformada. Para poder encontrar esta transformación, se necesita definir **4 puntos** en ambas imágenes. Es importante considerar que de los 4 puntos, 3 de ellos no deben ser colineales. La matriz de transformación se puede hallar usando la función `getPerspectiveTransform`. Y luego aplicar la transformacion con la funcion `warpPerspective`.\n"
   ]
  },
  {
   "cell_type": "code",
   "execution_count": null,
   "metadata": {},
   "outputs": [],
   "source": [
    "img = cv2.imread(\"sudoku_perspective.png\")\n",
    "filas, cols, ch = img.shape\n",
    "\n",
    "\n",
    "pts1 = np.float32([[56,65],[368,52],[28,387],[389,390]])\n",
    "pts2 = np.float32([[0,0],[300,0],[0,300],[300,300]])\n",
    "\n",
    "M = cv2.getPerspectiveTransform(pts1,pts2)\n",
    "print(M)\n",
    "img_tr = cv2.warpPerspective(img,M,(300,300))\n",
    "\n",
    "display2(img, img_tr)"
   ]
  },
  {
   "cell_type": "markdown",
   "metadata": {},
   "source": [
    "## Ejercicio\n",
    "\n",
    "Transformar la perspectiva de las siguientes imágenes:\n",
    "\n",
    "![parking](parking.jpg)\n",
    "\n",
    "![parking2](parking2.jpg)\n",
    "\n",
    "Para la siguiente imagen, además de transformar la perspectiva, también rotar la imagen para que se pueda leer el texto:\n",
    "\n",
    "\n",
    "![parking3](parking3.jpg)"
   ]
  },
  {
   "cell_type": "code",
   "execution_count": null,
   "metadata": {},
   "outputs": [],
   "source": []
  },
  {
   "cell_type": "code",
   "execution_count": null,
   "metadata": {},
   "outputs": [],
   "source": [
    "def display_gray_row(*imgs):\n",
    "    for i, img in enumerate(imgs):\n",
    "        plt.subplot(1, len(imgs), i + 1)\n",
    "        plt.imshow(img, cmap=\"gray\")\n",
    "        plt.title(f\"{i}\")\n",
    "        plt.xticks([])\n",
    "        plt.yticks([])"
   ]
  },
  {
   "cell_type": "code",
   "execution_count": null,
   "metadata": {},
   "outputs": [],
   "source": [
    "\n"
   ]
  }
 ],
 "metadata": {
  "interpreter": {
   "hash": "62eb3e910e44ea0e9978ea29c6f3fc7540fb99bfa181faf1a80d42ed442aa249"
  },
  "kernelspec": {
   "display_name": "Python 3.8.10 64-bit ('unifranz': virtualenv)",
   "name": "python3"
  },
  "language_info": {
   "codemirror_mode": {
    "name": "ipython",
    "version": 3
   },
   "file_extension": ".py",
   "mimetype": "text/x-python",
   "name": "python",
   "nbconvert_exporter": "python",
   "pygments_lexer": "ipython3",
   "version": "3.10.10"
  },
  "orig_nbformat": 4
 },
 "nbformat": 4,
 "nbformat_minor": 2
}
