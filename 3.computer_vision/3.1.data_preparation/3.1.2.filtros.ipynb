{
 "cells": [
  {
   "cell_type": "markdown",
   "metadata": {},
   "source": [
    "## Convolución 2D (Filtrado)\n",
    "\n",
    "De similar manera que los filtros de convolución aplicados a señales 1D en forma de filtros pasa alto, pasa bajo, etc. En 2D se pueden aplicar filtros pasa bajo para remover ruido o difuminar la imágen, y los pasa alto para resaltar bordes.\n",
    "\n",
    "En OpenCV se cuenta con la función `filter2D()` que realiza la operación de convolución entre un kernel o filtro con una imagen. "
   ]
  },
  {
   "cell_type": "code",
   "execution_count": 3,
   "metadata": {},
   "outputs": [],
   "source": [
    "import numpy as np\n",
    "import cv2\n",
    "import matplotlib.pyplot as plt\n",
    "%matplotlib inline\n",
    "plt.rcParams['figure.figsize'] = [14, 8]    # incrementar tamaño de plots\n",
    "\n",
    "img = cv2.imread(\"lenna.png\")\n",
    "\n",
    "# Kernel normalizado\n",
    "kernel = np.ones((5, 5), np.float32) / 25\n",
    "\n",
    "def display2(img1, img2):\n",
    "    plt.subplot(121)\n",
    "    plt.imshow(cv2.cvtColor(img1, cv2.COLOR_BGR2RGB))\n",
    "    plt.title(\"Original\")\n",
    "    plt.xticks([])\n",
    "    plt.yticks([])\n",
    "    plt.subplot(122)\n",
    "    plt.imshow(cv2.cvtColor(img2, cv2.COLOR_BGR2RGB))\n",
    "    plt.title(\"Filtrada\")\n",
    "    plt.xticks([])\n",
    "    plt.yticks([])"
   ]
  },
  {
   "cell_type": "code",
   "execution_count": null,
   "metadata": {},
   "outputs": [],
   "source": [
    "display2(img, cv2.filter2D(img, -1, kernel))"
   ]
  },
  {
   "cell_type": "markdown",
   "metadata": {},
   "source": [
    "En el caso anterior, el kernel realiza una operación de promediado de pixeles para difuminar la imagen."
   ]
  },
  {
   "cell_type": "markdown",
   "metadata": {},
   "source": [
    "### Difuminado (Blurring)\n",
    "El difuminado o suavizado de una imagen se logra realizando la convolución entre una imagen y un kernel o filtro pasa-bajo. Existen distintas técnicas o tipos de kernels usados para esta tarea."
   ]
  },
  {
   "cell_type": "code",
   "execution_count": null,
   "metadata": {},
   "outputs": [],
   "source": [
    "# filtro gaussiano\n",
    "\n",
    "display2(img, cv2.GaussianBlur(img, (5, 5), 0))"
   ]
  },
  {
   "cell_type": "code",
   "execution_count": null,
   "metadata": {},
   "outputs": [],
   "source": [
    "# filtro mediana\n",
    "\n",
    "display2(img, cv2.medianBlur(img, 5))"
   ]
  },
  {
   "cell_type": "code",
   "execution_count": null,
   "metadata": {},
   "outputs": [],
   "source": [
    "# filtro bilateral\n",
    "\n",
    "display2(img, cv2.bilateralFilter(img, 9, 75, 75))"
   ]
  },
  {
   "cell_type": "markdown",
   "metadata": {},
   "source": [
    "## Detección de bordes usando filtros\n",
    "Se puede definir kernels que resalten el cambio de intensidad en una imagen, este cambio de intensidad es elevado en los puntos donde se presentan bordes, por tanto, se puede construir una imagen con bordes resaltados a partir de una convolución."
   ]
  },
  {
   "cell_type": "code",
   "execution_count": null,
   "metadata": {},
   "outputs": [],
   "source": [
    "# gradiente\n",
    "img_gray = cv2.cvtColor(img, cv2.COLOR_BGR2GRAY)\n",
    "\n",
    "# bordes horizontales\n",
    "kernel = np.array(\n",
    "    [[-1, -1, -1],\n",
    "    [0, 0, 0],\n",
    "    [1, 1, 1]]\n",
    ")\n",
    "\n",
    "display2(img_gray, cv2.filter2D(img_gray, -1, kernel))"
   ]
  },
  {
   "cell_type": "markdown",
   "metadata": {},
   "source": [
    "## Gradientes\n",
    "Sin embargo, OpenCV cuenta con funciones específicas para hallar gradientes en la imagen.\n",
    "\n",
    "  - Filtro de Sobel: resulta de una combinación entre un filtro gaussiano y una operación de diferenciación.\n",
    "  - Filtro laplaciano: Calcula el laplaciano de la imagen según la fórmula: $\\Delta img = \\frac{\\partial^2 img}{\\partial x^2} + \\frac{\\partial^2 img}{\\partial y^2}$\n",
    "  "
   ]
  },
  {
   "cell_type": "code",
   "execution_count": 15,
   "metadata": {},
   "outputs": [],
   "source": [
    "def display_gray(img1, img2):\n",
    "    plt.subplot(121)\n",
    "    plt.imshow(img1, cmap=\"gray\")\n",
    "    plt.title(\"Original\")\n",
    "    plt.xticks([])\n",
    "    plt.yticks([])\n",
    "    plt.subplot(122)\n",
    "    plt.imshow(img2, cmap=\"gray\")\n",
    "    plt.title(\"Filtrada\")\n",
    "    plt.xticks([])\n",
    "    plt.yticks([])"
   ]
  },
  {
   "cell_type": "code",
   "execution_count": null,
   "metadata": {},
   "outputs": [],
   "source": [
    "\n",
    "# Filtro de sobel sobre eje x\n",
    "display_gray(img_gray, cv2.Sobel(img_gray, cv2.CV_64F, 1, 0, ksize=5))"
   ]
  },
  {
   "cell_type": "code",
   "execution_count": null,
   "metadata": {},
   "outputs": [],
   "source": [
    "# Filtro de sobel sobre eje y\n",
    "display_gray(img_gray, cv2.Sobel(img_gray, cv2.CV_64F, 0, 1, ksize=5))"
   ]
  },
  {
   "cell_type": "code",
   "execution_count": null,
   "metadata": {},
   "outputs": [],
   "source": [
    "# filtro laplaciano\n",
    "display_gray(img_gray, cv2.Laplacian(img_gray, cv2.CV_64F))"
   ]
  },
  {
   "cell_type": "markdown",
   "metadata": {},
   "source": [
    "## Filtro de Canny\n",
    "Sin embargo, si se desea encontrar los bordes presentes en una imagen, existe un algoritmo bastante conocido para realizar esa tarea, el algoritmo de Canny. OpenCV cuenta con una implementación optimizada.\n",
    "\n",
    "El algoritmo de Canny cuenta con varios pasos secuenciales para poder hallar y resaltar los bordes de una imagen:\n",
    "\n",
    "  1. Reducción de ruido\n",
    "  2. Cálculo de la intensidad de la gradiente\n",
    "  3. Supresión de no máximos\n",
    "  4. Umbrales por histéresis\n",
    "  "
   ]
  },
  {
   "cell_type": "code",
   "execution_count": null,
   "metadata": {},
   "outputs": [],
   "source": [
    "display_gray(img_gray, cv2.Canny(img_gray, 100, 200))"
   ]
  }
 ],
 "metadata": {
  "interpreter": {
   "hash": "62eb3e910e44ea0e9978ea29c6f3fc7540fb99bfa181faf1a80d42ed442aa249"
  },
  "kernelspec": {
   "display_name": "Python 3.8.10 64-bit ('unifranz': virtualenv)",
   "name": "python3"
  },
  "language_info": {
   "codemirror_mode": {
    "name": "ipython",
    "version": 3
   },
   "file_extension": ".py",
   "mimetype": "text/x-python",
   "name": "python",
   "nbconvert_exporter": "python",
   "pygments_lexer": "ipython3",
   "version": "3.11.5"
  },
  "orig_nbformat": 4
 },
 "nbformat": 4,
 "nbformat_minor": 2
}
