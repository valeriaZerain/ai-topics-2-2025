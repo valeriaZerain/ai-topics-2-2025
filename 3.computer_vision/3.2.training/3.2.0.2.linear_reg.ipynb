{
 "cells": [
  {
   "cell_type": "code",
   "execution_count": 1,
   "metadata": {},
   "outputs": [
    {
     "name": "stdout",
     "output_type": "stream",
     "text": [
      "torch.Size([442, 11]) torch.Size([442])\n"
     ]
    }
   ],
   "source": [
    "import random\n",
    "import torch\n",
    "import numpy as np\n",
    "from sklearn.datasets import load_diabetes\n",
    "# X y y ya son arrays de numpy\n",
    "X, y = load_diabetes(return_X_y=True)\n",
    "\n",
    "m = X.shape[0]\n",
    "unos = np.ones((m, 1))\n",
    "X = np.append(unos, X, axis=1)\n",
    "\n",
    "X = torch.tensor(X, dtype=torch.float32)\n",
    "y = torch.tensor(y, dtype=torch.float32)\n",
    "print(X.shape, y.shape)"
   ]
  },
  {
   "cell_type": "code",
   "execution_count": 6,
   "metadata": {},
   "outputs": [
    {
     "data": {
      "text/plain": [
       "tensor([151.,  75., 141., 206., 135.,  97., 138.,  63., 110., 310.])"
      ]
     },
     "execution_count": 6,
     "metadata": {},
     "output_type": "execute_result"
    }
   ],
   "source": [
    "y[:10]"
   ]
  },
  {
   "cell_type": "code",
   "execution_count": 2,
   "metadata": {},
   "outputs": [
    {
     "name": "stdout",
     "output_type": "stream",
     "text": [
      "tensor([[0.6393],\n",
      "        [0.7706],\n",
      "        [0.5550],\n",
      "        [0.5088],\n",
      "        [0.2063],\n",
      "        [0.0211],\n",
      "        [0.1496],\n",
      "        [0.2393],\n",
      "        [0.3284],\n",
      "        [0.6406],\n",
      "        [0.8408]], requires_grad=True) torch.Size([11, 1])\n"
     ]
    }
   ],
   "source": [
    "n = 20\n",
    "# learning rate\n",
    "alpha = torch.tensor(0.001, dtype=torch.float32)\n",
    "# weights matrix\n",
    "theta = torch.rand((X.shape[1], 1), dtype=torch.float32, requires_grad=True)\n",
    "print(theta, theta.shape)\n",
    "cost_history = []"
   ]
  },
  {
   "cell_type": "code",
   "execution_count": 3,
   "metadata": {},
   "outputs": [
    {
     "name": "stdout",
     "output_type": "stream",
     "text": [
      "terminado\n",
      "costo inicial: 6382563.5\n",
      "costo final: 1310507.25\n"
     ]
    }
   ],
   "source": [
    "# entrenamiento usando torch autograd\n",
    "for i in range(n):\n",
    "    #forward pass\n",
    "    # regresion lineal\n",
    "    z = torch.matmul(X, theta)\n",
    "    # costo\n",
    "    # (1/(2*m))*np.sum(np.square(hyp(x, w, b) - y))\n",
    "    J = (1/(2 * m)) * torch.sum(torch.square(z - y))\n",
    "    cost_history.append(J.item())\n",
    "    # print(i, J)\n",
    "    # backward pass\n",
    "    # compute gradients\n",
    "    J.backward()\n",
    "    # print(f'dtheta: {dtheta}')\n",
    "    with torch.no_grad():\n",
    "        theta -= alpha * theta.grad \n",
    "    # reset gradients\n",
    "    theta.grad.zero_()\n",
    "\n",
    "print('terminado')\n",
    "print(f'costo inicial: {cost_history[0]}\\ncosto final: {cost_history[-1]}')"
   ]
  },
  {
   "cell_type": "code",
   "execution_count": null,
   "metadata": {},
   "outputs": [],
   "source": []
  },
  {
   "cell_type": "code",
   "execution_count": 4,
   "metadata": {},
   "outputs": [
    {
     "data": {
      "text/plain": [
       "[6382563.5,\n",
       " 2889763.25,\n",
       " 1802231.0,\n",
       " 1463612.5,\n",
       " 1358179.0,\n",
       " 1325350.75,\n",
       " 1315129.25,\n",
       " 1311946.5,\n",
       " 1310955.5,\n",
       " 1310646.875,\n",
       " 1310550.875,\n",
       " 1310521.0,\n",
       " 1310511.75,\n",
       " 1310508.625,\n",
       " 1310507.625,\n",
       " 1310507.5,\n",
       " 1310507.5,\n",
       " 1310507.375,\n",
       " 1310507.375,\n",
       " 1310507.25]"
      ]
     },
     "execution_count": 4,
     "metadata": {},
     "output_type": "execute_result"
    }
   ],
   "source": [
    "cost_history"
   ]
  },
  {
   "cell_type": "code",
   "execution_count": 5,
   "metadata": {},
   "outputs": [
    {
     "data": {
      "image/png": "[encoded data removed]",
      "text/plain": [
       "<Figure size 640x480 with 1 Axes>"
      ]
     },
     "metadata": {},
     "output_type": "display_data"
    }
   ],
   "source": [
    "import matplotlib.pyplot as plt\n",
    "it = list(range(n))\n",
    "plt.plot(it, cost_history)\n",
    "plt.show()"
   ]
  }
 ],
 "metadata": {
  "kernelspec": {
   "display_name": "cv_unifranz",
   "language": "python",
   "name": "python3"
  },
  "language_info": {
   "codemirror_mode": {
    "name": "ipython",
    "version": 3
   },
   "file_extension": ".py",
   "mimetype": "text/x-python",
   "name": "python",
   "nbconvert_exporter": "python",
   "pygments_lexer": "ipython3",
   "version": "3.11.9"
  }
 },
 "nbformat": 4,
 "nbformat_minor": 2
}
