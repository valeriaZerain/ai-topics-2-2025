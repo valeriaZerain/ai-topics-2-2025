{
 "cells": [
  {
   "cell_type": "markdown",
   "metadata": {
    "colab_type": "text",
    "id": "ZIAkIlfmCe1B"
   },
   "source": [
    "# Pytorch NN"
   ]
  },
  {
   "cell_type": "markdown",
   "metadata": {
    "colab_type": "text",
    "id": "fA93WUy1zzWf"
   },
   "source": [
    "En este caso, iniciaremos con un ejemplo muy sencillo para mostrar el enfoque de torch.nn.\n",
    "\n",
    "Se puede entender una red neuronal como una forma de relacionar varios numeros. Por ejemplo, si tuviéramos que definir una función, las 'reglas' son conocidas:\n",
    "\n",
    "```\n",
    "float hw_function(float x){\n",
    "    float y = (2 * x) - 1;\n",
    "    return y;\n",
    "}\n",
    "```\n",
    "\n",
    "La pregunta es, cómo logramos entrenar una red neuronal para realizar una tarea equivalente? Usando datos!. Si alimentamos una red con un conjunto de valores de X y Y, la misma debería ser capaz de \"aprender\" la relación entre tales valores."
   ]
  },
  {
   "cell_type": "markdown",
   "metadata": {
    "colab_type": "text",
    "id": "DzbtdRcZDO9B"
   },
   "source": [
    "## Módulos necesarios\n",
    "Importamos pytorch y numpy para ayudarnos a representar nuestros datos de manera sencilla.\n",
    "\n",
    "Usaremos torch.nn para representar nuestro modelo como una clase con una secuencia de capas."
   ]
  },
  {
   "cell_type": "code",
   "execution_count": 1,
   "metadata": {
    "colab": {},
    "colab_type": "code",
    "id": "X9uIpOS2zx7k"
   },
   "outputs": [],
   "source": [
    "import torch\n",
    "from torch import nn\n",
    "\n",
    "import numpy as np"
   ]
  },
  {
   "cell_type": "markdown",
   "metadata": {
    "colab_type": "text",
    "id": "wwJGmDrQ0EoB"
   },
   "source": [
    "## Definir la red neuronal\n",
    "\n",
    "Vamos a crear la red neuronal más simple posible. Posee 1 capa, la capa tiene 1 neurona y los valores de entrada tienen dimensión 1.\n",
    "En pytorch, esto se logra a través de una clase que herede de la clase nn.Module. Esta clase contiene diversas herramientas y utilidades exclusivas para el trabajo con redes neuronales."
   ]
  },
  {
   "cell_type": "code",
   "execution_count": 2,
   "metadata": {
    "colab": {},
    "colab_type": "code",
    "id": "kQFAr_xo0M4T"
   },
   "outputs": [
    {
     "name": "stdout",
     "output_type": "stream",
     "text": [
      "BasicNN(\n",
      "  (linear_stack): Sequential(\n",
      "    (0): Linear(in_features=1, out_features=1, bias=True)\n",
      "  )\n",
      ")\n"
     ]
    }
   ],
   "source": [
    "# model = tf.keras.Sequential(\n",
    "#     [\n",
    "#         keras.layers.Dense(units=1, input_shape=[1])\n",
    "#     ]\n",
    "# )\n",
    "class BasicNN(nn.Module):\n",
    "    def __init__(self):\n",
    "        super().__init__()\n",
    "        self.linear_stack = nn.Sequential(\n",
    "            nn.Linear(in_features=1, out_features=1)\n",
    "        )\n",
    "\n",
    "    def forward(self, x):\n",
    "        out = self.linear_stack(x)\n",
    "        return out\n",
    "    \n",
    "model = BasicNN()\n",
    "print(model)"
   ]
  },
  {
   "cell_type": "markdown",
   "metadata": {
    "colab_type": "text",
    "id": "KhjZjZ-c0Ok9"
   },
   "source": [
    "En este ejemplo, nosotros sabemos que la relación entre los números es $y = 2x - 1$ \n",
    "\n",
    "Cuando la red está intentando \"aprender\" dicha relación, realiza predicciones como intentando adivinar. La **función de costo** compara las predicciones contra las respuestas correctas y mide qué tan buena o cercana fue la predicción al valor correcto.\n",
    "\n",
    "Luego, se usa el **optimizador** para intentar disminuir el valor del costo. El optimizador intentará acercarse a la respuesta correcta en base al valor del costo.\n",
    "\n",
    "Este proceso se repetirá por un número de **épocas** determinadas. En este ejemplo, se usará el error cuadrático medio o MSE para el costo y el descenso de gradiente estocástico o SGD para el optimizador."
   ]
  },
  {
   "cell_type": "code",
   "execution_count": null,
   "metadata": {
    "colab": {},
    "colab_type": "code",
    "id": "m8YQN1H41L-Y"
   },
   "outputs": [],
   "source": []
  },
  {
   "cell_type": "markdown",
   "metadata": {
    "colab_type": "text",
    "id": "5QyOUhFw1OUX"
   },
   "source": [
    "## Obteniendo los datos\n",
    "\n",
    "Seguidamente, obtendremos algo de datos. En este caso, 6 valores de X y 6 valores de Y. Se puede observar que la relación entre las variables está dada por $y = 2x - 1$, así que cuando $x = -1$, $y = -3$.\n",
    "\n",
    "En este caso, usaremos arrays de numpy para definir estos arreglos de datos."
   ]
  },
  {
   "cell_type": "code",
   "execution_count": 3,
   "metadata": {
    "colab": {},
    "colab_type": "code",
    "id": "4Dxk4q-jzEy4"
   },
   "outputs": [],
   "source": [
    "xs = np.array([-1.0,  0.0, 1.0, 2.0, 3.0, 4.0])\n",
    "ys = np.array([-3.0, -1.0, 1.0, 3.0, 5.0, 7.0])"
   ]
  },
  {
   "cell_type": "code",
   "execution_count": 4,
   "metadata": {},
   "outputs": [
    {
     "data": {
      "text/plain": [
       "<matplotlib.collections.PathCollection at 0x16500e550>"
      ]
     },
     "execution_count": 4,
     "metadata": {},
     "output_type": "execute_result"
    },
    {
     "data": {
      "image/png": "[encoded data removed]",
      "text/plain": [
       "<Figure size 640x480 with 1 Axes>"
      ]
     },
     "metadata": {},
     "output_type": "display_data"
    }
   ],
   "source": [
    "import matplotlib.pyplot as plt\n",
    "%matplotlib inline\n",
    "\n",
    "plt.scatter(xs, ys)"
   ]
  },
  {
   "cell_type": "markdown",
   "metadata": {
    "colab_type": "text",
    "id": "n_YcWRElnM_b"
   },
   "source": [
    "# Entrenando la red neuronal"
   ]
  },
  {
   "cell_type": "markdown",
   "metadata": {
    "colab_type": "text",
    "id": "c-Jk4dG91dvD"
   },
   "source": [
    "El proceso de entrenamiento es donde la red \"aprende\" la relación entre X y Y. En pytorch, una vez definido y el modelo se usa un bucle para realizar dicho entrenamiento.\n",
    "\n",
    "En este entrenamiento se implementa el bucle mencionado anteriormente: predicción -> costo -> optimizador\n",
    "\n",
    "Este bucle se repetirá por el número de épocas especificado.\n"
   ]
  },
  {
   "cell_type": "code",
   "execution_count": 9,
   "metadata": {
    "colab": {},
    "colab_type": "code",
    "id": "lpRrl7WK10Pq",
    "tags": [
     "outputPrepend"
    ]
   },
   "outputs": [],
   "source": [
    "# hyperparams\n",
    "learning_rate = 1e-3\n",
    "epochs = 100\n"
   ]
  },
  {
   "cell_type": "code",
   "execution_count": 10,
   "metadata": {},
   "outputs": [],
   "source": [
    "loss_fn = nn.MSELoss()\n",
    "optimizer = torch.optim.SGD(model.parameters(), lr=learning_rate)"
   ]
  },
  {
   "cell_type": "code",
   "execution_count": 11,
   "metadata": {},
   "outputs": [],
   "source": [
    "def train_loop(X, y,model, loss_fn, optimizer):\n",
    "    # train mode\n",
    "    model.train()\n",
    "    for x_sample, y_sample in zip(X, y):\n",
    "        # forward\n",
    "        x_sample = x_sample.unsqueeze(0)\n",
    "        y_sample = torch.tensor(y_sample, dtype=torch.float32).unsqueeze(0)\n",
    "        pred = model(x_sample)\n",
    "        loss = loss_fn(pred, y_sample)\n",
    "        # backward\n",
    "        loss.backward()\n",
    "        optimizer.step()\n",
    "        optimizer.zero_grad()\n",
    "\n",
    "        \n"
   ]
  },
  {
   "cell_type": "code",
   "execution_count": 12,
   "metadata": {},
   "outputs": [
    {
     "name": "stdout",
     "output_type": "stream",
     "text": [
      "epoch: 1\n",
      "epoch: 2\n",
      "epoch: 3\n",
      "epoch: 4\n",
      "epoch: 5\n",
      "epoch: 6\n",
      "epoch: 7\n",
      "epoch: 8\n",
      "epoch: 9\n",
      "epoch: 10\n",
      "epoch: 11\n",
      "epoch: 12\n",
      "epoch: 13\n",
      "epoch: 14\n",
      "epoch: 15\n",
      "epoch: 16\n",
      "epoch: 17\n",
      "epoch: 18\n",
      "epoch: 19\n",
      "epoch: 20\n",
      "epoch: 21\n",
      "epoch: 22\n",
      "epoch: 23\n",
      "epoch: 24\n",
      "epoch: 25\n",
      "epoch: 26\n",
      "epoch: 27\n",
      "epoch: 28\n",
      "epoch: 29\n",
      "epoch: 30\n",
      "epoch: 31\n",
      "epoch: 32\n",
      "epoch: 33\n",
      "epoch: 34\n",
      "epoch: 35\n",
      "epoch: 36\n",
      "epoch: 37\n",
      "epoch: 38\n",
      "epoch: 39\n",
      "epoch: 40\n",
      "epoch: 41\n",
      "epoch: 42\n",
      "epoch: 43\n",
      "epoch: 44\n",
      "epoch: 45\n",
      "epoch: 46\n",
      "epoch: 47\n",
      "epoch: 48\n",
      "epoch: 49\n",
      "epoch: 50\n",
      "epoch: 51\n",
      "epoch: 52\n",
      "epoch: 53\n",
      "epoch: 54\n",
      "epoch: 55\n",
      "epoch: 56\n",
      "epoch: 57\n",
      "epoch: 58\n",
      "epoch: 59\n",
      "epoch: 60\n",
      "epoch: 61\n",
      "epoch: 62\n",
      "epoch: 63\n",
      "epoch: 64\n",
      "epoch: 65\n",
      "epoch: 66\n",
      "epoch: 67\n",
      "epoch: 68\n",
      "epoch: 69\n",
      "epoch: 70\n",
      "epoch: 71\n",
      "epoch: 72\n",
      "epoch: 73\n",
      "epoch: 74\n",
      "epoch: 75\n",
      "epoch: 76\n",
      "epoch: 77\n",
      "epoch: 78\n",
      "epoch: 79\n",
      "epoch: 80\n",
      "epoch: 81\n",
      "epoch: 82\n",
      "epoch: 83\n",
      "epoch: 84\n",
      "epoch: 85\n",
      "epoch: 86\n",
      "epoch: 87\n",
      "epoch: 88\n",
      "epoch: 89\n",
      "epoch: 90\n",
      "epoch: 91\n",
      "epoch: 92\n",
      "epoch: 93\n",
      "epoch: 94\n",
      "epoch: 95\n",
      "epoch: 96\n",
      "epoch: 97\n",
      "epoch: 98\n",
      "epoch: 99\n",
      "epoch: 100\n",
      "done\n"
     ]
    },
    {
     "name": "stderr",
     "output_type": "stream",
     "text": [
      "/var/folders/_1/cy_ykqys6wl_gc741r9fs8mr0000gn/T/ipykernel_93970/1939707944.py:1: UserWarning: To copy construct from a tensor, it is recommended to use sourceTensor.clone().detach() or sourceTensor.clone().detach().requires_grad_(True), rather than torch.tensor(sourceTensor).\n",
      "  xs = torch.tensor(xs, dtype=torch.float32)\n"
     ]
    }
   ],
   "source": [
    "xs = torch.tensor(xs, dtype=torch.float32)\n",
    "yx = torch.tensor(ys, dtype=torch.float32)\n",
    "for i in range(epochs):\n",
    "    print(f\"epoch: {i + 1}\")\n",
    "    train_loop(xs, ys, model, loss_fn, optimizer)\n",
    "print(\"done\")"
   ]
  },
  {
   "cell_type": "markdown",
   "metadata": {
    "colab_type": "text",
    "id": "kaFIr71H2OZ-"
   },
   "source": [
    "Perfecto! ya tenemos un modelo entrenado para aprender la relación entre X y Y. Ahora podemos usar **model.predict** para realizar predicciones en valores nunca vistos de X. por ejemplo, 10:"
   ]
  },
  {
   "cell_type": "code",
   "execution_count": 14,
   "metadata": {
    "colab": {},
    "colab_type": "code",
    "id": "oxNzL4lS2Gui",
    "tags": []
   },
   "outputs": [
    {
     "name": "stdout",
     "output_type": "stream",
     "text": [
      "tensor([8.4955], grad_fn=<ViewBackward0>)\n"
     ]
    }
   ],
   "source": [
    "print(model(torch.tensor([5], dtype=torch.float32)))"
   ]
  },
  {
   "cell_type": "markdown",
   "metadata": {
    "colab_type": "text",
    "id": "btF2CSFH2iEX"
   },
   "source": [
    "\n"
   ]
  }
 ],
 "metadata": {
  "colab": {
   "include_colab_link": true,
   "name": "Course 1 - Part 2 - Lesson 2 - Notebook.ipynb",
   "provenance": [],
   "toc_visible": true
  },
  "interpreter": {
   "hash": "62eb3e910e44ea0e9978ea29c6f3fc7540fb99bfa181faf1a80d42ed442aa249"
  },
  "kernelspec": {
   "display_name": "Python 3.8.10 64-bit ('unifranz': virtualenv)",
   "name": "python3"
  },
  "language_info": {
   "codemirror_mode": {
    "name": "ipython",
    "version": 3
   },
   "file_extension": ".py",
   "mimetype": "text/x-python",
   "name": "python",
   "nbconvert_exporter": "python",
   "pygments_lexer": "ipython3",
   "version": "3.11.9"
  }
 },
 "nbformat": 4,
 "nbformat_minor": 0
}
